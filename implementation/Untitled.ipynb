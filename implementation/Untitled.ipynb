{
 "cells": [
  {
   "cell_type": "code",
   "execution_count": 1,
   "metadata": {
    "collapsed": true
   },
   "outputs": [],
   "source": [
    "from lib import myDataset\n",
    "from lib import proposed\n",
    "from lib import myPlot\n",
    "from lib import otherMethods\n",
    "import numpy as np\n",
    "import time\n",
    "from lib import runtime\n",
    "\n",
    "from matplotlib import pyplot as plt\n",
    "%matplotlib inline"
   ]
  },
  {
   "cell_type": "code",
   "execution_count": 5,
   "metadata": {
    "collapsed": false
   },
   "outputs": [
    {
     "name": "stdout",
     "output_type": "stream",
     "text": [
      "WineNorm\n",
      "(0.72091503267973855, 0.11765795156544651)\n",
      "Glass\n",
      "(0.58917748917748924, 0.065957321401586208)\n",
      "Iris\n",
      "(0.94666666666666666, 0.04988876515698587)\n",
      "Waveform\n",
      "(0.46039999999999992, 0.033272210626888024)\n",
      "Wdbc\n",
      "(0.89100877192982453, 0.05430499419558895)\n",
      "Usps\n",
      "(0.53695191386211172, 0.076183596997228667)\n",
      "Sonar\n",
      "(0.64880952380952384, 0.10506045123022464)\n"
     ]
    }
   ],
   "source": [
    "datas = [myDataset.loadWineNorm, myDataset.loadGlass, myDataset.loadIris,\n",
    "         myDataset.loadWaveform, myDataset.loadWdbc , myDataset.loadUsps,\n",
    "         myDataset.loadSonar]\n",
    "for data in datas:\n",
    "    print data.__name__[4:]\n",
    "    X,y = data()\n",
    "    print otherMethods.LLE10Fold(X,y)"
   ]
  },
  {
   "cell_type": "code",
   "execution_count": 7,
   "metadata": {
    "collapsed": false
   },
   "outputs": [
    {
     "name": "stdout",
     "output_type": "stream",
     "text": [
      "WineNorm\n",
      "(0.94901960784313721, 0.040002990191109436)\n",
      "Glass\n",
      "(0.60324675324675325, 0.077015225701068682)\n",
      "Iris\n",
      "(0.93333333333333335, 0.066666666666666652)\n",
      "Waveform\n",
      "(0.78839999999999999, 0.017522556891047623)\n",
      "Wdbc\n",
      "(0.89464285714285707, 0.033139396277213323)\n",
      "Usps\n",
      "(0.53600466016498483, 0.018005927177451416)\n",
      "Sonar\n",
      "(0.61547619047619051, 0.09033353415144485)\n"
     ]
    }
   ],
   "source": [
    "for data in datas:\n",
    "    print data.__name__[4:]\n",
    "    X,y = data()\n",
    "    print otherMethods.isomap10Fold(X,y)"
   ]
  },
  {
   "cell_type": "code",
   "execution_count": 8,
   "metadata": {
    "collapsed": true
   },
   "outputs": [],
   "source": [
    "catDatas = [myDataset.loadHeart2, myDataset.loadGerman2,\n",
    "            myDataset.loadDermat2, myDataset.loadStatlog2]\n"
   ]
  },
  {
   "cell_type": "code",
   "execution_count": 9,
   "metadata": {
    "collapsed": false
   },
   "outputs": [
    {
     "name": "stdout",
     "output_type": "stream",
     "text": [
      "Heart2\n",
      "(0.52258064516129044, 0.097666140454757758)\n",
      "German2\n",
      "(0.66469696969696968, 0.04695332070332054)\n",
      "Dermat2\n",
      "(0.55373015873015885, 0.086298749555570778)\n",
      "Statlog2\n",
      "(0.59259259259259256, 0.079435594776026727)\n"
     ]
    }
   ],
   "source": [
    "for data in catDatas:\n",
    "    print data.__name__[4:]\n",
    "    X,y = data()\n",
    "    print otherMethods.LLE10Fold(X,y)"
   ]
  },
  {
   "cell_type": "code",
   "execution_count": 10,
   "metadata": {
    "collapsed": false
   },
   "outputs": [
    {
     "name": "stdout",
     "output_type": "stream",
     "text": [
      "Heart2\n",
      "(0.56000000000000005, 0.075875892849678689)\n",
      "German2\n",
      "(0.66166666666666674, 0.033040379335998342)\n",
      "Dermat2\n",
      "(0.68714285714285717, 0.046166742388830867)\n",
      "Statlog2\n",
      "(0.58148148148148149, 0.099449789497018923)\n"
     ]
    }
   ],
   "source": [
    "for data in catDatas:\n",
    "    print data.__name__[4:]\n",
    "    X,y = data()\n",
    "    print otherMethods.isomap10Fold(X,y)"
   ]
  },
  {
   "cell_type": "code",
   "execution_count": null,
   "metadata": {
    "collapsed": true
   },
   "outputs": [],
   "source": []
  }
 ],
 "metadata": {
  "kernelspec": {
   "display_name": "Python 2",
   "language": "python",
   "name": "python2"
  },
  "language_info": {
   "codemirror_mode": {
    "name": "ipython",
    "version": 2
   },
   "file_extension": ".py",
   "mimetype": "text/x-python",
   "name": "python",
   "nbconvert_exporter": "python",
   "pygments_lexer": "ipython2",
   "version": "2.7.9"
  }
 },
 "nbformat": 4,
 "nbformat_minor": 0
}
