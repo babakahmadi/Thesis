{
 "cells": [
  {
   "cell_type": "code",
   "execution_count": 45,
   "metadata": {
    "collapsed": true
   },
   "outputs": [],
   "source": [
    "import numpy as np\n",
    "import pandas as pd\n",
    "import matplotlib.pyplot as plt\n",
    "import networkx as nx\n",
    "import pylab as pl\n",
    "%matplotlib inline\n",
    "import scipy as sp\n",
    "import scipy.sparse as sps\n",
    "from sklearn.cluster import KMeans\n",
    "from sklearn.cross_validation import KFold\n",
    "from sklearn.multiclass import OneVsOneClassifier\n",
    "from sklearn.svm import LinearSVC"
   ]
  },
  {
   "cell_type": "code",
   "execution_count": 2,
   "metadata": {
    "collapsed": true
   },
   "outputs": [],
   "source": [
    "def generateTwoGaussian():\n",
    "    mean1 = [-2, -2]\n",
    "    cov1 = [[1, 0], [0, 1]]  # diagonal covariance\n",
    "    mean2 = [2,2]\n",
    "    cov2 = [[1, 0], [0, 1]]  # diagonal covariance\n",
    "\n",
    "    # data\n",
    "    X = np.zeros((200,2))\n",
    "    y = np.zeros(200,dtype=int)\n",
    "    X[:100] = np.random.multivariate_normal(mean1, cov1, 100)\n",
    "    X[100:] = np.random.multivariate_normal(mean2, cov2, 100)\n",
    "    y[100:] = np.ones(100)\n",
    "    return X,y,\"Gaussian\"\n",
    "\n",
    "def generateXOR():\n",
    "    mean1 = [-2, -2]\n",
    "    cov1 = [[1, 0], [0, 1]]  # diagonal covariance\n",
    "    mean2 = [2,2]\n",
    "    cov2 = [[1, 0], [0, 1]]  # diagonal covariance\n",
    "\n",
    "    # data\n",
    "    X = np.zeros((400,2))\n",
    "    y = np.zeros(400,dtype=int)\n",
    "    X[:100] = np.random.multivariate_normal(mean1, cov1, 100)\n",
    "    X[100:200] = np.random.multivariate_normal(mean2, cov2, 100)\n",
    "    \n",
    "    \n",
    "    mean3 = [2, -2]\n",
    "    cov3 = [[1, 0], [0, 1]]  # diagonal covariance\n",
    "    mean4 = [-2, 2]\n",
    "    cov4 = [[1, 0], [0, 1]]  # diagonal covariance\n",
    "\n",
    "    X[200:300] = np.random.multivariate_normal(mean3, cov3, 100)\n",
    "    X[300:] = np.random.multivariate_normal(mean4, cov4, 100)\n",
    "    y[200:] = np.ones(200)\n",
    "    \n",
    "    return X,y,\"XOR\"\n",
    "\n",
    "def generateTwoParabola():\n",
    "    x1 = np.linspace(-10, 10, 40)\n",
    "    y1 = .22*x1**2 + .024*x1 + .04  \n",
    "\n",
    "    x2 = np.linspace(0, 20, 40)\n",
    "    y2 = -.2*(x2-10)**2 - .024*(x2-10) + 35\n",
    "\n",
    "    size = x1.shape[0]\n",
    "    EACH = 10\n",
    "    X = np.zeros((2*size*EACH,2))\n",
    "    y = np.zeros(2*size*EACH,dtype=int)\n",
    "    y[size*EACH:] = np.ones(size*EACH)\n",
    "\n",
    "    cov = [[1, 0], [0, 1]]  # diagonal covariance\n",
    "    for i in range(size):\n",
    "        X[i*EACH:(i+1)*EACH] = np.random.multivariate_normal([x1[i],y1[i]], cov, EACH)\n",
    "        X[(i+size)*EACH:(i+size+1)*EACH] = np.random.multivariate_normal([x2[i],y2[i]], cov, EACH)\n",
    "    return X,y,\"Parabolas\""
   ]
  },
  {
   "cell_type": "code",
   "execution_count": 3,
   "metadata": {
    "collapsed": true
   },
   "outputs": [],
   "source": [
    "colors = ['b', 'g', 'r', 'c', 'm', 'y', 'k', 'w']\n",
    "def plotData(X,y,dataName):\n",
    "    num = len(np.unique(sorted(y)))\n",
    "    for i in range(num):\n",
    "        plt.plot(X[:,0][y==i], X[:,1][y==i], colors[i%8]+'o')\n",
    "    plt.axis('equal')\n",
    "#     plt.savefig(dataName+'.jpg')\n",
    "    plt.show()\n",
    "\n",
    "\n",
    "\n",
    "\n",
    "def Prototyping(X,numP):\n",
    "    kmeans = KMeans(init='k-means++',n_clusters=numP)\n",
    "    kmeans.fit(X)\n",
    "\n",
    "    centers = kmeans.cluster_centers_\n",
    "#     plotData(X,kmeans.labels_,\"Two Gaussian\")\n",
    "    \n",
    "    return centers\n",
    "def distance2(p1,p2):\n",
    "    ans = 0\n",
    "    for i in xrange(p1.shape[0]):\n",
    "        ans += (p1[i] - p2[i]) ** 2\n",
    "    return ans\n",
    "def similarity(p1,p2,sigma):\n",
    "    return np.exp((-distance2(p1,p2))/(2*(sigma**2)))"
   ]
  },
  {
   "cell_type": "code",
   "execution_count": 4,
   "metadata": {
    "collapsed": true
   },
   "outputs": [],
   "source": [
    "def bipartiteUnsupervised(X,centers,sigma):\n",
    "    numS = X.shape[0]\n",
    "    numP = centers.shape[0]\n",
    "#     print numS,numP\n",
    "    N = numS + numP\n",
    "    W = sps.lil_matrix((N,N))\n",
    "    for i in xrange(numS):\n",
    "        for j in xrange(numP):\n",
    "            W[i,numS+j] = similarity(X[i],centers[j],sigma)\n",
    "            W[numS+j,i] = W[i,numS+j]\n",
    "    W = sps.csr_matrix(W)\n",
    "    d = np.array(W.sum(axis=0))\n",
    "    D = sps.diags(d,[0])\n",
    "    L = D - W\n",
    "    return W,D,L"
   ]
  },
  {
   "cell_type": "code",
   "execution_count": 5,
   "metadata": {
    "collapsed": false
   },
   "outputs": [
    {
     "data": {
      "image/png": "[encoded data removed]",
      "text/plain": [
       "<matplotlib.figure.Figure at 0x17b87a90>"
      ]
     },
     "metadata": {},
     "output_type": "display_data"
    },
    {
     "data": {
      "text/plain": [
       "[<matplotlib.lines.Line2D at 0x17de8240>]"
      ]
     },
     "execution_count": 5,
     "metadata": {},
     "output_type": "execute_result"
    },
    {
     "data": {
      "image/png": "[encoded data removed]",
      "text/plain": [
       "<matplotlib.figure.Figure at 0x17c9f358>"
      ]
     },
     "metadata": {},
     "output_type": "display_data"
    }
   ],
   "source": [
    "#supervisedBipartite10Fold\n",
    "X,y,name = generateXOR()\n",
    "plt.plot(X[:,0][y==0],X[:,1][y==0],'ro')\n",
    "plt.plot(X[:,0][y==1],X[:,1][y==1],'bo')\n",
    "plt.show()\n",
    "\n",
    "numP = 40\n",
    "centers = Prototyping(X,numP)\n",
    "plt.plot(centers[:,0],centers[:,1],'bo')"
   ]
  },
  {
   "cell_type": "code",
   "execution_count": 6,
   "metadata": {
    "collapsed": false
   },
   "outputs": [
    {
     "data": {
      "image/png": "[encoded data removed]",
      "text/plain": [
       "<matplotlib.figure.Figure at 0x17de8eb8>"
      ]
     },
     "metadata": {},
     "output_type": "display_data"
    },
    {
     "data": {
      "image/png": "[encoded data removed]",
      "text/plain": [
       "<matplotlib.figure.Figure at 0x18393ef0>"
      ]
     },
     "metadata": {},
     "output_type": "display_data"
    }
   ],
   "source": [
    "sigma = .1\n",
    "numS = X.shape[0]\n",
    "\n",
    "W,D,L = bipartiteUnsupervised(X,centers,sigma)\n",
    "vals, vecs = sps.linalg.eigs(L, k=3)\n",
    "vals = vals.real\n",
    "vecs = vecs.real[:numS]\n",
    "plt.plot(vecs[:,0][y==1],vecs[:,1][y==1],'ro')\n",
    "plt.plot(vecs[:,0][y==0],vecs[:,1][y==0],'bo')\n",
    "plt.show()\n",
    "plt.plot(vecs[:,0][y==0],vecs[:,1][y==0],'bo')\n",
    "plt.plot(vecs[:,0][y==1],vecs[:,1][y==1],'ro')\n",
    "plt.show()"
   ]
  },
  {
   "cell_type": "code",
   "execution_count": 7,
   "metadata": {
    "collapsed": false
   },
   "outputs": [],
   "source": [
    "\n",
    "# sigma = 20\n",
    "\n",
    "# for sigma in [.01,.02,.05,.1,.2,.5,1,2,5,10,15,20,25,30,35]:\n",
    "#     print '=======================================================================',sigma\n",
    "#     W,D,L = bipartiteUnsupervised(X,centers,sigma)\n",
    "#     try:\n",
    "#         vals, vecs = sps.linalg.eigs(L, M=D, k=7)\n",
    "#         vals = vals.real\n",
    "#         vecs = vecs.real[:numS]\n",
    "#         for i in xrange(1,7,2):\n",
    "#             print '------------------------------------------'+str(i),str(i+1)+'---------------'\n",
    "#             plt.plot(vecs[:,i][y==1],vecs[:,i+1][y==1],'ro')\n",
    "#             plt.plot(vecs[:,i][y==0],vecs[:,i+1][y==0],'bo')\n",
    "#             plt.show()\n",
    "#             plt.plot(vecs[:,i][y==0],vecs[:,i+1][y==0],'bo')\n",
    "#             plt.plot(vecs[:,i][y==1],vecs[:,i+1][y==1],'ro')\n",
    "#             plt.show()\n",
    "#     except Exception as e:\n",
    "#         print e"
   ]
  },
  {
   "cell_type": "code",
   "execution_count": 8,
   "metadata": {
    "collapsed": true
   },
   "outputs": [],
   "source": [
    "# from sklearn import neighbors\n",
    "# kf = KFold(numS,n_folds=10,shuffle=True)\n",
    "\n",
    "# Means = np.zeros(20)\n",
    "# for sigma in xrange(1,20):\n",
    "#     acc = []\n",
    "#     for train_index,test_index in kf:\n",
    "#         W,D,L = bipartiteUnsupervised(X,centers,sigma)\n",
    "#         vals, vecs = sps.linalg.eigs(L, M=D, k=7)\n",
    "#         vals = vals.real\n",
    "#         vecs = vecs.real[:numS]\n",
    "#         yTrain = y[train_index]\n",
    "#         yTest = y[test_index]\n",
    "#         newRepTrain = vecs[:,:6][train_index]\n",
    "#         newRepTest = vecs[:,:6][test_index]\n",
    "#         NN = neighbors.KNeighborsClassifier()\n",
    "#         NN.fit(newRepTrain,yTrain)\n",
    "#         XPred = NN.predict(newRepTest)\n",
    "#         acc.append(np.sum(XPred==yTest)*1.0/yTest.shape[0])\n",
    "#     print \"sigma is:\",sigma,\" ,accuracy:\",acc\n",
    "#     print \"Mean:\", np.mean(acc), \"std:\",np.std(acc)\n",
    "#     Means[sigma-1] = np.mean(acc)"
   ]
  },
  {
   "cell_type": "code",
   "execution_count": 9,
   "metadata": {
    "collapsed": false
   },
   "outputs": [],
   "source": [
    "# print Means.shape\n",
    "# plt.plot(range(1,20),Means[:19])\n",
    "# plt.xlabel('sigma')\n",
    "# plt.ylabel('accuracy')"
   ]
  },
  {
   "cell_type": "code",
   "execution_count": 10,
   "metadata": {
    "collapsed": true
   },
   "outputs": [],
   "source": [
    "# wine  -------------------------------------------------------------------------------------------------\n",
    "def loadWine():\n",
    "    wineData = pd.read_csv('data/wine.data',header=None)\n",
    "    wineY = wineData[0].apply(lambda x: x-1).values\n",
    "    wineX = wineData.drop(0,axis=1)\n",
    "    wineX = wineX.values\n",
    "    return wineX,wineY\n",
    "\n",
    "# wine  -------------------------------------------------------------------------------------------------\n",
    "def loadWineNorm():\n",
    "    wineData = pd.read_csv('data/wine.data',header=None)\n",
    "    wineY = wineData[0].apply(lambda x: x-1).values\n",
    "    wineX = wineData.drop(0,axis=1)\n",
    "    wineX = wineX.values\n",
    "    wineX = (wineX - wineX.mean(axis=0))/(wineX.max(axis=0)-wineX.min(axis=0))\n",
    "    return wineX,wineY\n",
    "\n",
    "# glass  -------------------------------------------------------------------------------------------------\n",
    "def loadGlass():\n",
    "    glassData = pd.read_csv('data/glass.data',header=None)\n",
    "    glassY = glassData[10].apply(lambda x: x-1 if x<4 else x-2).values\n",
    "    glassX = glassData.drop([0,10],axis=1)\n",
    "    glassX = glassX.values\n",
    "    return glassX,glassY\n",
    "    \n",
    "# sonar  -------------------------------------------------------------------------------------------------\n",
    "def loadSonar():\n",
    "    sonarData = pd.read_csv('data/sonar.data',header=None)\n",
    "    sonarY = (sonarData[60].apply(lambda x: 0 if x=='M' else 1)).values\n",
    "    sonarX = sonarData.drop(60,axis=1)\n",
    "    sonarX = sonarX.values\n",
    "    return sonarX,sonarY\n",
    "\n",
    "# iris  -------------------------------------------------------------------------------------------------\n",
    "def irisLableSet(name):\n",
    "    names = ['Iris-setosa', 'Iris-versicolor', 'Iris-virginica']\n",
    "    for i in xrange(3):\n",
    "        if names[i] == name:\n",
    "            return i\n",
    "def loadIris():\n",
    "    irisData = pd.read_csv('data/iris.data',header=None)\n",
    "    irisY = irisData[4].apply(irisLableSet).values\n",
    "    irisX = irisData.drop(4,axis=1)\n",
    "    irisX = irisX.values\n",
    "    return irisX,irisY\n",
    "    \n",
    "# mnist   -------------------------------------------------------------------------------------------------\n",
    "import scipy.io\n",
    "def loadMnist():\n",
    "    mnist = scipy.io.loadmat('data/mnistAll.mat')\n",
    "    trains = []\n",
    "    labels = []\n",
    "    tests = []\n",
    "    for i in range(10):\n",
    "        trains.append(mnist['train'+str(i)])\n",
    "        num = mnist['train'+str(i)].shape[0]\n",
    "        labels.append(i*np.ones(num,dtype=int))\n",
    "    mnistX = np.concatenate(trains)\n",
    "    mnistY = np.concatenate(labels)\n",
    "    return mnistX,mnistY\n",
    "    \n",
    "# breast cancer  -------------------------------------------------------------------------------------------------\n",
    "def loadWdbc():\n",
    "    wdbcData = pd.read_csv('data/wdbc.data',header=None)\n",
    "    wdbcY = (wdbcData[1].apply(lambda x: 0 if x=='M' else 1)).values\n",
    "    wdbcX = wdbcData.drop([0,1],axis=1)\n",
    "    wdbcX = wdbcX.values\n",
    "    return wdbcX,wdbcY\n",
    "\n",
    "# usps   -------------------------------------------------------------------------------------------------\n",
    "def loadUsps():\n",
    "    with open('data/usps/usps_train.jf','r') as f:\n",
    "        i = 0\n",
    "        lines = f.readlines()\n",
    "        uspsX = np.zeros((len(lines),256))\n",
    "        uspsY = np.zeros(len(lines),dtype=int)\n",
    "        for line in lines:\n",
    "            splitedLine = line.split()\n",
    "            features = map(float,splitedLine[1:])\n",
    "            uspsY[i] = int(splitedLine[0])\n",
    "            for j in xrange(256):\n",
    "                uspsX[i,j] = features[j]\n",
    "            i += 1\n",
    "    return uspsX,uspsY\n",
    "\n",
    "# waveform  -------------------------------------------------------------------------------------------------\n",
    "def loadWaveform():\n",
    "    waveformData = pd.read_csv('data/waveForm/waveform.data',header=None)\n",
    "    waveformY = waveformData[21].values\n",
    "    waveformX = waveformData.drop(21,axis=1)\n",
    "    waveformX = waveformX.values\n",
    "    return waveformX,waveformY   "
   ]
  },
  {
   "cell_type": "code",
   "execution_count": 11,
   "metadata": {
    "collapsed": true
   },
   "outputs": [],
   "source": [
    "from sklearn import neighbors\n",
    "def unsupervised10Fold(X,y,numP,sigma):\n",
    "#     numP = 40\n",
    "    numS = X.shape[0]\n",
    "    centers = Prototyping(X,numP)\n",
    "    acc = []\n",
    "    kf = KFold(numS,n_folds=10,shuffle=True)\n",
    "    i = 0\n",
    "    for train_index,test_index in kf:\n",
    "        W,D,L = bipartiteUnsupervised(X,centers,sigma)\n",
    "        vals, vecs = sps.linalg.eigs(L, M=D, k=7)\n",
    "        vals = vals.real\n",
    "        vecs = vecs.real[:numS]\n",
    "        yTrain = y[train_index]\n",
    "        yTest = y[test_index]\n",
    "        newRepTrain = vecs[:,1:7][train_index]\n",
    "        newRepTest = vecs[:,1:7][test_index]\n",
    "        NN = neighbors.KNeighborsClassifier(n_neighbors=2)\n",
    "        NN.fit(newRepTrain,yTrain)\n",
    "        XPred = NN.predict(newRepTest)\n",
    "        acc.append(np.sum(XPred==yTest)*1.0/yTest.shape[0])\n",
    "#         print i,\":\",acc[i]\n",
    "        i += 1\n",
    "    return np.mean(acc),np.std(acc)"
   ]
  },
  {
   "cell_type": "code",
   "execution_count": 12,
   "metadata": {
    "collapsed": true
   },
   "outputs": [],
   "source": [
    "from sklearn.naive_bayes import GaussianNB\n",
    "def unsupervised10FoldClf(X,y,numP,sigma,nclf):\n",
    "#     numP = 40\n",
    "    numS = X.shape[0]\n",
    "    centers = Prototyping(X,numP)\n",
    "    acc = []\n",
    "    kf = KFold(numS,n_folds=10,shuffle=True)\n",
    "    i = 0\n",
    "    for train_index,test_index in kf:\n",
    "        W,D,L = bipartiteUnsupervised(X,centers,sigma)\n",
    "        vals, vecs = sps.linalg.eigs(L, M=D, k=7)\n",
    "        vals = vals.real\n",
    "        vecs = vecs.real[:numS]\n",
    "        yTrain = y[train_index]\n",
    "        yTest = y[test_index]\n",
    "        newRepTrain = vecs[:,1:7][train_index]\n",
    "        newRepTest = vecs[:,1:7][test_index]\n",
    "#         NN = neighbors.KNeighborsClassifier(n_neighbors=2)\n",
    "        nclf.fit(newRepTrain,yTrain)\n",
    "        XPred = nclf.predict(newRepTest)\n",
    "        acc.append(np.sum(XPred==yTest)*1.0/yTest.shape[0])\n",
    "#         print i,\":\",acc[i]\n",
    "        i += 1\n",
    "    return np.mean(acc),np.std(acc)"
   ]
  },
  {
   "cell_type": "code",
   "execution_count": 46,
   "metadata": {
    "collapsed": false
   },
   "outputs": [
    {
     "name": "stdout",
     "output_type": "stream",
     "text": [
      "-----------------------------------------------------numP: 10\n",
      "accuracy: (0.94250000000000012, 0.037165171868296244)\n",
      "-----------------------------------------------------numP: 20\n",
      "accuracy: (0.96500000000000008, 0.029999999999999988)\n",
      "-----------------------------------------------------numP: 30\n",
      "accuracy: (0.95749999999999991, 0.022499999999999989)\n",
      "-----------------------------------------------------numP: 40\n",
      "accuracy: (0.95500000000000007, 0.038405728739343024)\n"
     ]
    }
   ],
   "source": [
    "# nclf = GaussianNB()\n",
    "nclf = predict = OneVsOneClassifier(LinearSVC(random_state=0))\n",
    "X,y,name = generateXOR()\n",
    "for numP in xrange(10,41,10):\n",
    "    print '-----------------------------------------------------numP:',numP\n",
    "    t = unsupervised10FoldClf(X,y,numP,1,nclf)\n",
    "    print \"accuracy:\",t\n",
    "# supervised10FoldRepresentation(X,y,sigma)"
   ]
  },
  {
   "cell_type": "code",
   "execution_count": 47,
   "metadata": {
    "collapsed": true
   },
   "outputs": [],
   "source": [
    "def runP(X,Y):\n",
    "    Means = np.zeros(20)\n",
    "    for numP in xrange(20,61,5):\n",
    "        print wineX.shape\n",
    "        Means[numP/5-4] = unsupervised10Fold(X,Y,numP,2)\n",
    "        # supervised10FoldRepresentation(wineX,wineY,1)\n",
    "    return Means\n",
    "\n",
    "def runSigma(X,Y,sigmas,nclf):\n",
    "    Means = np.zeros(len(sigmas))\n",
    "    Stds = np.zeros(len(sigmas))\n",
    "    numP = 30\n",
    "    idx = 0\n",
    "    for sigma in sigmas:\n",
    "#         print '--------------------------------------- sigma: ',sigma\n",
    "        try:\n",
    "            Means[idx],Stds[idx] = unsupervised10FoldClf(X,Y,numP,sigma,nclf)\n",
    "        except Exception as e:\n",
    "            print e\n",
    "        idx += 1\n",
    "#         Means[idx] = supervised10FoldRepresentation(wineX,wineY,1)\n",
    "    return Means,Stds"
   ]
  },
  {
   "cell_type": "code",
   "execution_count": 48,
   "metadata": {
    "collapsed": true
   },
   "outputs": [],
   "source": [
    "def run10Fold(X,y,sigmas,nclf):\n",
    "    result = []\n",
    "    resultStd = []\n",
    "    for i in xrange(10):\n",
    "        Means,Stds = runSigma(X,y,sigmas,nclf)\n",
    "        result.append(Means.max())\n",
    "        resultStd.append(Stds[Means.argmax()])\n",
    "        print i , Means.max(),Stds[Means.argmax()]\n",
    "    return result,resultStd"
   ]
  },
  {
   "cell_type": "code",
   "execution_count": 76,
   "metadata": {
    "collapsed": false
   },
   "outputs": [
    {
     "name": "stdout",
     "output_type": "stream",
     "text": [
      "0 0.404575163399 0.111818203762\n",
      "1 0.406209150327 0.140773829724\n",
      "2 0.41568627451 0.168519750782\n",
      "3 0.406535947712 0.176544404799\n",
      "4 0.409477124183 0.167261848975\n",
      "5 0.411111111111 0.137167728308\n",
      "6 0.406862745098 0.177323345087\n",
      "7 0.407189542484 0.188702216826\n",
      "8 0.416666666667 0.201495169426\n",
      "9 0.409150326797 0.124824623865\n"
     ]
    }
   ],
   "source": [
    "# naiveBayes = GaussianNB()\n",
    "from sklearn.svm import SVC\n",
    "from sklearn.svm import LinearSVC\n",
    "naiveBayes = OneVsOneClassifier(LinearSVC(C=1.0, class_weight=None, dual=True, fit_intercept=True))\n",
    "sigmas = [10,15,20,25,30,35,40,45,50,55,60,65,70,75]\n",
    "wineX,wineY = loadWineNorm()\n",
    "wineResult,wineResultStd = run10Fold(wineX,wineY,sigmas,naiveBayes)"
   ]
  },
  {
   "cell_type": "code",
   "execution_count": 53,
   "metadata": {
    "collapsed": false
   },
   "outputs": [
    {
     "name": "stdout",
     "output_type": "stream",
     "text": [
      "[0.39967320261437911, 0.40032679738562094, 0.39967320261437911, 0.4088235294117647, 0.40196078431372551, 0.40000000000000002, 0.40032679738562094, 0.40032679738562094, 0.40098039215686276, 0.40065359477124185]\n",
      "[0.11778359905238436, 0.093526305881938443, 0.092824840089673968, 0.17350109932369293, 0.16488215487025931, 0.11200333810468861, 0.10484289665384514, 0.14632533125671923, 0.14328528174161723, 0.1347435990999129]\n"
     ]
    }
   ],
   "source": [
    "print wineResult\n",
    "print wineResultStd"
   ]
  },
  {
   "cell_type": "code",
   "execution_count": 54,
   "metadata": {
    "collapsed": false
   },
   "outputs": [
    {
     "name": "stdout",
     "output_type": "stream",
     "text": [
      "Factor is exactly singular\n",
      "Factor is exactly singular\n",
      "ARPACK error -1: No convergence (1801 iterations, 3/7 eigenvectors converged)\n",
      "ARPACK error -1: No convergence (1801 iterations, 2/7 eigenvectors converged)\n",
      "0 0.88 0.157197681634\n",
      "Factor is exactly singular\n",
      "Factor is exactly singular\n",
      "ARPACK error -1: No convergence (1801 iterations, 0/7 eigenvectors converged) [ARPACK error -14: DNAUPD  did not find any eigenvalues to sufficient accuracy.]\n",
      "ARPACK error -1: No convergence (1801 iterations, 0/7 eigenvectors converged) [ARPACK error -14: DNAUPD  did not find any eigenvalues to sufficient accuracy.]\n",
      "1 0.92 0.102415276638\n",
      "Factor is exactly singular\n",
      "Factor is exactly singular\n",
      "ARPACK error -1: No convergence (1801 iterations, 0/7 eigenvectors converged) [ARPACK error -14: DNAUPD  did not find any eigenvalues to sufficient accuracy.]\n",
      "ARPACK error -1: No convergence (1801 iterations, 2/7 eigenvectors converged)\n",
      "2 0.906666666667 0.0611010092661\n",
      "Factor is exactly singular\n",
      "Factor is exactly singular\n",
      "ARPACK error -1: No convergence (1801 iterations, 0/7 eigenvectors converged) [ARPACK error -14: DNAUPD  did not find any eigenvalues to sufficient accuracy.]\n",
      "ARPACK error -1: No convergence (1801 iterations, 0/7 eigenvectors converged) [ARPACK error -14: DNAUPD  did not find any eigenvalues to sufficient accuracy.]\n",
      "3 0.933333333333 0.0516397779494\n",
      "Factor is exactly singular\n",
      "Factor is exactly singular\n",
      "ARPACK error -1: No convergence (1801 iterations, 5/7 eigenvectors converged)\n",
      "ARPACK error -1: No convergence (1801 iterations, 4/7 eigenvectors converged)\n",
      "4 0.946666666667 0.0581186525805\n",
      "Factor is exactly singular\n",
      "Factor is exactly singular\n",
      "ARPACK error -1: No convergence (1801 iterations, 3/7 eigenvectors converged)\n",
      "ARPACK error -1: No convergence (1801 iterations, 0/7 eigenvectors converged) [ARPACK error -14: DNAUPD  did not find any eigenvalues to sufficient accuracy.]\n",
      "5 0.913333333333 0.176509363932\n",
      "Factor is exactly singular\n",
      "Factor is exactly singular\n",
      "ARPACK error -1: No convergence (1801 iterations, 2/7 eigenvectors converged)\n",
      "ARPACK error -1: No convergence (1801 iterations, 6/7 eigenvectors converged)\n",
      "6 0.946666666667 0.0581186525805\n",
      "Factor is exactly singular\n",
      "Factor is exactly singular\n",
      "ARPACK error -1: No convergence (1801 iterations, 0/7 eigenvectors converged) [ARPACK error -14: DNAUPD  did not find any eigenvalues to sufficient accuracy.]\n",
      "ARPACK error -1: No convergence (1801 iterations, 0/7 eigenvectors converged) [ARPACK error -14: DNAUPD  did not find any eigenvalues to sufficient accuracy.]\n",
      "7 0.953333333333 0.0520683311727\n",
      "Factor is exactly singular\n",
      "Factor is exactly singular\n",
      "ARPACK error -1: No convergence (1801 iterations, 2/7 eigenvectors converged)\n",
      "ARPACK error -1: No convergence (1801 iterations, 1/7 eigenvectors converged)\n",
      "8 0.946666666667 0.049888765157\n",
      "Factor is exactly singular\n",
      "Factor is exactly singular\n",
      "ARPACK error -1: No convergence (1801 iterations, 1/7 eigenvectors converged)\n",
      "ARPACK error -1: No convergence (1801 iterations, 0/7 eigenvectors converged) [ARPACK error -14: DNAUPD  did not find any eigenvalues to sufficient accuracy.]\n",
      "9 0.853333333333 0.208273324691\n"
     ]
    }
   ],
   "source": [
    "sigmas = [.001,.01,.02,.05,.1,.2,.3,.4,.5,.6,.7,.8,.9,1]\n",
    "irisX,irisY = loadIris()\n",
    "irisResult,irisResultStd = run10Fold(irisX,irisY,sigmas,naiveBayes)"
   ]
  },
  {
   "cell_type": "code",
   "execution_count": 55,
   "metadata": {
    "collapsed": false
   },
   "outputs": [
    {
     "data": {
      "text/plain": [
       "([0.87999999999999989,\n",
       "  0.91999999999999993,\n",
       "  0.90666666666666684,\n",
       "  0.93333333333333335,\n",
       "  0.94666666666666666,\n",
       "  0.91333333333333333,\n",
       "  0.94666666666666666,\n",
       "  0.95333333333333337,\n",
       "  0.94666666666666666,\n",
       "  0.85333333333333328],\n",
       " [0.15719768163402129,\n",
       "  0.10241527663824812,\n",
       "  0.061101009266077852,\n",
       "  0.051639777949432211,\n",
       "  0.058118652580542308,\n",
       "  0.1765093639316497,\n",
       "  0.058118652580542302,\n",
       "  0.052068331172711015,\n",
       "  0.04988876515698587,\n",
       "  0.20827332469084414])"
      ]
     },
     "execution_count": 55,
     "metadata": {},
     "output_type": "execute_result"
    }
   ],
   "source": [
    "irisResult,irisResultStd"
   ]
  },
  {
   "cell_type": "code",
   "execution_count": 56,
   "metadata": {
    "collapsed": false
   },
   "outputs": [
    {
     "name": "stdout",
     "output_type": "stream",
     "text": [
      "ARPACK error -1: No convergence (2441 iterations, 0/7 eigenvectors converged) [ARPACK error -14: DNAUPD  did not find any eigenvalues to sufficient accuracy.]\n",
      "0 0.355627705628 0.0749996095765\n",
      "ARPACK error -1: No convergence (2441 iterations, 0/7 eigenvectors converged) [ARPACK error -14: DNAUPD  did not find any eigenvalues to sufficient accuracy.]\n",
      "1 0.355194805195 0.0810429037595\n",
      "ARPACK error -1: No convergence (2441 iterations, 0/7 eigenvectors converged) [ARPACK error -14: DNAUPD  did not find any eigenvalues to sufficient accuracy.]\n",
      "2 0.355194805195 0.0755063862865\n",
      "ARPACK error -1: No convergence (2441 iterations, 0/7 eigenvectors converged) [ARPACK error -14: DNAUPD  did not find any eigenvalues to sufficient accuracy.]\n",
      "3 0.356277056277 0.0908637281174\n",
      "ARPACK error -1: No convergence (2441 iterations, 0/7 eigenvectors converged) [ARPACK error -14: DNAUPD  did not find any eigenvalues to sufficient accuracy.]\n",
      "4 0.356277056277 0.0978594385143\n",
      "ARPACK error -1: No convergence (2441 iterations, 0/7 eigenvectors converged) [ARPACK error -14: DNAUPD  did not find any eigenvalues to sufficient accuracy.]\n",
      "5 0.355844155844 0.0859402766575\n",
      "ARPACK error -1: No convergence (2441 iterations, 0/7 eigenvectors converged) [ARPACK error -14: DNAUPD  did not find any eigenvalues to sufficient accuracy.]\n",
      "6 0.355844155844 0.0809894120918\n",
      "ARPACK error -1: No convergence (2441 iterations, 0/7 eigenvectors converged) [ARPACK error -14: DNAUPD  did not find any eigenvalues to sufficient accuracy.]\n",
      "7 0.356493506494 0.0858849256892\n",
      "ARPACK error -1: No convergence (2441 iterations, 0/7 eigenvectors converged) [ARPACK error -14: DNAUPD  did not find any eigenvalues to sufficient accuracy.]\n",
      "8 0.355844155844 0.106330604297\n",
      "ARPACK error -1: No convergence (2441 iterations, 0/7 eigenvectors converged) [ARPACK error -14: DNAUPD  did not find any eigenvalues to sufficient accuracy.]\n",
      "9 0.356060606061 0.0884656687476\n"
     ]
    }
   ],
   "source": [
    "sigmas = [.5,.8,1,2,3,4,5,8,10,15,20,25,30,35]\n",
    "glassX,glassY = loadGlass()\n",
    "glassResult,glassResultStd = run10Fold(glassX,glassY,sigmas,naiveBayes)"
   ]
  },
  {
   "cell_type": "code",
   "execution_count": 57,
   "metadata": {
    "collapsed": false
   },
   "outputs": [
    {
     "data": {
      "text/plain": [
       "([0.35562770562770563,\n",
       "  0.35519480519480517,\n",
       "  0.35519480519480517,\n",
       "  0.3562770562770563,\n",
       "  0.35627705627705625,\n",
       "  0.35584415584415585,\n",
       "  0.35584415584415585,\n",
       "  0.35649350649350647,\n",
       "  0.35584415584415591,\n",
       "  0.35606060606060608],\n",
       " [0.074999609576515441,\n",
       "  0.081042903759492912,\n",
       "  0.075506386286495919,\n",
       "  0.090863728117362222,\n",
       "  0.097859438514329503,\n",
       "  0.08594027665748416,\n",
       "  0.080989412091786298,\n",
       "  0.085884925689180422,\n",
       "  0.10633060429666293,\n",
       "  0.088465668747564272])"
      ]
     },
     "execution_count": 57,
     "metadata": {},
     "output_type": "execute_result"
    }
   ],
   "source": [
    "glassResult,glassResultStd"
   ]
  },
  {
   "cell_type": "code",
   "execution_count": 58,
   "metadata": {
    "collapsed": false
   },
   "outputs": [
    {
     "name": "stdout",
     "output_type": "stream",
     "text": [
      "ARPACK error -1: No convergence (5991 iterations, 6/7 eigenvectors converged)\n",
      "ARPACK error -1: No convergence (5991 iterations, 3/7 eigenvectors converged)\n",
      "ARPACK error -1: No convergence (5991 iterations, 0/7 eigenvectors converged) [ARPACK error -14: DNAUPD  did not find any eigenvalues to sufficient accuracy.]\n",
      "ARPACK error -1: No convergence (5991 iterations, 0/7 eigenvectors converged) [ARPACK error -14: DNAUPD  did not find any eigenvalues to sufficient accuracy.]\n",
      "ARPACK error -1: No convergence (5991 iterations, 0/7 eigenvectors converged) [ARPACK error -14: DNAUPD  did not find any eigenvalues to sufficient accuracy.]\n",
      "ARPACK error -1: No convergence (5991 iterations, 6/7 eigenvectors converged)\n",
      "ARPACK error -1: No convergence (5991 iterations, 5/7 eigenvectors converged)\n",
      "ARPACK error -1: No convergence (5991 iterations, 6/7 eigenvectors converged)\n",
      "ARPACK error -1: No convergence (5991 iterations, 6/7 eigenvectors converged)\n",
      "0 0.854010025063 0.0469857973526\n",
      "ARPACK error -1: No convergence (5991 iterations, 5/7 eigenvectors converged)\n",
      "ARPACK error -1: No convergence (5991 iterations, 0/7 eigenvectors converged) [ARPACK error -14: DNAUPD  did not find any eigenvalues to sufficient accuracy.]\n",
      "ARPACK error -1: No convergence (5991 iterations, 0/7 eigenvectors converged) [ARPACK error -14: DNAUPD  did not find any eigenvalues to sufficient accuracy.]\n",
      "ARPACK error -1: No convergence (5991 iterations, 0/7 eigenvectors converged) [ARPACK error -14: DNAUPD  did not find any eigenvalues to sufficient accuracy.]\n",
      "ARPACK error -1: No convergence (5991 iterations, 0/7 eigenvectors converged) [ARPACK error -14: DNAUPD  did not find any eigenvalues to sufficient accuracy.]\n",
      "ARPACK error -1: No convergence (5991 iterations, 5/7 eigenvectors converged)\n",
      "1 0.792700501253 0.0439379112889\n",
      "ARPACK error -1: No convergence (5991 iterations, 6/7 eigenvectors converged)\n",
      "ARPACK error -1: No convergence (5991 iterations, 4/7 eigenvectors converged)\n",
      "ARPACK error -1: No convergence (5991 iterations, 6/7 eigenvectors converged)\n",
      "ARPACK error -1: No convergence (5991 iterations, 6/7 eigenvectors converged)\n",
      "ARPACK error -1: No convergence (5991 iterations, 0/7 eigenvectors converged) [ARPACK error -14: DNAUPD  did not find any eigenvalues to sufficient accuracy.]\n",
      "ARPACK error -1: No convergence (5991 iterations, 0/7 eigenvectors converged) [ARPACK error -14: DNAUPD  did not find any eigenvalues to sufficient accuracy.]\n",
      "ARPACK error -1: No convergence (5991 iterations, 0/7 eigenvectors converged) [ARPACK error -14: DNAUPD  did not find any eigenvalues to sufficient accuracy.]\n",
      "ARPACK error -1: No convergence (5991 iterations, 5/7 eigenvectors converged)\n",
      "ARPACK error -1: No convergence (5991 iterations, 6/7 eigenvectors converged)\n",
      "ARPACK error -1: No convergence (5991 iterations, 5/7 eigenvectors converged)\n",
      "2 0.78204887218 0.0534230180562\n",
      "ARPACK error -1: No convergence (5991 iterations, 0/7 eigenvectors converged) [ARPACK error -14: DNAUPD  did not find any eigenvalues to sufficient accuracy.]\n",
      "ARPACK error -1: No convergence (5991 iterations, 0/7 eigenvectors converged) [ARPACK error -14: DNAUPD  did not find any eigenvalues to sufficient accuracy.]\n",
      "ARPACK error -1: No convergence (5991 iterations, 6/7 eigenvectors converged)\n",
      "ARPACK error -1: No convergence (5991 iterations, 4/7 eigenvectors converged)\n",
      "ARPACK error -1: No convergence (5991 iterations, 0/7 eigenvectors converged) [ARPACK error -14: DNAUPD  did not find any eigenvalues to sufficient accuracy.]\n",
      "ARPACK error -1: No convergence (5991 iterations, 0/7 eigenvectors converged) [ARPACK error -14: DNAUPD  did not find any eigenvalues to sufficient accuracy.]\n",
      "ARPACK error -1: No convergence (5991 iterations, 6/7 eigenvectors converged)\n",
      "3 0.776723057644 0.0700430144323\n",
      "ARPACK error -1: No convergence (5991 iterations, 6/7 eigenvectors converged)\n",
      "ARPACK error -1: No convergence (5991 iterations, 0/7 eigenvectors converged) [ARPACK error -14: DNAUPD  did not find any eigenvalues to sufficient accuracy.]\n",
      "ARPACK error -1: No convergence (5991 iterations, 5/7 eigenvectors converged)\n",
      "ARPACK error -1: No convergence (5991 iterations, 5/7 eigenvectors converged)\n",
      "ARPACK error -1: No convergence (5991 iterations, 6/7 eigenvectors converged)\n",
      "ARPACK error -1: No convergence (5991 iterations, 6/7 eigenvectors converged)\n",
      "ARPACK error -1: No convergence (5991 iterations, 6/7 eigenvectors converged)\n",
      "4 0.797994987469 0.0601420211407\n",
      "ARPACK error -1: No convergence (5991 iterations, 1/7 eigenvectors converged)\n",
      "ARPACK error -1: No convergence (5991 iterations, 0/7 eigenvectors converged) [ARPACK error -14: DNAUPD  did not find any eigenvalues to sufficient accuracy.]\n",
      "ARPACK error -1: No convergence (5991 iterations, 0/7 eigenvectors converged) [ARPACK error -14: DNAUPD  did not find any eigenvalues to sufficient accuracy.]\n",
      "ARPACK error -1: No convergence (5991 iterations, 0/7 eigenvectors converged) [ARPACK error -14: DNAUPD  did not find any eigenvalues to sufficient accuracy.]\n",
      "ARPACK error -1: No convergence (5991 iterations, 6/7 eigenvectors converged)\n",
      "ARPACK error -1: No convergence (5991 iterations, 0/7 eigenvectors converged) [ARPACK error -14: DNAUPD  did not find any eigenvalues to sufficient accuracy.]\n",
      "ARPACK error -1: No convergence (5991 iterations, 6/7 eigenvectors converged)\n",
      "ARPACK error -1: No convergence (5991 iterations, 6/7 eigenvectors converged)\n",
      "ARPACK error -1: No convergence (5991 iterations, 5/7 eigenvectors converged)\n",
      "5 0.785463659148 0.0514022806749\n",
      "ARPACK error -1: No convergence (5991 iterations, 6/7 eigenvectors converged)\n",
      "ARPACK error -1: No convergence (5991 iterations, 4/7 eigenvectors converged)\n",
      "ARPACK error -1: No convergence (5991 iterations, 0/7 eigenvectors converged) [ARPACK error -14: DNAUPD  did not find any eigenvalues to sufficient accuracy.]\n",
      "ARPACK error -1: No convergence (5991 iterations, 6/7 eigenvectors converged)\n",
      "ARPACK error -1: No convergence (5991 iterations, 0/7 eigenvectors converged) [ARPACK error -14: DNAUPD  did not find any eigenvalues to sufficient accuracy.]\n",
      "ARPACK error -1: No convergence (5991 iterations, 5/7 eigenvectors converged)\n",
      "6 0.817261904762 0.0576478644441\n",
      "ARPACK error -1: No convergence (5991 iterations, 6/7 eigenvectors converged)\n",
      "ARPACK error -1: No convergence (5991 iterations, 3/7 eigenvectors converged)\n",
      "ARPACK error -1: No convergence (5991 iterations, 5/7 eigenvectors converged)\n",
      "ARPACK error -1: No convergence (5991 iterations, 0/7 eigenvectors converged) [ARPACK error -14: DNAUPD  did not find any eigenvalues to sufficient accuracy.]\n",
      "ARPACK error -1: No convergence (5991 iterations, 0/7 eigenvectors converged) [ARPACK error -14: DNAUPD  did not find any eigenvalues to sufficient accuracy.]\n",
      "ARPACK error -1: No convergence (5991 iterations, 0/7 eigenvectors converged) [ARPACK error -14: DNAUPD  did not find any eigenvalues to sufficient accuracy.]\n",
      "ARPACK error -1: No convergence (5991 iterations, 6/7 eigenvectors converged)\n",
      "7 0.773464912281 0.0664444733316\n",
      "ARPACK error -1: No convergence (5991 iterations, 6/7 eigenvectors converged)\n",
      "ARPACK error -1: No convergence (5991 iterations, 0/7 eigenvectors converged) [ARPACK error -14: DNAUPD  did not find any eigenvalues to sufficient accuracy.]\n",
      "ARPACK error -1: No convergence (5991 iterations, 0/7 eigenvectors converged) [ARPACK error -14: DNAUPD  did not find any eigenvalues to sufficient accuracy.]\n",
      "ARPACK error -1: No convergence (5991 iterations, 0/7 eigenvectors converged) [ARPACK error -14: DNAUPD  did not find any eigenvalues to sufficient accuracy.]\n",
      "ARPACK error -1: No convergence (5991 iterations, 0/7 eigenvectors converged) [ARPACK error -14: DNAUPD  did not find any eigenvalues to sufficient accuracy.]\n",
      "ARPACK error -1: No convergence (5991 iterations, 6/7 eigenvectors converged)\n",
      "ARPACK error -1: No convergence (5991 iterations, 6/7 eigenvectors converged)\n",
      "ARPACK error -1: No convergence (5991 iterations, 5/7 eigenvectors converged)\n",
      "8 0.829511278195 0.0294798666431\n",
      "ARPACK error -1: No convergence (5991 iterations, 6/7 eigenvectors converged)\n",
      "ARPACK error -1: No convergence (5991 iterations, 6/7 eigenvectors converged)\n",
      "ARPACK error -1: No convergence (5991 iterations, 6/7 eigenvectors converged)\n",
      "ARPACK error -1: No convergence (5991 iterations, 5/7 eigenvectors converged)\n",
      "ARPACK error -1: No convergence (5991 iterations, 6/7 eigenvectors converged)\n",
      "ARPACK error -1: No convergence (5991 iterations, 0/7 eigenvectors converged) [ARPACK error -14: DNAUPD  did not find any eigenvalues to sufficient accuracy.]\n",
      "ARPACK error -1: No convergence (5991 iterations, 6/7 eigenvectors converged)\n",
      "ARPACK error -1: No convergence (5991 iterations, 6/7 eigenvectors converged)\n",
      "9 0.792355889724 0.0616715799434\n"
     ]
    }
   ],
   "source": [
    "sigmas = [10,11,12,15,20,21,22,23,24,25,26,27,28,29,30,35]\n",
    "wdbcX,wdbcY = loadWdbc()\n",
    "wdbcResult,wdbcResultStd = run10Fold(wdbcX,wdbcY,sigmas,naiveBayes)"
   ]
  },
  {
   "cell_type": "code",
   "execution_count": 59,
   "metadata": {
    "collapsed": false
   },
   "outputs": [
    {
     "data": {
      "text/plain": [
       "([0.85401002506265677,\n",
       "  0.79270050125313285,\n",
       "  0.78204887218045116,\n",
       "  0.7767230576441102,\n",
       "  0.79799498746867159,\n",
       "  0.78546365914786964,\n",
       "  0.81726190476190474,\n",
       "  0.7734649122807018,\n",
       "  0.82951127819548875,\n",
       "  0.7923558897243107],\n",
       " [0.046985797352573244,\n",
       "  0.043937911288878362,\n",
       "  0.053423018056225687,\n",
       "  0.070043014432326814,\n",
       "  0.060142021140734407,\n",
       "  0.051402280674864236,\n",
       "  0.057647864444058838,\n",
       "  0.066444473331638845,\n",
       "  0.0294798666431112,\n",
       "  0.061671579943398516])"
      ]
     },
     "execution_count": 59,
     "metadata": {},
     "output_type": "execute_result"
    }
   ],
   "source": [
    "wdbcResult,wdbcResultStd"
   ]
  },
  {
   "cell_type": "code",
   "execution_count": 60,
   "metadata": {
    "collapsed": false
   },
   "outputs": [
    {
     "name": "stdout",
     "output_type": "stream",
     "text": [
      "ARPACK error -1: No convergence (73211 iterations, 6/7 eigenvectors converged)\n",
      "0 0.659032452036 0.015284052802\n",
      "1 0.680839393427 0.00985365604068\n",
      "2 0.767655448447 0.013549625639\n",
      "3 0.738444857846 0.0142124559428\n",
      "4 0.741598549336 0.0126183953239\n",
      "5 0.690029689761 0.0196160356474\n",
      "6 0.716635661537 0.0272493178151\n",
      "ARPACK error -1: No convergence (73211 iterations, 0/7 eigenvectors converged) [ARPACK error -14: DNAUPD  did not find any eigenvalues to sufficient accuracy.]\n",
      "7 0.65409511998 0.0191337751927\n",
      "8 0.745573406994 0.0402287843171\n",
      "9 0.748181971926 0.0157016846753\n"
     ]
    }
   ],
   "source": [
    "sigmas = [1,2,5,10,15,20,24,30,35]\n",
    "uspsX,uspsY = loadUsps()\n",
    "uspsResult,uspsResultStd = run10Fold(uspsX,uspsY,sigmas,naiveBayes)\n",
    "# uspsResultStd = [0.0138733106762,.0125098424437,\n",
    "#          0.0156577174213, 0.0157205293285,\n",
    "#          0.0098564763582, 0.0135094105704,\n",
    "#          0.00913332458321,0.0142158233636,\n",
    "#          0.0138485312521]\n",
    "    \n",
    "# uspsResult = [0.840759907548,0.849678110378,\n",
    "#             0.837880188662,0.840900088318,\n",
    "#             0.841448409343,0.840213089802,\n",
    "#             0.841448973073,0.84185542214, \n",
    "#             0.841450100532]"
   ]
  },
  {
   "cell_type": "code",
   "execution_count": 61,
   "metadata": {
    "collapsed": false
   },
   "outputs": [
    {
     "data": {
      "text/plain": [
       "([0.65903245203600347,\n",
       "  0.68083939342691235,\n",
       "  0.7676554484469249,\n",
       "  0.73844485784617697,\n",
       "  0.74159854933573865,\n",
       "  0.69002968976079071,\n",
       "  0.71663566153672698,\n",
       "  0.65409511998045744,\n",
       "  0.74557340699400565,\n",
       "  0.74818197192626412],\n",
       " [0.015284052802049898,\n",
       "  0.0098536560406799339,\n",
       "  0.013549625638954819,\n",
       "  0.014212455942833919,\n",
       "  0.012618395323896062,\n",
       "  0.019616035647391804,\n",
       "  0.027249317815117875,\n",
       "  0.019133775192711935,\n",
       "  0.040228784317073607,\n",
       "  0.015701684675342706])"
      ]
     },
     "execution_count": 61,
     "metadata": {},
     "output_type": "execute_result"
    }
   ],
   "source": [
    "uspsResult,uspsResultStd"
   ]
  },
  {
   "cell_type": "code",
   "execution_count": 62,
   "metadata": {
    "collapsed": false
   },
   "outputs": [
    {
     "name": "stdout",
     "output_type": "stream",
     "text": [
      "ARPACK error -1: No convergence (50301 iterations, 3/7 eigenvectors converged)\n",
      "0 0.8408 0.0151578362572\n",
      "ARPACK error -1: No convergence (50301 iterations, 3/7 eigenvectors converged)\n",
      "1 0.8416 0.0192623986045\n",
      "ARPACK error -1: No convergence (50301 iterations, 4/7 eigenvectors converged)\n",
      "2 0.841 0.0120415945788\n",
      "ARPACK error -1: No convergence (50301 iterations, 4/7 eigenvectors converged)\n",
      "3 0.833 0.0148391374412\n",
      "ARPACK error -1: No convergence (50301 iterations, 6/7 eigenvectors converged)\n",
      "4 0.8402 0.0159110024826\n",
      "ARPACK error -1: No convergence (50301 iterations, 1/7 eigenvectors converged)\n",
      "5 0.8438 0.0155293270942\n",
      "ARPACK error -1: No convergence (50301 iterations, 4/7 eigenvectors converged)\n",
      "6 0.8338 0.0190042100599\n",
      "ARPACK error -1: No convergence (50301 iterations, 1/7 eigenvectors converged)\n",
      "7 0.8292 0.0162037032804\n",
      "ARPACK error -1: No convergence (50301 iterations, 2/7 eigenvectors converged)\n",
      "8 0.8384 0.0120266371027\n",
      "ARPACK error -1: No convergence (50301 iterations, 6/7 eigenvectors converged)\n",
      "9 0.8368 0.00815843122175\n"
     ]
    }
   ],
   "source": [
    "sigmas = [.2,.5,.6,.7,.8,.9,1,1.1,1.2,1.5,2,2.5,3,4,5,7,8,10]\n",
    "waveformX,waveformY= loadWaveform()\n",
    "waveformResult,waveformResultStd = run10Fold(waveformX,waveformY,sigmas,naiveBayes)"
   ]
  },
  {
   "cell_type": "code",
   "execution_count": 63,
   "metadata": {
    "collapsed": false
   },
   "outputs": [
    {
     "data": {
      "text/plain": [
       "([0.84079999999999999,\n",
       "  0.84160000000000001,\n",
       "  0.84099999999999997,\n",
       "  0.83299999999999996,\n",
       "  0.84019999999999995,\n",
       "  0.84379999999999988,\n",
       "  0.8338000000000001,\n",
       "  0.82919999999999994,\n",
       "  0.83840000000000003,\n",
       "  0.83679999999999988],\n",
       " [0.015157836257197146,\n",
       "  0.019262398604535227,\n",
       "  0.012041594578792305,\n",
       "  0.014839137441239613,\n",
       "  0.015911002482559031,\n",
       "  0.015529327094243343,\n",
       "  0.019004210059878839,\n",
       "  0.016203703280423257,\n",
       "  0.012026637102698337,\n",
       "  0.0081584312217484623])"
      ]
     },
     "execution_count": 63,
     "metadata": {},
     "output_type": "execute_result"
    }
   ],
   "source": [
    "waveformResult,waveformResultStd"
   ]
  },
  {
   "cell_type": "code",
   "execution_count": 64,
   "metadata": {
    "collapsed": false
   },
   "outputs": [
    {
     "name": "stdout",
     "output_type": "stream",
     "text": [
      "0 0.534047619048 0.113499528004\n",
      "1 0.534761904762 0.0807012912703\n",
      "2 0.535 0.13141498377\n",
      "3 0.535 0.12791742837\n",
      "4 0.535476190476 0.132695968118\n",
      "5 0.534523809524 0.122619047619\n",
      "6 0.535 0.110820737354\n",
      "7 0.534523809524 0.127363149624\n",
      "8 0.534047619048 0.0617401657964\n",
      "9 0.535 0.116048166167\n"
     ]
    }
   ],
   "source": [
    "sigmas = [2,3,4,4.1,4.2,4.5,4.8,5,5.1,5.2,5.5,5.8,6,7,8,10]\n",
    "sonarX,sonarY= loadSonar()\n",
    "sonarResult,sonarResultStd = run10Fold(sonarX,sonarY,sigmas,naiveBayes)"
   ]
  },
  {
   "cell_type": "code",
   "execution_count": 65,
   "metadata": {
    "collapsed": false
   },
   "outputs": [
    {
     "data": {
      "text/plain": [
       "([0.5340476190476191,\n",
       "  0.53476190476190477,\n",
       "  0.53500000000000003,\n",
       "  0.53500000000000003,\n",
       "  0.53547619047619044,\n",
       "  0.53452380952380951,\n",
       "  0.53500000000000003,\n",
       "  0.53452380952380951,\n",
       "  0.53404761904761899,\n",
       "  0.53499999999999992],\n",
       " [0.11349952800405322,\n",
       "  0.080701291270328573,\n",
       "  0.13141498376967398,\n",
       "  0.12791742836973241,\n",
       "  0.13269596811752996,\n",
       "  0.12261904761904763,\n",
       "  0.11082073735391043,\n",
       "  0.12736314962376744,\n",
       "  0.061740165796362739,\n",
       "  0.11604816616710625])"
      ]
     },
     "execution_count": 65,
     "metadata": {},
     "output_type": "execute_result"
    }
   ],
   "source": [
    "sonarResult,sonarResultStd"
   ]
  },
  {
   "cell_type": "code",
   "execution_count": 66,
   "metadata": {
    "collapsed": false
   },
   "outputs": [
    {
     "name": "stdout",
     "output_type": "stream",
     "text": [
      "0 0.525 0.159589316685\n",
      "1 0.5075 0.148660687473\n",
      "2 0.5425 0.180034718874\n",
      "3 0.56 0.222682509416\n",
      "4 0.55125 0.198624174007\n",
      "5 0.5575 0.190574788469\n",
      "6 0.5925 0.207228738355\n",
      "7 0.605 0.259639172699\n",
      "8 0.6075 0.208806130178\n",
      "9 0.6275 0.229115145724\n"
     ]
    }
   ],
   "source": [
    "sigmas = [1,2,5,10,15,20,24,30,35]\n",
    "moonX,moonY, tmp = generateTwoParabola()\n",
    "moonResult,moonResultStd = run10Fold(moonX,moonY,sigmas,naiveBayes)"
   ]
  },
  {
   "cell_type": "code",
   "execution_count": 67,
   "metadata": {
    "collapsed": false
   },
   "outputs": [
    {
     "data": {
      "text/plain": [
       "([0.52500000000000002,\n",
       "  0.50750000000000006,\n",
       "  0.54249999999999998,\n",
       "  0.55999999999999994,\n",
       "  0.55124999999999991,\n",
       "  0.55749999999999988,\n",
       "  0.59250000000000003,\n",
       "  0.60499999999999998,\n",
       "  0.60749999999999993,\n",
       "  0.62750000000000006],\n",
       " [0.15958931668504631,\n",
       "  0.14866068747318503,\n",
       "  0.18003471887388831,\n",
       "  0.2226825094164335,\n",
       "  0.19862417400709309,\n",
       "  0.19057478846898926,\n",
       "  0.20722873835450528,\n",
       "  0.25963917269934444,\n",
       "  0.20880613017821101,\n",
       "  0.22911514572371683])"
      ]
     },
     "execution_count": 67,
     "metadata": {},
     "output_type": "execute_result"
    }
   ],
   "source": [
    "moonResult,moonResultStd"
   ]
  },
  {
   "cell_type": "code",
   "execution_count": 68,
   "metadata": {
    "collapsed": false
   },
   "outputs": [],
   "source": [
    "def generateTwoDisks():\n",
    "    angle = np.arange(0, np.pi*2, 0.15)\n",
    "\n",
    "    r1 = 50\n",
    "    r2 = 20\n",
    "    size = angle.shape[0]\n",
    "\n",
    "    x1 = r1 * np.cos(angle)\n",
    "    y1 = r1 * np.sin(angle)\n",
    "\n",
    "    x2 = r2 * np.cos(angle)\n",
    "    y2 = r2 * np.sin(angle)\n",
    "\n",
    "\n",
    "    EACH = 10\n",
    "    X = np.zeros((2*size*EACH,2))\n",
    "    Y = np.zeros(2*size*EACH)\n",
    "    Y[size*EACH:] = np.ones(size*EACH)\n",
    "\n",
    "    cov = [[5, 0], [0, 5]]  # diagonal covariance\n",
    "    for i in range(size):\n",
    "        X[i*EACH:(i+1)*EACH] = np.random.multivariate_normal([x1[i],y1[i]], cov, EACH)\n",
    "        X[(i+size)*EACH:(i+size+1)*EACH] = np.random.multivariate_normal([x2[i],y2[i]], cov, EACH)\n",
    "    return X,Y,\"Disks\""
   ]
  },
  {
   "cell_type": "code",
   "execution_count": 69,
   "metadata": {
    "collapsed": false
   },
   "outputs": [
    {
     "name": "stdout",
     "output_type": "stream",
     "text": [
      "0 1.0 0.0\n",
      "ARPACK error -1: No convergence (8701 iterations, 6/7 eigenvectors converged)\n",
      "1 0.942857142857 0.171428571429\n",
      "ARPACK error -1: No convergence (8701 iterations, 0/7 eigenvectors converged) [ARPACK error -14: DNAUPD  did not find any eigenvalues to sufficient accuracy.]\n",
      "2 0.757142857143 0.0994884876942\n",
      "ARPACK error -1: No convergence (8701 iterations, 0/7 eigenvectors converged) [ARPACK error -14: DNAUPD  did not find any eigenvalues to sufficient accuracy.]\n",
      "3 0.684523809524 0.0835456479025\n",
      "ARPACK error -1: No convergence (8701 iterations, 0/7 eigenvectors converged) [ARPACK error -14: DNAUPD  did not find any eigenvalues to sufficient accuracy.]\n",
      "4 0.747619047619 0.0918751494361\n",
      "ARPACK error -1: No convergence (8701 iterations, 6/7 eigenvectors converged)\n",
      "5 1.0 0.0\n",
      "ARPACK error -1: No convergence (8701 iterations, 5/7 eigenvectors converged)\n",
      "6 0.930952380952 0.168089167569\n",
      "ARPACK error -1: No convergence (8701 iterations, 6/7 eigenvectors converged)\n",
      "7 1.0 0.0\n",
      "ARPACK error -1: No convergence (8701 iterations, 6/7 eigenvectors converged)\n",
      "8 1.0 0.0\n",
      "ARPACK error -1: No convergence (8701 iterations, 6/7 eigenvectors converged)\n",
      "ARPACK error -1: No convergence (8701 iterations, 0/7 eigenvectors converged) [ARPACK error -14: DNAUPD  did not find any eigenvalues to sufficient accuracy.]\n",
      "9 0.62619047619 0.245261210191\n"
     ]
    }
   ],
   "source": [
    "sigmas = [1,2,5,10,15,20,24,30,35]\n",
    "diskX,diskY,tmp = generateTwoDisks()\n",
    "diskResult,diskResultStd = run10Fold(diskX,diskY,sigmas,naiveBayes)"
   ]
  },
  {
   "cell_type": "code",
   "execution_count": 70,
   "metadata": {
    "collapsed": false
   },
   "outputs": [
    {
     "data": {
      "text/plain": [
       "([1.0,\n",
       "  0.94285714285714284,\n",
       "  0.75714285714285712,\n",
       "  0.68452380952380953,\n",
       "  0.74761904761904763,\n",
       "  1.0,\n",
       "  0.93095238095238098,\n",
       "  1.0,\n",
       "  1.0,\n",
       "  0.6261904761904763],\n",
       " [0.0,\n",
       "  0.17142857142857143,\n",
       "  0.099488487694172276,\n",
       "  0.083545647902489278,\n",
       "  0.091875149436070169,\n",
       "  0.0,\n",
       "  0.16808916756878847,\n",
       "  0.0,\n",
       "  0.0,\n",
       "  0.24526121019127708])"
      ]
     },
     "execution_count": 70,
     "metadata": {},
     "output_type": "execute_result"
    }
   ],
   "source": [
    "diskResult,diskResultStd"
   ]
  },
  {
   "cell_type": "code",
   "execution_count": 71,
   "metadata": {
    "collapsed": false
   },
   "outputs": [
    {
     "name": "stdout",
     "output_type": "stream",
     "text": [
      "Factor is exactly singular\n",
      "Factor is exactly singular\n",
      "ARPACK error -1: No convergence (4301 iterations, 0/7 eigenvectors converged) [ARPACK error -14: DNAUPD  did not find any eigenvalues to sufficient accuracy.]\n",
      "0 0.8525 0.128671092325\n",
      "Factor is exactly singular\n",
      "Factor is exactly singular\n",
      "Factor is exactly singular\n",
      "ARPACK error -1: No convergence (4301 iterations, 0/7 eigenvectors converged) [ARPACK error -14: DNAUPD  did not find any eigenvalues to sufficient accuracy.]\n",
      "1 0.74 0.24269322199\n",
      "Factor is exactly singular\n",
      "Factor is exactly singular\n",
      "Factor is exactly singular\n",
      "ARPACK error -1: No convergence (4301 iterations, 0/7 eigenvectors converged) [ARPACK error -14: DNAUPD  did not find any eigenvalues to sufficient accuracy.]\n",
      "2 0.885 0.0691013748054\n",
      "Factor is exactly singular\n",
      "Factor is exactly singular\n",
      "ARPACK error -1: No convergence (4301 iterations, 0/7 eigenvectors converged) [ARPACK error -14: DNAUPD  did not find any eigenvalues to sufficient accuracy.]\n",
      "3 0.765 0.0916515138991\n",
      "Factor is exactly singular\n",
      "Factor is exactly singular\n",
      "ARPACK error -1: No convergence (4301 iterations, 0/7 eigenvectors converged) [ARPACK error -14: DNAUPD  did not find any eigenvalues to sufficient accuracy.]\n",
      "4 0.89 0.0895823643358\n",
      "Factor is exactly singular\n",
      "Factor is exactly singular\n",
      "ARPACK error -1: No convergence (4301 iterations, 0/7 eigenvectors converged) [ARPACK error -14: DNAUPD  did not find any eigenvalues to sufficient accuracy.]\n",
      "5 0.9475 0.0175\n",
      "Factor is exactly singular\n",
      "Factor is exactly singular\n",
      "Factor is exactly singular\n",
      "ARPACK error -1: No convergence (4301 iterations, 0/7 eigenvectors converged) [ARPACK error -14: DNAUPD  did not find any eigenvalues to sufficient accuracy.]\n",
      "6 0.755 0.131719398723\n",
      "Factor is exactly singular\n",
      "Factor is exactly singular\n",
      "ARPACK error -1: No convergence (4301 iterations, 0/7 eigenvectors converged) [ARPACK error -14: DNAUPD  did not find any eigenvalues to sufficient accuracy.]\n",
      "7 0.91 0.0888819441732\n",
      "Factor is exactly singular\n",
      "Factor is exactly singular\n",
      "Factor is exactly singular\n",
      "ARPACK error -1: No convergence (4301 iterations, 0/7 eigenvectors converged) [ARPACK error -14: DNAUPD  did not find any eigenvalues to sufficient accuracy.]\n",
      "8 0.79 0.101980390272\n",
      "Factor is exactly singular\n",
      "Factor is exactly singular\n",
      "ARPACK error -1: No convergence (4301 iterations, 0/7 eigenvectors converged) [ARPACK error -14: DNAUPD  did not find any eigenvalues to sufficient accuracy.]\n",
      "9 0.785 0.100747208398\n"
     ]
    }
   ],
   "source": [
    "sigmas = [0.01,.02,.05,.1,.2,.5,1,2,5]\n",
    "xorX,xorY,tmp = generateXOR()\n",
    "xorResult,xorResultStd = run10Fold(xorX,xorY,sigmas,naiveBayes)"
   ]
  },
  {
   "cell_type": "code",
   "execution_count": 72,
   "metadata": {
    "collapsed": false
   },
   "outputs": [
    {
     "data": {
      "text/plain": [
       "([0.85250000000000004,\n",
       "  0.73999999999999999,\n",
       "  0.88500000000000001,\n",
       "  0.76500000000000001,\n",
       "  0.89000000000000001,\n",
       "  0.94750000000000001,\n",
       "  0.755,\n",
       "  0.90999999999999992,\n",
       "  0.78999999999999992,\n",
       "  0.78500000000000003],\n",
       " [0.12867109232457771,\n",
       "  0.24269322199023197,\n",
       "  0.069101374805426261,\n",
       "  0.091651513899116813,\n",
       "  0.089582364335844558,\n",
       "  0.017499999999999974,\n",
       "  0.13171939872319491,\n",
       "  0.088881944173155869,\n",
       "  0.10198039027185571,\n",
       "  0.10074720839804943])"
      ]
     },
     "execution_count": 72,
     "metadata": {},
     "output_type": "execute_result"
    }
   ],
   "source": [
    "xorResult,xorResultStd"
   ]
  },
  {
   "cell_type": "code",
   "execution_count": 73,
   "metadata": {
    "collapsed": true
   },
   "outputs": [],
   "source": [
    "import scipy.io as io\n",
    "def generateConcentric():\n",
    "    concentric = io.loadmat(\"Concentric_rings.mat\")\n",
    "    X = concentric['X'][:,[0,1]]\n",
    "    Y = concentric['Y'][:,0]\n",
    "    Y = (Y==1)\n",
    "    return X,Y,\"Concentric\""
   ]
  },
  {
   "cell_type": "code",
   "execution_count": 74,
   "metadata": {
    "collapsed": false
   },
   "outputs": [
    {
     "name": "stdout",
     "output_type": "stream",
     "text": [
      "Factor is exactly singular\n",
      "ARPACK error -1: No convergence (3431 iterations, 0/7 eigenvectors converged) [ARPACK error -14: DNAUPD  did not find any eigenvalues to sufficient accuracy.]\n",
      "0 0.882056451613 0.0583912179975\n",
      "Factor is exactly singular\n",
      "ARPACK error -1: No convergence (3431 iterations, 0/7 eigenvectors converged) [ARPACK error -14: DNAUPD  did not find any eigenvalues to sufficient accuracy.]\n",
      "1 0.843245967742 0.0686080296745\n",
      "Factor is exactly singular\n",
      "ARPACK error -1: No convergence (3431 iterations, 0/7 eigenvectors converged) [ARPACK error -14: DNAUPD  did not find any eigenvalues to sufficient accuracy.]\n",
      "2 0.85 0.0636978730387\n",
      "Factor is exactly singular\n",
      "ARPACK error -1: No convergence (3431 iterations, 0/7 eigenvectors converged) [ARPACK error -14: DNAUPD  did not find any eigenvalues to sufficient accuracy.]\n",
      "3 0.827318548387 0.0845525793451\n",
      "Factor is exactly singular\n",
      "ARPACK error -1: No convergence (3431 iterations, 0/7 eigenvectors converged) [ARPACK error -14: DNAUPD  did not find any eigenvalues to sufficient accuracy.]\n",
      "4 0.799294354839 0.0530292719572\n",
      "Factor is exactly singular\n",
      "ARPACK error -1: No convergence (3431 iterations, 0/7 eigenvectors converged) [ARPACK error -14: DNAUPD  did not find any eigenvalues to sufficient accuracy.]\n",
      "5 0.820766129032 0.0611967398882\n",
      "Factor is exactly singular\n",
      "ARPACK error -1: No convergence (3431 iterations, 0/7 eigenvectors converged) [ARPACK error -14: DNAUPD  did not find any eigenvalues to sufficient accuracy.]\n",
      "6 0.856552419355 0.0596362822743\n",
      "Factor is exactly singular\n",
      "ARPACK error -1: No convergence (3431 iterations, 0/7 eigenvectors converged) [ARPACK error -14: DNAUPD  did not find any eigenvalues to sufficient accuracy.]\n",
      "7 0.817641129032 0.0580988956521\n",
      "Factor is exactly singular\n",
      "ARPACK error -8: Error return from LAPACK eigenvalue calculation;\n",
      "ARPACK error -1: No convergence (3431 iterations, 0/7 eigenvectors converged) [ARPACK error -14: DNAUPD  did not find any eigenvalues to sufficient accuracy.]\n",
      "8 0.754334677419 0.0700906467909\n",
      "Factor is exactly singular\n",
      "ARPACK error -1: No convergence (3431 iterations, 0/7 eigenvectors converged) [ARPACK error -14: DNAUPD  did not find any eigenvalues to sufficient accuracy.]\n",
      "9 0.84002016129 0.089548873788\n"
     ]
    }
   ],
   "source": [
    "sigmas = [0.01,.02,.05,.1,.2,.5,1,2,5,10]\n",
    "concentricX,concentricY,tmp = generateConcentric()\n",
    "concentricResult,concentricResultStd = run10Fold(concentricX,concentricY,sigmas,naiveBayes)"
   ]
  },
  {
   "cell_type": "code",
   "execution_count": 75,
   "metadata": {
    "collapsed": false
   },
   "outputs": [
    {
     "data": {
      "text/plain": [
       "([0.88205645161290325,\n",
       "  0.84324596774193539,\n",
       "  0.84999999999999998,\n",
       "  0.82731854838709684,\n",
       "  0.7992943548387097,\n",
       "  0.82076612903225799,\n",
       "  0.85655241935483861,\n",
       "  0.81764112903225805,\n",
       "  0.75433467741935489,\n",
       "  0.84002016129032264],\n",
       " [0.058391217997486325,\n",
       "  0.06860802967453633,\n",
       "  0.063697873038717753,\n",
       "  0.084552579345087919,\n",
       "  0.053029271957223914,\n",
       "  0.061196739888206869,\n",
       "  0.059636282274313182,\n",
       "  0.058098895652056531,\n",
       "  0.070090646790851016,\n",
       "  0.089548873787983221])"
      ]
     },
     "execution_count": 75,
     "metadata": {},
     "output_type": "execute_result"
    }
   ],
   "source": [
    "concentricResult,concentricResultStd"
   ]
  },
  {
   "cell_type": "markdown",
   "metadata": {},
   "source": [
    "<h2 style=\"color:red\">---------------------------------------------------------------------------------------</h2>"
   ]
  },
  {
   "cell_type": "code",
   "execution_count": 79,
   "metadata": {
    "collapsed": false
   },
   "outputs": [
    {
     "name": "stdout",
     "output_type": "stream",
     "text": [
      "ARPACK error -1: No convergence (2081 iterations, 2/7 eigenvectors converged)\n",
      "ARPACK error -1: No convergence (2081 iterations, 4/7 eigenvectors converged)\n"
     ]
    }
   ],
   "source": [
    "sigmas = [.15,.2,.25,.3,.35,.4,.45,.5,.55,.6,.65,.7,1]\n",
    "wineXN,wineYN = loadWineNorm()\n",
    "wineMeansN = runSigma(wineXN,wineYN,sigmas)"
   ]
  },
  {
   "cell_type": "code",
   "execution_count": 80,
   "metadata": {
    "collapsed": false,
    "scrolled": true
   },
   "outputs": [
    {
     "data": {
      "text/plain": [
       "[<matplotlib.lines.Line2D at 0x1aef14e0>]"
      ]
     },
     "execution_count": 80,
     "metadata": {},
     "output_type": "execute_result"
    },
    {
     "data": {
      "image/png": "[encoded data removed]",
      "text/plain": [
       "<matplotlib.figure.Figure at 0x1b0da828>"
      ]
     },
     "metadata": {},
     "output_type": "display_data"
    }
   ],
   "source": [
    "plt.plot(sigmas,wineMeansN,'bo-')"
   ]
  },
  {
   "cell_type": "code",
   "execution_count": null,
   "metadata": {
    "collapsed": true
   },
   "outputs": [],
   "source": [
    "sigmas = [10,11,12,15,20,21,22,23,24,25,26,27,28,29,30,35]\n",
    "wdbcX,wdbcY = loadWdbc()\n",
    "wdbcMeans = runSigma(wdbcX,wdbcY,sigmas)"
   ]
  },
  {
   "cell_type": "code",
   "execution_count": 26,
   "metadata": {
    "collapsed": false
   },
   "outputs": [
    {
     "data": {
      "text/plain": [
       "[<matplotlib.lines.Line2D at 0x1813bfd0>]"
      ]
     },
     "execution_count": 26,
     "metadata": {},
     "output_type": "execute_result"
    },
    {
     "data": {
      "image/png": "[encoded data removed]",
      "text/plain": [
       "<matplotlib.figure.Figure at 0x18a1f978>"
      ]
     },
     "metadata": {},
     "output_type": "display_data"
    }
   ],
   "source": [
    "plt.plot(sigmas,wdbcMeans,'bo-')"
   ]
  },
  {
   "cell_type": "code",
   "execution_count": null,
   "metadata": {
    "collapsed": true
   },
   "outputs": [],
   "source": [
    "sigmas = [1,2,5,10,15,20,24,30,35]\n",
    "uspsX,uspsY = loadUsps()\n",
    "uspsMeans = runSigma(uspsX,uspsY,sigmas)"
   ]
  },
  {
   "cell_type": "code",
   "execution_count": 30,
   "metadata": {
    "collapsed": false
   },
   "outputs": [
    {
     "data": {
      "text/plain": [
       "[<matplotlib.lines.Line2D at 0x1815c208>]"
      ]
     },
     "execution_count": 30,
     "metadata": {},
     "output_type": "execute_result"
    },
    {
     "data": {
      "image/png": "[encoded data removed]",
      "text/plain": [
       "<matplotlib.figure.Figure at 0x18276748>"
      ]
     },
     "metadata": {},
     "output_type": "display_data"
    }
   ],
   "source": [
    "plt.plot(sigmas,uspsMeans,'bo-')"
   ]
  },
  {
   "cell_type": "code",
   "execution_count": 36,
   "metadata": {
    "collapsed": false
   },
   "outputs": [
    {
     "name": "stdout",
     "output_type": "stream",
     "text": [
      "Factor is exactly singular\n",
      "Factor is exactly singular\n",
      "Factor is exactly singular\n",
      "Factor is exactly singular\n",
      "ARPACK error -1: No convergence (50301 iterations, 6/7 eigenvectors converged)\n"
     ]
    }
   ],
   "source": [
    "sigmas = [.1,.2,.5,1,2,5,10,15,20,24,30,35]\n",
    "waveformX,waveformY= loadWaveform()\n",
    "waveformMeans = runSigma(waveformX,waveformY,sigmas)"
   ]
  },
  {
   "cell_type": "code",
   "execution_count": 37,
   "metadata": {
    "collapsed": false
   },
   "outputs": [
    {
     "data": {
      "text/plain": [
       "[<matplotlib.lines.Line2D at 0x1a57df98>]"
      ]
     },
     "execution_count": 37,
     "metadata": {},
     "output_type": "execute_result"
    },
    {
     "data": {
      "image/png": "[encoded data removed]",
      "text/plain": [
       "<matplotlib.figure.Figure at 0x18276f60>"
      ]
     },
     "metadata": {},
     "output_type": "display_data"
    }
   ],
   "source": [
    "plt.plot(sigmas,waveformMeans,'bo-')"
   ]
  },
  {
   "cell_type": "code",
   "execution_count": 39,
   "metadata": {
    "collapsed": false
   },
   "outputs": [
    {
     "name": "stdout",
     "output_type": "stream",
     "text": [
      "Factor is exactly singular\n",
      "Factor is exactly singular\n",
      "ARPACK error -1: No convergence (2381 iterations, 1/7 eigenvectors converged)\n",
      "ARPACK error -1: No convergence (2381 iterations, 0/7 eigenvectors converged) [ARPACK error -14: DNAUPD  did not find any eigenvalues to sufficient accuracy.]\n"
     ]
    }
   ],
   "source": [
    "sigmas = [0.01,.02,.05,.1,.2,.5,1,2,5,10,15,20,24,30,35]\n",
    "sonarX,sonarY= loadSonar()\n",
    "sonarMeans = runSigma(sonarX,sonarY,sigmas)"
   ]
  },
  {
   "cell_type": "code",
   "execution_count": 41,
   "metadata": {
    "collapsed": false
   },
   "outputs": [
    {
     "data": {
      "text/plain": [
       "[<matplotlib.lines.Line2D at 0x1ab5cb70>]"
      ]
     },
     "execution_count": 41,
     "metadata": {},
     "output_type": "execute_result"
    },
    {
     "data": {
      "image/png": "[encoded data removed]",
      "text/plain": [
       "<matplotlib.figure.Figure at 0x1af344a8>"
      ]
     },
     "metadata": {},
     "output_type": "display_data"
    }
   ],
   "source": [
    "plt.plot(sigmas,sonarMeans,'bo-')"
   ]
  },
  {
   "cell_type": "code",
   "execution_count": 53,
   "metadata": {
    "collapsed": false
   },
   "outputs": [
    {
     "name": "stdout",
     "output_type": "stream",
     "text": [
      "Factor is exactly singular\n",
      "Factor is exactly singular\n",
      "Factor is exactly singular\n",
      "ARPACK error -1: No convergence (8301 iterations, 6/7 eigenvectors converged)\n",
      "ARPACK error -1: No convergence (8301 iterations, 0/7 eigenvectors converged) [ARPACK error -14: DNAUPD  did not find any eigenvalues to sufficient accuracy.]\n"
     ]
    }
   ],
   "source": [
    "sigmas = [0.01,.02,.05,.1,.2,.5,1,2,5,10,15,20,24,30,35]\n",
    "moonX,moonY, tmp = generateTwoParabola()\n",
    "moonMeans = runSigma(moonX,moonY,sigmas)"
   ]
  },
  {
   "cell_type": "code",
   "execution_count": 54,
   "metadata": {
    "collapsed": false
   },
   "outputs": [
    {
     "data": {
      "text/plain": [
       "[<matplotlib.lines.Line2D at 0x1ac01390>]"
      ]
     },
     "execution_count": 54,
     "metadata": {},
     "output_type": "execute_result"
    },
    {
     "data": {
      "image/png": "[encoded data removed]",
      "text/plain": [
       "<matplotlib.figure.Figure at 0x1aa0c358>"
      ]
     },
     "metadata": {},
     "output_type": "display_data"
    }
   ],
   "source": [
    "plt.plot(sigmas,moonMeans,'bo-')"
   ]
  },
  {
   "cell_type": "code",
   "execution_count": 56,
   "metadata": {
    "collapsed": false
   },
   "outputs": [
    {
     "name": "stdout",
     "output_type": "stream",
     "text": [
      "Factor is exactly singular\n",
      "Factor is exactly singular\n",
      "Factor is exactly singular\n",
      "Factor is exactly singular\n",
      "Factor is exactly singular\n"
     ]
    }
   ],
   "source": [
    "sigmas = [0.01,.02,.05,.1,.2,.5,1,2,5,10,15,20,24,30,35]\n",
    "diskX,diskY,tmp = generateTwoDisks()\n",
    "diskMeans = runSigma(diskX,diskY,sigmas)"
   ]
  },
  {
   "cell_type": "code",
   "execution_count": 57,
   "metadata": {
    "collapsed": false
   },
   "outputs": [
    {
     "data": {
      "text/plain": [
       "[<matplotlib.lines.Line2D at 0x1c0a03c8>]"
      ]
     },
     "execution_count": 57,
     "metadata": {},
     "output_type": "execute_result"
    },
    {
     "data": {
      "image/png": "[encoded data removed]",
      "text/plain": [
       "<matplotlib.figure.Figure at 0x1ba2b1d0>"
      ]
     },
     "metadata": {},
     "output_type": "display_data"
    }
   ],
   "source": [
    "plt.plot(sigmas,diskMeans,'bo-')"
   ]
  },
  {
   "cell_type": "code",
   "execution_count": 60,
   "metadata": {
    "collapsed": false
   },
   "outputs": [
    {
     "name": "stdout",
     "output_type": "stream",
     "text": [
      "Factor is exactly singular\n",
      "Factor is exactly singular\n",
      "ARPACK error -1: No convergence (4301 iterations, 0/7 eigenvectors converged) [ARPACK error -14: DNAUPD  did not find any eigenvalues to sufficient accuracy.]\n"
     ]
    }
   ],
   "source": [
    "sigmas = [0.01,.02,.05,.1,.2,.5,1,2,5,10,15,20,24,30,35]\n",
    "xorX,xorY,tmp = generateXOR()\n",
    "xorMeans = runSigma(xorX,xorY,sigmas)"
   ]
  },
  {
   "cell_type": "code",
   "execution_count": 61,
   "metadata": {
    "collapsed": false
   },
   "outputs": [
    {
     "data": {
      "text/plain": [
       "[<matplotlib.lines.Line2D at 0x1a721518>]"
      ]
     },
     "execution_count": 61,
     "metadata": {},
     "output_type": "execute_result"
    },
    {
     "data": {
      "image/png": "[encoded data removed]",
      "text/plain": [
       "<matplotlib.figure.Figure at 0x1a7a1668>"
      ]
     },
     "metadata": {},
     "output_type": "display_data"
    }
   ],
   "source": [
    "plt.plot(sigmas,xorMeans,'bo-')"
   ]
  },
  {
   "cell_type": "code",
   "execution_count": 72,
   "metadata": {
    "collapsed": false
   },
   "outputs": [
    {
     "name": "stdout",
     "output_type": "stream",
     "text": [
      "Factor is exactly singular\n",
      "ARPACK error -1: No convergence (3431 iterations, 0/7 eigenvectors converged) [ARPACK error -14: DNAUPD  did not find any eigenvalues to sufficient accuracy.]\n",
      "ARPACK error -1: No convergence (3431 iterations, 6/7 eigenvectors converged)\n",
      "ARPACK error -1: No convergence (3431 iterations, 6/7 eigenvectors converged)\n",
      "ARPACK error -1: No convergence (3431 iterations, 6/7 eigenvectors converged)\n",
      "ARPACK error -1: No convergence (3431 iterations, 6/7 eigenvectors converged)\n",
      "ARPACK error -1: No convergence (3431 iterations, 6/7 eigenvectors converged)\n"
     ]
    }
   ],
   "source": [
    "sigmas = [0.01,.02,.05,.1,.2,.5,1,2,5,10]\n",
    "concentricX,concentricY,tmp = generateConcentric()\n",
    "concentricMeans = runSigma(concentricX,concentricY,sigmas)\n",
    "plt.plot(sigmas,concentricMeans,'bo-')"
   ]
  },
  {
   "cell_type": "code",
   "execution_count": 40,
   "metadata": {
    "collapsed": false
   },
   "outputs": [
    {
     "data": {
      "text/plain": [
       "array([1, 1, 0, 0], dtype=int64)"
      ]
     },
     "execution_count": 40,
     "metadata": {},
     "output_type": "execute_result"
    }
   ],
   "source": [
    "import numpy as np\n",
    "from sklearn import mixture\n",
    "np.random.seed(1)\n",
    "g = mixture.GMM(n_components=2)\n",
    "# Generate random observations with two modes centered on 0\n",
    "# and 10 to use for training.\n",
    "obs = np.concatenate((np.random.randn(100, 1),\n",
    "                      10 + np.random.randn(300, 1)))\n",
    "g.fit(obs) \n",
    "\n",
    "\n",
    "np.round(g.weights_, 2)\n",
    "\n",
    "np.round(g.means_, 2)\n",
    "\n",
    "\n",
    "np.round(g.covars_, 2) \n",
    "\n",
    "\n",
    "g.predict([[0], [2], [9], [10]]) "
   ]
  },
  {
   "cell_type": "code",
   "execution_count": null,
   "metadata": {
    "collapsed": true
   },
   "outputs": [],
   "source": [
    "iris = datasets.load_iris()\n",
    "\n",
    "# Break up the dataset into non-overlapping training (75%) and testing\n",
    "# (25%) sets.\n",
    "skf = StratifiedKFold(iris.target, n_folds=4)\n",
    "# Only take the first fold.\n",
    "train_index, test_index = next(iter(skf))\n",
    "\n",
    "\n",
    "X_train = iris.data[train_index]\n",
    "y_train = iris.target[train_index]\n",
    "X_test = iris.data[test_index]\n",
    "y_test = iris.target[test_index]\n",
    "n_classes = len(np.unique(y_train))\n"
   ]
  },
  {
   "cell_type": "code",
   "execution_count": 41,
   "metadata": {
    "collapsed": false
   },
   "outputs": [
    {
     "data": {
      "text/plain": [
       "array([0, 0, 0, 0, 0, 0, 0, 0, 0, 0, 0, 0, 0, 0, 0, 0, 0, 0, 0, 0, 0, 0, 0,\n",
       "       0, 0, 0, 0, 0, 0, 0, 0, 0, 0, 0, 0, 0, 0, 0, 0, 0, 0, 0, 0, 0, 0, 0,\n",
       "       0, 0, 0, 0, 1, 1, 1, 1, 1, 1, 1, 1, 1, 1, 1, 1, 1, 1, 1, 1, 1, 1, 1,\n",
       "       1, 2, 1, 2, 1, 1, 1, 1, 1, 1, 1, 1, 1, 1, 2, 1, 1, 1, 1, 1, 1, 1, 1,\n",
       "       1, 1, 1, 1, 1, 1, 1, 1, 2, 2, 2, 2, 2, 2, 2, 2, 2, 2, 2, 2, 2, 2, 2,\n",
       "       2, 2, 2, 2, 2, 2, 2, 2, 2, 2, 2, 2, 2, 2, 2, 2, 2, 2, 2, 2, 2, 2, 2,\n",
       "       2, 2, 2, 2, 2, 2, 2, 2, 2, 2, 2, 2])"
      ]
     },
     "execution_count": 41,
     "metadata": {},
     "output_type": "execute_result"
    }
   ],
   "source": [
    "from sklearn import datasets\n",
    "from sklearn.multiclass import OneVsOneClassifier\n",
    "from sklearn.svm import LinearSVC\n",
    "iris = datasets.load_iris()\n",
    "X, y = iris.data, iris.target\n",
    "OneVsOneClassifier(LinearSVC(random_state=0)).fit(X, y).predict(X)"
   ]
  },
  {
   "cell_type": "code",
   "execution_count": 44,
   "metadata": {
    "collapsed": false
   },
   "outputs": [
    {
     "data": {
      "text/plain": [
       "0.9943820224719101"
      ]
     },
     "execution_count": 44,
     "metadata": {},
     "output_type": "execute_result"
    }
   ],
   "source": [
    "from sklearn import datasets\n",
    "from sklearn.multiclass import OneVsOneClassifier\n",
    "from sklearn.svm import LinearSVC\n",
    "iris = datasets.load_iris()\n",
    "wineX, wineY = loadWineNorm()\n",
    "predict = OneVsOneClassifier(LinearSVC(random_state=0)).fit(wineX, wineY).predict(wineX)\n",
    "np.sum(predict==wineY)*1.0/predict.shape[0]\n"
   ]
  },
  {
   "cell_type": "code",
   "execution_count": null,
   "metadata": {
    "collapsed": true
   },
   "outputs": [],
   "source": []
  },
  {
   "cell_type": "code",
   "execution_count": null,
   "metadata": {
    "collapsed": true
   },
   "outputs": [],
   "source": []
  },
  {
   "cell_type": "code",
   "execution_count": null,
   "metadata": {
    "collapsed": true
   },
   "outputs": [],
   "source": []
  },
  {
   "cell_type": "code",
   "execution_count": null,
   "metadata": {
    "collapsed": true
   },
   "outputs": [],
   "source": []
  },
  {
   "cell_type": "code",
   "execution_count": null,
   "metadata": {
    "collapsed": true
   },
   "outputs": [],
   "source": []
  },
  {
   "cell_type": "markdown",
   "metadata": {},
   "source": [
    "<h2 style=\"color:red\">-------------------- NMI -------------------</h2>"
   ]
  },
  {
   "cell_type": "code",
   "execution_count": 77,
   "metadata": {
    "collapsed": true
   },
   "outputs": [],
   "source": [
    "def unsupervised10FoldNMI(X,y,numP,sigma):\n",
    "#     numP = 40\n",
    "    numS = X.shape[0]\n",
    "    numClass = len(np.unique(sorted(y)))\n",
    "    centers = Prototyping(X,numP)\n",
    "    acc = []\n",
    "    kf = KFold(numS,n_folds=10,shuffle=True)\n",
    "    i = 0\n",
    "    for train_index,test_index in kf:\n",
    "        W,D,L = bipartiteUnsupervised(X,centers,sigma)\n",
    "        vals, vecs = sps.linalg.eigs(L, M=D, k=7)\n",
    "        vals = vals.real\n",
    "        vecs = vecs.real[:numS]\n",
    "        yTrain = y[train_index]\n",
    "        yTest = y[test_index]\n",
    "        newRepTrain = vecs[:,1:7][train_index]\n",
    "        newRepTest = vecs[:,1:7][test_index]\n",
    "\n",
    "        kmeans = KMeans(init='k-means++',n_clusters=numClass)\n",
    "        kmeans.fit(newRepTest)\n",
    "        acc.append(NMI(kmeans.labels_,yTest))\n",
    "        \n",
    "        i += 1\n",
    "    return np.mean(acc),np.std(acc)"
   ]
  },
  {
   "cell_type": "code",
   "execution_count": 78,
   "metadata": {
    "collapsed": true
   },
   "outputs": [],
   "source": [
    "def runSigmaNMI(X,Y,sigmas):\n",
    "    Means = np.zeros(len(sigmas))\n",
    "    Stds = np.zeros(len(sigmas))\n",
    "    numP = 30\n",
    "    idx = 0\n",
    "    for sigma in sigmas:\n",
    "#         print '--------------------------------------- sigma: ',sigma\n",
    "        try:\n",
    "            Means[idx],Stds[idx] = unsupervised10FoldNMI(X,Y,numP,sigma)\n",
    "        except Exception as e:\n",
    "            print e\n",
    "        idx += 1\n",
    "#         Means[idx] = supervised10FoldRepresentation(wineX,wineY,1)\n",
    "    return Means,Stds"
   ]
  },
  {
   "cell_type": "code",
   "execution_count": 79,
   "metadata": {
    "collapsed": true
   },
   "outputs": [],
   "source": [
    "def run10FoldNMI(X,y,sigmas):\n",
    "    result = []\n",
    "    resultStd = []\n",
    "    for i in xrange(10):\n",
    "        Means,Stds = runSigma(X,y,sigmas,nclf)\n",
    "        result.append(Means.max())\n",
    "        resultStd.append(Stds[Means.argmax()])\n",
    "        print i , Means.max(),Stds[Means.argmax()]\n",
    "        print 'sigma:', sigmas[Means.argmax()]\n",
    "    return result,resultStd"
   ]
  },
  {
   "cell_type": "code",
   "execution_count": 80,
   "metadata": {
    "collapsed": false
   },
   "outputs": [
    {
     "name": "stdout",
     "output_type": "stream",
     "text": [
      "ARPACK error -1: No convergence (2081 iterations, 0/7 eigenvectors converged) [ARPACK error -14: DNAUPD  did not find any eigenvalues to sufficient accuracy.]\n",
      "ARPACK error -1: No convergence (2081 iterations, 0/7 eigenvectors converged) [ARPACK error -14: DNAUPD  did not find any eigenvalues to sufficient accuracy.]\n",
      "ARPACK error -1: No convergence (2081 iterations, 0/7 eigenvectors converged) [ARPACK error -14: DNAUPD  did not find any eigenvalues to sufficient accuracy.]\n",
      "ARPACK error -1: No convergence (2081 iterations, 0/7 eigenvectors converged) [ARPACK error -14: DNAUPD  did not find any eigenvalues to sufficient accuracy.]\n",
      "ARPACK error -1: No convergence (2081 iterations, 4/7 eigenvectors converged)\n",
      "ARPACK error -1: No convergence (2081 iterations, 0/7 eigenvectors converged) [ARPACK error -14: DNAUPD  did not find any eigenvalues to sufficient accuracy.]\n",
      "ARPACK error -1: No convergence (2081 iterations, 0/7 eigenvectors converged) [ARPACK error -14: DNAUPD  did not find any eigenvalues to sufficient accuracy.]\n",
      "0 0.971895424837 0.0375233989396\n",
      "sigma: 0.25\n",
      "ARPACK error -1: No convergence (2081 iterations, 2/7 eigenvectors converged)\n",
      "ARPACK error -1: No convergence (2081 iterations, 0/7 eigenvectors converged) [ARPACK error -14: DNAUPD  did not find any eigenvalues to sufficient accuracy.]\n",
      "ARPACK error -1: No convergence (2081 iterations, 0/7 eigenvectors converged) [ARPACK error -14: DNAUPD  did not find any eigenvalues to sufficient accuracy.]\n",
      "ARPACK error -1: No convergence (2081 iterations, 6/7 eigenvectors converged)\n",
      "ARPACK error -1: No convergence (2081 iterations, 0/7 eigenvectors converged) [ARPACK error -14: DNAUPD  did not find any eigenvalues to sufficient accuracy.]\n",
      "ARPACK error -1: No convergence (2081 iterations, 0/7 eigenvectors converged) [ARPACK error -14: DNAUPD  did not find any eigenvalues to sufficient accuracy.]\n",
      "1 0.977450980392 0.0276312938875\n",
      "sigma: 0.25\n",
      "ARPACK error -1: No convergence (2081 iterations, 0/7 eigenvectors converged) [ARPACK error -14: DNAUPD  did not find any eigenvalues to sufficient accuracy.]\n",
      "ARPACK error -1: No convergence (2081 iterations, 0/7 eigenvectors converged) [ARPACK error -14: DNAUPD  did not find any eigenvalues to sufficient accuracy.]\n",
      "ARPACK error -1: No convergence (2081 iterations, 0/7 eigenvectors converged) [ARPACK error -14: DNAUPD  did not find any eigenvalues to sufficient accuracy.]\n",
      "ARPACK error -1: No convergence (2081 iterations, 3/7 eigenvectors converged)\n",
      "ARPACK error -1: No convergence (2081 iterations, 6/7 eigenvectors converged)\n",
      "ARPACK error -1: No convergence (2081 iterations, 0/7 eigenvectors converged) [ARPACK error -14: DNAUPD  did not find any eigenvalues to sufficient accuracy.]\n",
      "2 0.966666666667 0.0444444444444\n",
      "sigma: 0.25\n",
      "ARPACK error -1: No convergence (2081 iterations, 0/7 eigenvectors converged) [ARPACK error -14: DNAUPD  did not find any eigenvalues to sufficient accuracy.]\n",
      "ARPACK error -1: No convergence (2081 iterations, 0/7 eigenvectors converged) [ARPACK error -14: DNAUPD  did not find any eigenvalues to sufficient accuracy.]\n",
      "ARPACK error -1: No convergence (2081 iterations, 0/7 eigenvectors converged) [ARPACK error -14: DNAUPD  did not find any eigenvalues to sufficient accuracy.]\n",
      "ARPACK error -1: No convergence (2081 iterations, 3/7 eigenvectors converged)\n",
      "3 0.977450980392 0.0276312938875\n",
      "sigma: 0.2\n",
      "ARPACK error -1: No convergence (2081 iterations, 0/7 eigenvectors converged) [ARPACK error -14: DNAUPD  did not find any eigenvalues to sufficient accuracy.]\n",
      "ARPACK error -1: No convergence (2081 iterations, 0/7 eigenvectors converged) [ARPACK error -14: DNAUPD  did not find any eigenvalues to sufficient accuracy.]\n",
      "ARPACK error -1: No convergence (2081 iterations, 0/7 eigenvectors converged) [ARPACK error -14: DNAUPD  did not find any eigenvalues to sufficient accuracy.]\n",
      "ARPACK error -1: No convergence (2081 iterations, 0/7 eigenvectors converged) [ARPACK error -14: DNAUPD  did not find any eigenvalues to sufficient accuracy.]\n",
      "ARPACK error -1: No convergence (2081 iterations, 6/7 eigenvectors converged)\n",
      "ARPACK error -1: No convergence (2081 iterations, 0/7 eigenvectors converged) [ARPACK error -14: DNAUPD  did not find any eigenvalues to sufficient accuracy.]\n",
      "4 0.971241830065 0.0389917352635\n",
      "sigma: 0.25\n",
      "ARPACK error -1: No convergence (2081 iterations, 2/7 eigenvectors converged)\n",
      "ARPACK error -1: No convergence (2081 iterations, 0/7 eigenvectors converged) [ARPACK error -14: DNAUPD  did not find any eigenvalues to sufficient accuracy.]\n",
      "ARPACK error -1: No convergence (2081 iterations, 0/7 eigenvectors converged) [ARPACK error -14: DNAUPD  did not find any eigenvalues to sufficient accuracy.]\n",
      "ARPACK error -1: No convergence (2081 iterations, 0/7 eigenvectors converged) [ARPACK error -14: DNAUPD  did not find any eigenvalues to sufficient accuracy.]\n",
      "ARPACK error -1: No convergence (2081 iterations, 6/7 eigenvectors converged)\n",
      "5 0.971568627451 0.0387513357949\n",
      "sigma: 0.25\n",
      "ARPACK error -1: No convergence (2081 iterations, 2/7 eigenvectors converged)\n",
      "ARPACK error -1: No convergence (2081 iterations, 0/7 eigenvectors converged) [ARPACK error -14: DNAUPD  did not find any eigenvalues to sufficient accuracy.]\n",
      "ARPACK error -1: No convergence (2081 iterations, 4/7 eigenvectors converged)\n",
      "ARPACK error -1: No convergence (2081 iterations, 0/7 eigenvectors converged) [ARPACK error -14: DNAUPD  did not find any eigenvalues to sufficient accuracy.]\n",
      "ARPACK error -1: No convergence (2081 iterations, 2/7 eigenvectors converged)\n",
      "6 0.971895424837 0.0281197709337\n",
      "sigma: 0.25\n",
      "ARPACK error -1: No convergence (2081 iterations, 0/7 eigenvectors converged) [ARPACK error -14: DNAUPD  did not find any eigenvalues to sufficient accuracy.]\n",
      "ARPACK error -1: No convergence (2081 iterations, 0/7 eigenvectors converged) [ARPACK error -14: DNAUPD  did not find any eigenvalues to sufficient accuracy.]\n",
      "ARPACK error -1: No convergence (2081 iterations, 0/7 eigenvectors converged) [ARPACK error -14: DNAUPD  did not find any eigenvalues to sufficient accuracy.]\n",
      "ARPACK error -1: No convergence (2081 iterations, 3/7 eigenvectors converged)\n",
      "ARPACK error -1: No convergence (2081 iterations, 1/7 eigenvectors converged)\n",
      "7 0.966339869281 0.0370608983754\n",
      "sigma: 0.2\n",
      "ARPACK error -1: No convergence (2081 iterations, 0/7 eigenvectors converged) [ARPACK error -14: DNAUPD  did not find any eigenvalues to sufficient accuracy.]\n",
      "ARPACK error -1: No convergence (2081 iterations, 0/7 eigenvectors converged) [ARPACK error -14: DNAUPD  did not find any eigenvalues to sufficient accuracy.]\n",
      "ARPACK error -1: No convergence (2081 iterations, 0/7 eigenvectors converged) [ARPACK error -14: DNAUPD  did not find any eigenvalues to sufficient accuracy.]\n",
      "ARPACK error -1: No convergence (2081 iterations, 0/7 eigenvectors converged) [ARPACK error -14: DNAUPD  did not find any eigenvalues to sufficient accuracy.]\n",
      "ARPACK error -1: No convergence (2081 iterations, 0/7 eigenvectors converged) [ARPACK error -14: DNAUPD  did not find any eigenvalues to sufficient accuracy.]\n",
      "ARPACK error -1: No convergence (2081 iterations, 0/7 eigenvectors converged) [ARPACK error -14: DNAUPD  did not find any eigenvalues to sufficient accuracy.]\n",
      "ARPACK error -1: No convergence (2081 iterations, 0/7 eigenvectors converged) [ARPACK error -14: DNAUPD  did not find any eigenvalues to sufficient accuracy.]\n",
      "8 0.971895424837 0.0375233989396\n",
      "sigma: 0.25\n",
      "ARPACK error -1: No convergence (2081 iterations, 0/7 eigenvectors converged) [ARPACK error -14: DNAUPD  did not find any eigenvalues to sufficient accuracy.]\n",
      "ARPACK error -1: No convergence (2081 iterations, 0/7 eigenvectors converged) [ARPACK error -14: DNAUPD  did not find any eigenvalues to sufficient accuracy.]\n",
      "ARPACK error -1: No convergence (2081 iterations, 0/7 eigenvectors converged) [ARPACK error -14: DNAUPD  did not find any eigenvalues to sufficient accuracy.]\n",
      "ARPACK error -1: No convergence (2081 iterations, 4/7 eigenvectors converged)\n",
      "9 0.977777777778 0.0368513865595\n",
      "sigma: 0.25\n"
     ]
    }
   ],
   "source": [
    "sigmas = [.05,.07,.08,.09,.1,.11,.12,.13,.15,.2,.25]\n",
    "wineX,wineY = loadWineNorm()\n",
    "\n",
    "wineResult,wineResultStd = run10FoldNMI(wineX,wineY,sigmas)"
   ]
  },
  {
   "cell_type": "code",
   "execution_count": 81,
   "metadata": {
    "collapsed": false
   },
   "outputs": [
    {
     "name": "stdout",
     "output_type": "stream",
     "text": [
      "Factor is exactly singular\n",
      "Factor is exactly singular\n",
      "ARPACK error -1: No convergence (1801 iterations, 0/7 eigenvectors converged) [ARPACK error -14: DNAUPD  did not find any eigenvalues to sufficient accuracy.]\n",
      "ARPACK error -1: No convergence (1801 iterations, 0/7 eigenvectors converged) [ARPACK error -14: DNAUPD  did not find any eigenvalues to sufficient accuracy.]\n",
      "0 0.913333333333 0.0669991708075\n",
      "sigma: 0.3\n",
      "Factor is exactly singular\n",
      "Factor is exactly singular\n",
      "ARPACK error -1: No convergence (1801 iterations, 0/7 eigenvectors converged) [ARPACK error -14: DNAUPD  did not find any eigenvalues to sufficient accuracy.]\n",
      "ARPACK error -1: No convergence (1801 iterations, 1/7 eigenvectors converged)\n",
      "1 0.906666666667 0.0679869268479\n",
      "sigma: 0.3\n",
      "Factor is exactly singular\n",
      "Factor is exactly singular\n",
      "ARPACK error -1: No convergence (1801 iterations, 0/7 eigenvectors converged) [ARPACK error -14: DNAUPD  did not find any eigenvalues to sufficient accuracy.]\n",
      "ARPACK error -1: No convergence (1801 iterations, 5/7 eigenvectors converged)\n",
      "2 0.913333333333 0.155062711328\n",
      "sigma: 0.9\n",
      "Factor is exactly singular\n",
      "Factor is exactly singular\n",
      "ARPACK error -1: No convergence (1801 iterations, 6/7 eigenvectors converged)\n",
      "ARPACK error -1: No convergence (1801 iterations, 1/7 eigenvectors converged)\n",
      "3 0.94 0.0466666666667\n",
      "sigma: 0.3\n",
      "Factor is exactly singular\n",
      "Factor is exactly singular\n",
      "ARPACK error -1: No convergence (1801 iterations, 0/7 eigenvectors converged) [ARPACK error -14: DNAUPD  did not find any eigenvalues to sufficient accuracy.]\n",
      "ARPACK error -1: No convergence (1801 iterations, 5/7 eigenvectors converged)\n",
      "4 0.886666666667 0.0733333333333\n",
      "sigma: 0.2\n",
      "Factor is exactly singular\n",
      "Factor is exactly singular\n",
      "ARPACK error -1: No convergence (1801 iterations, 0/7 eigenvectors converged) [ARPACK error -14: DNAUPD  did not find any eigenvalues to sufficient accuracy.]\n",
      "ARPACK error -1: No convergence (1801 iterations, 3/7 eigenvectors converged)\n",
      "5 0.933333333333 0.0788810637747\n",
      "sigma: 0.3\n",
      "Factor is exactly singular\n",
      "Factor is exactly singular\n",
      "ARPACK error -1: No convergence (1801 iterations, 0/7 eigenvectors converged) [ARPACK error -14: DNAUPD  did not find any eigenvalues to sufficient accuracy.]\n",
      "ARPACK error -1: No convergence (1801 iterations, 0/7 eigenvectors converged) [ARPACK error -14: DNAUPD  did not find any eigenvalues to sufficient accuracy.]\n",
      "6 0.946666666667 0.0653197264742\n",
      "sigma: 1\n",
      "Factor is exactly singular\n",
      "Factor is exactly singular\n",
      "ARPACK error -1: No convergence (1801 iterations, 0/7 eigenvectors converged) [ARPACK error -14: DNAUPD  did not find any eigenvalues to sufficient accuracy.]\n",
      "ARPACK error -1: No convergence (1801 iterations, 0/7 eigenvectors converged) [ARPACK error -14: DNAUPD  did not find any eigenvalues to sufficient accuracy.]\n",
      "7 0.92 0.132664991614\n",
      "sigma: 1\n",
      "Factor is exactly singular\n",
      "Factor is exactly singular\n",
      "ARPACK error -1: No convergence (1801 iterations, 0/7 eigenvectors converged) [ARPACK error -14: DNAUPD  did not find any eigenvalues to sufficient accuracy.]\n",
      "ARPACK error -1: No convergence (1801 iterations, 0/7 eigenvectors converged) [ARPACK error -14: DNAUPD  did not find any eigenvalues to sufficient accuracy.]\n",
      "8 0.913333333333 0.0426874949162\n",
      "sigma: 1\n",
      "Factor is exactly singular\n",
      "Factor is exactly singular\n",
      "ARPACK error -1: No convergence (1801 iterations, 0/7 eigenvectors converged) [ARPACK error -14: DNAUPD  did not find any eigenvalues to sufficient accuracy.]\n",
      "ARPACK error -1: No convergence (1801 iterations, 0/7 eigenvectors converged) [ARPACK error -14: DNAUPD  did not find any eigenvalues to sufficient accuracy.]\n",
      "9 0.886666666667 0.0733333333333\n",
      "sigma: 0.3\n"
     ]
    }
   ],
   "source": [
    "sigmas = [.001,.01,.02,.05,.1,.2,.3,.4,.5,.6,.7,.8,.9,1]\n",
    "irisX,irisY = loadIris()\n",
    "irisResult,irisResultStd = run10FoldNMI(irisX,irisY,sigmas)"
   ]
  },
  {
   "cell_type": "code",
   "execution_count": 82,
   "metadata": {
    "collapsed": false
   },
   "outputs": [
    {
     "name": "stdout",
     "output_type": "stream",
     "text": [
      "ARPACK error -1: No convergence (2441 iterations, 0/7 eigenvectors converged) [ARPACK error -14: DNAUPD  did not find any eigenvalues to sufficient accuracy.]\n",
      "0 0.360822510823 0.0883374145535\n",
      "sigma: 8\n",
      "ARPACK error -1: No convergence (2441 iterations, 0/7 eigenvectors converged) [ARPACK error -14: DNAUPD  did not find any eigenvalues to sufficient accuracy.]\n",
      "1 0.377705627706 0.134958923042\n",
      "sigma: 3\n",
      "ARPACK error -1: No convergence (2441 iterations, 0/7 eigenvectors converged) [ARPACK error -14: DNAUPD  did not find any eigenvalues to sufficient accuracy.]\n",
      "2 0.354761904762 0.0673605453987\n",
      "sigma: 8\n",
      "ARPACK error -1: No convergence (2441 iterations, 0/7 eigenvectors converged) [ARPACK error -14: DNAUPD  did not find any eigenvalues to sufficient accuracy.]\n",
      "3 0.355194805195 0.0926470139851\n",
      "sigma: 20\n",
      "ARPACK error -1: No convergence (2441 iterations, 0/7 eigenvectors converged) [ARPACK error -14: DNAUPD  did not find any eigenvalues to sufficient accuracy.]\n",
      "4 0.360822510823 0.077130721858\n",
      "sigma: 15\n",
      "ARPACK error -1: No convergence (2441 iterations, 0/7 eigenvectors converged) [ARPACK error -14: DNAUPD  did not find any eigenvalues to sufficient accuracy.]\n",
      "5 0.359523809524 0.066759717487\n",
      "sigma: 15\n",
      "ARPACK error -1: No convergence (2441 iterations, 0/7 eigenvectors converged) [ARPACK error -14: DNAUPD  did not find any eigenvalues to sufficient accuracy.]\n",
      "6 0.355844155844 0.0602198579272\n",
      "sigma: 15\n",
      "ARPACK error -1: No convergence (2441 iterations, 0/7 eigenvectors converged) [ARPACK error -14: DNAUPD  did not find any eigenvalues to sufficient accuracy.]\n",
      "7 0.374025974026 0.109750291984\n",
      "sigma: 3\n",
      "ARPACK error -1: No convergence (2441 iterations, 0/7 eigenvectors converged) [ARPACK error -14: DNAUPD  did not find any eigenvalues to sufficient accuracy.]\n",
      "8 0.359523809524 0.0709313006674\n",
      "sigma: 4\n",
      "ARPACK error -1: No convergence (2441 iterations, 0/7 eigenvectors converged) [ARPACK error -14: DNAUPD  did not find any eigenvalues to sufficient accuracy.]\n",
      "9 0.355194805195 0.0883607473444\n",
      "sigma: 30\n"
     ]
    }
   ],
   "source": [
    "sigmas = [.5,.8,1,2,3,4,5,8,10,15,20,25,30,35]\n",
    "glassX,glassY = loadGlass()\n",
    "glassResult,glassResultStd = run10FoldNMI(glassX,glassY,sigmas)"
   ]
  },
  {
   "cell_type": "code",
   "execution_count": 83,
   "metadata": {
    "collapsed": false
   },
   "outputs": [
    {
     "name": "stdout",
     "output_type": "stream",
     "text": [
      "ARPACK error -1: No convergence (5991 iterations, 6/7 eigenvectors converged)\n",
      "ARPACK error -1: No convergence (5991 iterations, 5/7 eigenvectors converged)\n",
      "ARPACK error -1: No convergence (5991 iterations, 0/7 eigenvectors converged) [ARPACK error -14: DNAUPD  did not find any eigenvalues to sufficient accuracy.]\n",
      "ARPACK error -1: No convergence (5991 iterations, 6/7 eigenvectors converged)\n",
      "ARPACK error -1: No convergence (5991 iterations, 0/7 eigenvectors converged) [ARPACK error -14: DNAUPD  did not find any eigenvalues to sufficient accuracy.]\n",
      "ARPACK error -1: No convergence (5991 iterations, 5/7 eigenvectors converged)\n",
      "ARPACK error -1: No convergence (5991 iterations, 0/7 eigenvectors converged) [ARPACK error -14: DNAUPD  did not find any eigenvalues to sufficient accuracy.]\n",
      "ARPACK error -1: No convergence (5991 iterations, 5/7 eigenvectors converged)\n",
      "ARPACK error -1: No convergence (5991 iterations, 5/7 eigenvectors converged)\n",
      "0 0.834868421053 0.084832146924\n",
      "sigma: 27\n",
      "ARPACK error -1: No convergence (5991 iterations, 0/7 eigenvectors converged) [ARPACK error -14: DNAUPD  did not find any eigenvalues to sufficient accuracy.]\n",
      "ARPACK error -1: No convergence (5991 iterations, 0/7 eigenvectors converged) [ARPACK error -14: DNAUPD  did not find any eigenvalues to sufficient accuracy.]\n",
      "ARPACK error -1: No convergence (5991 iterations, 0/7 eigenvectors converged) [ARPACK error -14: DNAUPD  did not find any eigenvalues to sufficient accuracy.]\n",
      "ARPACK error -1: No convergence (5991 iterations, 0/7 eigenvectors converged) [ARPACK error -14: DNAUPD  did not find any eigenvalues to sufficient accuracy.]\n",
      "ARPACK error -1: No convergence (5991 iterations, 0/7 eigenvectors converged) [ARPACK error -14: DNAUPD  did not find any eigenvalues to sufficient accuracy.]\n",
      "ARPACK error -1: No convergence (5991 iterations, 6/7 eigenvectors converged)\n",
      "ARPACK error -1: No convergence (5991 iterations, 6/7 eigenvectors converged)\n",
      "ARPACK error -1: No convergence (5991 iterations, 0/7 eigenvectors converged) [ARPACK error -14: DNAUPD  did not find any eigenvalues to sufficient accuracy.]\n",
      "ARPACK error -1: No convergence (5991 iterations, 5/7 eigenvectors converged)\n",
      "1 0.812030075188 0.0616154085027\n",
      "sigma: 11\n",
      "ARPACK error -1: No convergence (5991 iterations, 2/7 eigenvectors converged)\n",
      "ARPACK error -1: No convergence (5991 iterations, 6/7 eigenvectors converged)\n",
      "ARPACK error -1: No convergence (5991 iterations, 6/7 eigenvectors converged)\n",
      "ARPACK error -1: No convergence (5991 iterations, 0/7 eigenvectors converged) [ARPACK error -14: DNAUPD  did not find any eigenvalues to sufficient accuracy.]\n",
      "ARPACK error -1: No convergence (5991 iterations, 6/7 eigenvectors converged)\n",
      "ARPACK error -1: No convergence (5991 iterations, 6/7 eigenvectors converged)\n",
      "ARPACK error -1: No convergence (5991 iterations, 5/7 eigenvectors converged)\n",
      "ARPACK error -1: No convergence (5991 iterations, 6/7 eigenvectors converged)\n",
      "2 0.84880952381 0.0425881299706\n",
      "sigma: 26\n",
      "ARPACK error -1: No convergence (5991 iterations, 6/7 eigenvectors converged)\n",
      "ARPACK error -1: No convergence (5991 iterations, 6/7 eigenvectors converged)\n",
      "ARPACK error -1: No convergence (5991 iterations, 6/7 eigenvectors converged)\n",
      "ARPACK error -1: No convergence (5991 iterations, 4/7 eigenvectors converged)\n",
      "ARPACK error -1: No convergence (5991 iterations, 0/7 eigenvectors converged) [ARPACK error -14: DNAUPD  did not find any eigenvalues to sufficient accuracy.]\n",
      "ARPACK error -1: No convergence (5991 iterations, 6/7 eigenvectors converged)\n",
      "ARPACK error -1: No convergence (5991 iterations, 6/7 eigenvectors converged)\n",
      "ARPACK error -1: No convergence (5991 iterations, 6/7 eigenvectors converged)\n",
      "ARPACK error -1: No convergence (5991 iterations, 5/7 eigenvectors converged)\n",
      "ARPACK error -1: No convergence (5991 iterations, 6/7 eigenvectors converged)\n",
      "ARPACK error -1: No convergence (5991 iterations, 5/7 eigenvectors converged)\n",
      "ARPACK error -1: No convergence (5991 iterations, 6/7 eigenvectors converged)\n",
      "3 0.761058897243 0.04276288248\n",
      "sigma: 23\n",
      "ARPACK error -1: No convergence (5991 iterations, 6/7 eigenvectors converged)\n",
      "ARPACK error -1: No convergence (5991 iterations, 6/7 eigenvectors converged)\n",
      "ARPACK error -1: No convergence (5991 iterations, 6/7 eigenvectors converged)\n",
      "ARPACK error -1: No convergence (5991 iterations, 0/7 eigenvectors converged) [ARPACK error -14: DNAUPD  did not find any eigenvalues to sufficient accuracy.]\n",
      "ARPACK error -1: No convergence (5991 iterations, 0/7 eigenvectors converged) [ARPACK error -14: DNAUPD  did not find any eigenvalues to sufficient accuracy.]\n",
      "ARPACK error -1: No convergence (5991 iterations, 6/7 eigenvectors converged)\n",
      "ARPACK error -1: No convergence (5991 iterations, 6/7 eigenvectors converged)\n",
      "ARPACK error -1: No convergence (5991 iterations, 4/7 eigenvectors converged)\n",
      "ARPACK error -1: No convergence (5991 iterations, 5/7 eigenvectors converged)\n",
      "4 0.833020050125 0.0402773053187\n",
      "sigma: 25\n",
      "ARPACK error -1: No convergence (5991 iterations, 5/7 eigenvectors converged)\n",
      "ARPACK error -1: No convergence (5991 iterations, 0/7 eigenvectors converged) [ARPACK error -14: DNAUPD  did not find any eigenvalues to sufficient accuracy.]\n",
      "ARPACK error -1: No convergence (5991 iterations, 6/7 eigenvectors converged)\n",
      "ARPACK error -1: No convergence (5991 iterations, 0/7 eigenvectors converged) [ARPACK error -14: DNAUPD  did not find any eigenvalues to sufficient accuracy.]\n",
      "ARPACK error -1: No convergence (5991 iterations, 0/7 eigenvectors converged) [ARPACK error -14: DNAUPD  did not find any eigenvalues to sufficient accuracy.]\n",
      "ARPACK error -1: No convergence (5991 iterations, 0/7 eigenvectors converged) [ARPACK error -14: DNAUPD  did not find any eigenvalues to sufficient accuracy.]\n",
      "ARPACK error -1: No convergence (5991 iterations, 0/7 eigenvectors converged) [ARPACK error -14: DNAUPD  did not find any eigenvalues to sufficient accuracy.]\n",
      "ARPACK error -1: No convergence (5991 iterations, 5/7 eigenvectors converged)\n",
      "ARPACK error -1: No convergence (5991 iterations, 5/7 eigenvectors converged)\n",
      "5 0.839818295739 0.0554173200962\n",
      "sigma: 27\n",
      "ARPACK error -1: No convergence (5991 iterations, 6/7 eigenvectors converged)\n",
      "ARPACK error -1: No convergence (5991 iterations, 2/7 eigenvectors converged)\n",
      "ARPACK error -1: No convergence (5991 iterations, 0/7 eigenvectors converged) [ARPACK error -14: DNAUPD  did not find any eigenvalues to sufficient accuracy.]\n",
      "ARPACK error -1: No convergence (5991 iterations, 0/7 eigenvectors converged) [ARPACK error -14: DNAUPD  did not find any eigenvalues to sufficient accuracy.]\n",
      "ARPACK error -1: No convergence (5991 iterations, 5/7 eigenvectors converged)\n",
      "ARPACK error -1: No convergence (5991 iterations, 0/7 eigenvectors converged) [ARPACK error -14: DNAUPD  did not find any eigenvalues to sufficient accuracy.]\n",
      "ARPACK error -1: No convergence (5991 iterations, 5/7 eigenvectors converged)\n",
      "ARPACK error -1: No convergence (5991 iterations, 6/7 eigenvectors converged)\n",
      "ARPACK error -1: No convergence (5991 iterations, 5/7 eigenvectors converged)\n",
      "6 0.840068922306 0.0486477984004\n",
      "sigma: 26\n",
      "ARPACK error -1: No convergence (5991 iterations, 5/7 eigenvectors converged)\n",
      "ARPACK error -1: No convergence (5991 iterations, 0/7 eigenvectors converged) [ARPACK error -14: DNAUPD  did not find any eigenvalues to sufficient accuracy.]\n",
      "ARPACK error -1: No convergence (5991 iterations, 6/7 eigenvectors converged)\n",
      "ARPACK error -1: No convergence (5991 iterations, 5/7 eigenvectors converged)\n",
      "ARPACK error -1: No convergence (5991 iterations, 4/7 eigenvectors converged)\n",
      "7 0.815538847118 0.062718766194\n",
      "sigma: 10\n",
      "ARPACK error -1: No convergence (5991 iterations, 6/7 eigenvectors converged)\n",
      "ARPACK error -1: No convergence (5991 iterations, 0/7 eigenvectors converged) [ARPACK error -14: DNAUPD  did not find any eigenvalues to sufficient accuracy.]\n",
      "ARPACK error -1: No convergence (5991 iterations, 6/7 eigenvectors converged)\n",
      "ARPACK error -1: No convergence (5991 iterations, 0/7 eigenvectors converged) [ARPACK error -14: DNAUPD  did not find any eigenvalues to sufficient accuracy.]\n",
      "ARPACK error -1: No convergence (5991 iterations, 6/7 eigenvectors converged)\n",
      "ARPACK error -1: No convergence (5991 iterations, 5/7 eigenvectors converged)\n",
      "ARPACK error -1: No convergence (5991 iterations, 6/7 eigenvectors converged)\n",
      "8 0.840037593985 0.0474820364377\n",
      "sigma: 24\n",
      "ARPACK error -1: No convergence (5991 iterations, 6/7 eigenvectors converged)\n",
      "ARPACK error -1: No convergence (5991 iterations, 6/7 eigenvectors converged)\n",
      "ARPACK error -1: No convergence (5991 iterations, 0/7 eigenvectors converged) [ARPACK error -14: DNAUPD  did not find any eigenvalues to sufficient accuracy.]\n",
      "ARPACK error -1: No convergence (5991 iterations, 0/7 eigenvectors converged) [ARPACK error -14: DNAUPD  did not find any eigenvalues to sufficient accuracy.]\n",
      "ARPACK error -1: No convergence (5991 iterations, 6/7 eigenvectors converged)\n",
      "ARPACK error -1: No convergence (5991 iterations, 4/7 eigenvectors converged)\n",
      "ARPACK error -1: No convergence (5991 iterations, 5/7 eigenvectors converged)\n",
      "ARPACK error -1: No convergence (5991 iterations, 6/7 eigenvectors converged)\n",
      "ARPACK error -1: No convergence (5991 iterations, 6/7 eigenvectors converged)\n",
      "ARPACK error -1: No convergence (5991 iterations, 6/7 eigenvectors converged)\n",
      "ARPACK error -1: No convergence (5991 iterations, 6/7 eigenvectors converged)\n",
      "9 0.81015037594 0.0773036710882\n",
      "sigma: 10\n"
     ]
    }
   ],
   "source": [
    "sigmas = [10,11,12,15,20,21,22,23,24,25,26,27,28,29,30,35]\n",
    "wdbcX,wdbcY = loadWdbc()\n",
    "wdbcResult,wdbcResultStd = run10FoldNMI(wdbcX,wdbcY,sigmas)"
   ]
  },
  {
   "cell_type": "code",
   "execution_count": 84,
   "metadata": {
    "collapsed": false
   },
   "outputs": [
    {
     "name": "stdout",
     "output_type": "stream",
     "text": [
      "0 0.935 0.0334477204006\n",
      "sigma: 5\n",
      "1 0.94 0.0192028643697\n",
      "sigma: 5\n",
      "2 0.9425 0.1725\n",
      "sigma: 2\n",
      "3 0.94375 0.0218303114957\n",
      "sigma: 5\n",
      "4 0.93875 0.01625\n",
      "sigma: 5\n",
      "5 0.94 0.0229128784748\n",
      "sigma: 5\n",
      "6 1.0 0.0\n",
      "sigma: 1\n",
      "7 0.9375 0.0201556443707\n",
      "sigma: 5\n",
      "8 0.94 0.02\n",
      "sigma: 5\n",
      "9 1.0 0.0\n",
      "sigma: 1\n"
     ]
    }
   ],
   "source": [
    "sigmas = [1,2,5,10,15,20,24,30,35]\n",
    "moonX,moonY, tmp = generateTwoParabola()\n",
    "moonResult,moonResultStd = run10FoldNMI(moonX,moonY,sigmas)"
   ]
  },
  {
   "cell_type": "code",
   "execution_count": 85,
   "metadata": {
    "collapsed": false
   },
   "outputs": [
    {
     "name": "stdout",
     "output_type": "stream",
     "text": [
      "ARPACK error -1: No convergence (4301 iterations, 0/7 eigenvectors converged) [ARPACK error -14: DNAUPD  did not find any eigenvalues to sufficient accuracy.]\n",
      "0 0.965 0.0357071421427\n",
      "sigma: 0.9\n",
      "ARPACK error -1: No convergence (4301 iterations, 0/7 eigenvectors converged) [ARPACK error -14: DNAUPD  did not find any eigenvalues to sufficient accuracy.]\n",
      "1 0.9625 0.0340036762718\n",
      "sigma: 0.6\n",
      "ARPACK error -1: No convergence (4301 iterations, 0/7 eigenvectors converged) [ARPACK error -14: DNAUPD  did not find any eigenvalues to sufficient accuracy.]\n",
      "2 0.965 0.0165831239518\n",
      "sigma: 0.7\n",
      "ARPACK error -1: No convergence (4301 iterations, 0/7 eigenvectors converged) [ARPACK error -14: DNAUPD  did not find any eigenvalues to sufficient accuracy.]\n",
      "3 0.965 0.03\n",
      "sigma: 0.9\n",
      "ARPACK error -1: No convergence (4301 iterations, 3/7 eigenvectors converged)\n",
      "4 0.965 0.0165831239518\n",
      "sigma: 0.3\n",
      "ARPACK error -1: No convergence (4301 iterations, 0/7 eigenvectors converged) [ARPACK error -14: DNAUPD  did not find any eigenvalues to sufficient accuracy.]\n",
      "5 0.96 0.0320156211872\n",
      "sigma: 0.9\n",
      "ARPACK error -1: No convergence (4301 iterations, 0/7 eigenvectors converged) [ARPACK error -14: DNAUPD  did not find any eigenvalues to sufficient accuracy.]\n",
      "6 0.965 0.0320156211872\n",
      "sigma: 0.8\n",
      "ARPACK error -1: No convergence (4301 iterations, 4/7 eigenvectors converged)\n",
      "7 0.9625 0.0230488611432\n",
      "sigma: 0.9\n",
      "ARPACK error -1: No convergence (4301 iterations, 0/7 eigenvectors converged) [ARPACK error -14: DNAUPD  did not find any eigenvalues to sufficient accuracy.]\n",
      "8 0.9675 0.0225\n",
      "sigma: 0.8\n",
      "ARPACK error -1: No convergence (4301 iterations, 0/7 eigenvectors converged) [ARPACK error -14: DNAUPD  did not find any eigenvalues to sufficient accuracy.]\n",
      "9 0.965 0.0278388218142\n",
      "sigma: 0.7\n"
     ]
    }
   ],
   "source": [
    "sigmas = [.1,.2,.3,.4,.5,.6,.7,.8,.9,1,2,5]\n",
    "xorX,xorY,tmp = generateXOR()\n",
    "xorResult,xorResultStd = run10FoldNMI(xorX,xorY,sigmas)"
   ]
  },
  {
   "cell_type": "code",
   "execution_count": 86,
   "metadata": {
    "collapsed": true
   },
   "outputs": [],
   "source": [
    "import scipy.io as io\n",
    "def generateConcentric():\n",
    "    concentric = io.loadmat(\"Concentric_rings.mat\")\n",
    "    X = concentric['X'][:,[0,1]]\n",
    "    Y = concentric['Y'][:,0]\n",
    "    Y = (Y==1)\n",
    "    return X,Y,\"Concentric\""
   ]
  },
  {
   "cell_type": "code",
   "execution_count": 87,
   "metadata": {
    "collapsed": false
   },
   "outputs": [
    {
     "name": "stdout",
     "output_type": "stream",
     "text": [
      "0 0.776209677419 0.108210924834\n",
      "sigma: 0.4\n",
      "1 0.779838709677 0.0622657551033\n",
      "sigma: 0.4\n",
      "2 0.776411290323 0.096978530912\n",
      "sigma: 0.4\n",
      "3 0.779435483871 0.0703189852773\n",
      "sigma: 0.4\n",
      "4 0.786391129032 0.0951160554906\n",
      "sigma: 0.4\n",
      "5 0.779737903226 0.0675707833333\n",
      "sigma: 0.4\n",
      "6 0.786088709677 0.0949239282753\n",
      "sigma: 0.4\n",
      "7 0.776008064516 0.0958762100768\n",
      "sigma: 0.4\n",
      "8 0.779939516129 0.0582780745931\n",
      "sigma: 0.4\n",
      "9 0.770362903226 0.0683060231544\n",
      "sigma: 0.4\n"
     ]
    }
   ],
   "source": [
    "sigmas = [.4,.5,.7,.8,.9,1,1.1,1.2,1.3,1.5]\n",
    "concentricX,concentricY,tmp = generateConcentric()\n",
    "concentricResult,concentricResultStd = run10FoldNMI(concentricX,concentricY,sigmas)"
   ]
  },
  {
   "cell_type": "code",
   "execution_count": 88,
   "metadata": {
    "collapsed": false
   },
   "outputs": [
    {
     "name": "stdout",
     "output_type": "stream",
     "text": [
      "ARPACK error -1: No convergence (50301 iterations, 2/7 eigenvectors converged)\n",
      "0 0.864 0.0135055544129\n",
      "sigma: 3\n",
      "ARPACK error -1: No convergence (50301 iterations, 1/7 eigenvectors converged)\n",
      "1 0.8678 0.0074\n",
      "sigma: 3\n",
      "ARPACK error -1: No convergence (50301 iterations, 1/7 eigenvectors converged)\n",
      "2 0.869 0.0138057958843\n",
      "sigma: 3\n",
      "ARPACK error -1: No convergence (50301 iterations, 3/7 eigenvectors converged)\n",
      "3 0.8654 0.0159511755053\n",
      "sigma: 3\n",
      "ARPACK error -1: No convergence (50301 iterations, 3/7 eigenvectors converged)\n",
      "4 0.866 0.0167332005307\n",
      "sigma: 3\n",
      "ARPACK error -1: No convergence (50301 iterations, 1/7 eigenvectors converged)\n",
      "5 0.863 0.0140071410359\n",
      "sigma: 4\n",
      "ARPACK error -1: No convergence (50301 iterations, 6/7 eigenvectors converged)\n",
      "6 0.8648 0.0161294761229\n",
      "sigma: 3\n",
      "ARPACK error -1: No convergence (50301 iterations, 3/7 eigenvectors converged)\n",
      "7 0.8648 0.0119733036377\n",
      "sigma: 3\n",
      "ARPACK error -1: No convergence (50301 iterations, 2/7 eigenvectors converged)\n",
      "8 0.8668 0.0114262854857\n",
      "sigma: 3\n",
      "ARPACK error -1: No convergence (50301 iterations, 5/7 eigenvectors converged)\n",
      "9 0.8664 0.0168237926759\n",
      "sigma: 2.5\n"
     ]
    }
   ],
   "source": [
    "sigmas = [.2,.5,.6,.7,.8,.9,1,1.1,1.2,1.5,2,2.5,3,4,5,7,8,10]\n",
    "waveformX,waveformY= loadWaveform()\n",
    "waveformResult,waveformResultStd = run10FoldNMI(waveformX,waveformY,sigmas)"
   ]
  },
  {
   "cell_type": "code",
   "execution_count": 89,
   "metadata": {
    "collapsed": false
   },
   "outputs": [
    {
     "name": "stdout",
     "output_type": "stream",
     "text": [
      "ARPACK error -1: No convergence (73211 iterations, 6/7 eigenvectors converged)\n",
      "0 0.824578987917 0.0122956361712\n",
      "sigma: 1.8\n",
      "ARPACK error -1: No convergence (73211 iterations, 5/7 eigenvectors converged)\n",
      "1 0.817306311893 0.0167006630821\n",
      "sigma: 1.7\n",
      "ARPACK error -1: No convergence (73211 iterations, 5/7 eigenvectors converged)\n",
      "2 0.813193152564 0.0135089561688\n",
      "sigma: 1.9\n",
      "ARPACK error -1: No convergence (73211 iterations, 5/7 eigenvectors converged)\n",
      "3 0.817856699927 0.0144737382234\n",
      "sigma: 1.9\n",
      "ARPACK error -1: No convergence (73211 iterations, 5/7 eigenvectors converged)\n",
      "4 0.829241595731 0.0141386302363\n",
      "sigma: 1.8\n",
      "ARPACK error -1: No convergence (73211 iterations, 3/7 eigenvectors converged)\n",
      "ARPACK error -1: No convergence (73211 iterations, 0/7 eigenvectors converged) [ARPACK error -14: DNAUPD  did not find any eigenvalues to sufficient accuracy.]\n",
      "5 0.806885205855 0.0245214252829\n",
      "sigma: 1.7\n",
      "6 0.830203318488 0.0172549539339\n",
      "sigma: 1.8\n",
      "ARPACK error -1: No convergence (73211 iterations, 6/7 eigenvectors converged)\n",
      "7 0.835275757747 0.00806785919594\n",
      "sigma: 1.7\n",
      "ARPACK error -1: No convergence (73211 iterations, 5/7 eigenvectors converged)\n",
      "ARPACK error -1: No convergence (73211 iterations, 0/7 eigenvectors converged) [ARPACK error -14: DNAUPD  did not find any eigenvalues to sufficient accuracy.]\n",
      "8 0.828553845576 0.0146922034614\n",
      "sigma: 1.7\n",
      "ARPACK error -1: No convergence (73211 iterations, 4/7 eigenvectors converged)\n",
      "9 0.810998928914 0.0239146976699\n",
      "sigma: 1.8\n"
     ]
    }
   ],
   "source": [
    "sigmas = [.5,1,1.5,1.7,1.8,1.9,2,2.1,2.2,2.3,2.5,3,4,5,10]\n",
    "uspsX,uspsY = loadUsps()\n",
    "uspsResult,uspsResultStd = run10FoldNMI(uspsX,uspsY,sigmas)"
   ]
  },
  {
   "cell_type": "code",
   "execution_count": null,
   "metadata": {
    "collapsed": true
   },
   "outputs": [],
   "source": []
  }
 ],
 "metadata": {
  "kernelspec": {
   "display_name": "Python 2",
   "language": "python",
   "name": "python2"
  },
  "language_info": {
   "codemirror_mode": {
    "name": "ipython",
    "version": 2
   },
   "file_extension": ".py",
   "mimetype": "text/x-python",
   "name": "python",
   "nbconvert_exporter": "python",
   "pygments_lexer": "ipython2",
   "version": "2.7.9"
  }
 },
 "nbformat": 4,
 "nbformat_minor": 0
}
