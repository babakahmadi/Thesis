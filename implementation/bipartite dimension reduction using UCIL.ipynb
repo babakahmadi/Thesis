{
 "cells": [
  {
   "cell_type": "code",
   "execution_count": 3,
   "metadata": {
    "collapsed": true
   },
   "outputs": [],
   "source": [
    "import numpy as np\n",
    "import pandas as pd\n",
    "import matplotlib.pyplot as plt\n",
    "import networkx as nx\n",
    "import pylab as pl\n",
    "%matplotlib inline\n",
    "import scipy as sp\n",
    "import scipy.sparse as sps\n",
    "from sklearn.cluster import KMeans\n",
    "from sklearn.cross_validation import KFold\n",
    "from sklearn.multiclass import OneVsOneClassifier\n",
    "from sklearn.svm import LinearSVC"
   ]
  },
  {
   "cell_type": "markdown",
   "metadata": {},
   "source": [
    "<h2 style=\"color:purple\">Load Dataset in Categorical and numerical Manner</h2>\n"
   ]
  },
  {
   "cell_type": "code",
   "execution_count": 4,
   "metadata": {
    "collapsed": true
   },
   "outputs": [],
   "source": [
    "def loadHeart():\n",
    "    heart = pd.read_csv('data/new/Heart_disease.data',header=None)\n",
    "    numeric = [0,3,4,7,9,11]\n",
    "    nominal = [1,2,5,6,8,10,12]\n",
    "    heartNum = heart[numeric].values\n",
    "    heartCat = heart[nominal].values-1\n",
    "    heartY = heart[13].values\n",
    "    return heartCat,heartNum,heartY-1\n",
    "\n",
    "def f12(x):\n",
    "    if x==3:\n",
    "        return 0\n",
    "    if x==6:\n",
    "        return 1\n",
    "    return 2\n",
    "def loadStatlog():\n",
    "    statlog = pd.read_csv('data/Categorical/statlog.data',header=None)\n",
    "    numeric = [0,3,4,7,9,11]\n",
    "    nominal = [1,2,5,6,8,10,12]\n",
    "    statlogNum = statlog[numeric].values\n",
    "    statlogCat = statlog[nominal]\n",
    "    statlogCat.loc[:,2] = statlogCat[2]-1\n",
    "    statlogCat.loc[:,10] = statlogCat[10]-1\n",
    "    statlogCat.loc[:,12] = statlogCat[12].apply(f12)\n",
    "    statlogCat = statlogCat.values\n",
    "    statlogY = statlog[13].values\n",
    "    return statlogCat,statlogNum,statlogY-1\n",
    "\n",
    "valDict = {}\n",
    "def loadGerman():\n",
    "    german = pd.read_csv('data/Categorical/german.data',header=None)\n",
    "    categoricG = [0,2,3,5,6,7,8,9,11,13,14,15,16,17,18,19]\n",
    "    numericG = [1,4,12]\n",
    "    for col in categoricG:\n",
    "        values = np.unique(sorted(german[col]))\n",
    "        valDict = {}\n",
    "        for idx in xrange(len(values)):\n",
    "            valDict[values[idx]] = idx\n",
    "        german.loc[:,col] = german[col].apply(lambda x: valDict[x])\n",
    "    germanNum = german[numericG].values\n",
    "    germanCat = german[categoricG].values\n",
    "    germanY = german[20].values-1\n",
    "    return germanCat,germanNum,germanY\n",
    "\n",
    "def loadSoybean():\n",
    "    soybean = pd.read_csv('data/Categorical/soyBean.data',header=None)\n",
    "    for col in soybean.columns:\n",
    "        values = np.unique(sorted(soybean[col]))\n",
    "        valDict = {}\n",
    "        for idx in xrange(len(values)):\n",
    "            valDict[values[idx]] = idx\n",
    "        soybean.loc[:,col] = soybean[col].apply(lambda x: valDict[x])\n",
    "    soybeanCat = soybean.drop(20,axis=1).values\n",
    "    soybeanY = soybean[20].values-1\n",
    "    return soybeanCat,soybeanY\n",
    "\n",
    "def loadDermat():\n",
    "    dermat = pd.read_csv('data/Categorical/dermatology.data',header=None)\n",
    "    dermatCat = dermat.drop([33,34],axis=1).values\n",
    "    dermatNum = dermat[[33]].values\n",
    "    dermatY = dermat[34].values-1\n",
    "    return dermatCat,dermatNum,dermatY"
   ]
  },
  {
   "cell_type": "markdown",
   "metadata": {},
   "source": [
    "<h2 style=\"color:purple\">Load simple Dataset</h2>\n"
   ]
  },
  {
   "cell_type": "code",
   "execution_count": 5,
   "metadata": {
    "collapsed": true
   },
   "outputs": [],
   "source": [
    "def loadHeart2():\n",
    "    heart = pd.read_csv('data/new/Heart_disease.data',header=None)\n",
    "    numeric = [0,3,4,7,9,11]\n",
    "    nominal = [1,2,5,6,8,10,12]\n",
    "    for col in nominal:\n",
    "        values = np.unique(sorted(heart[col]))\n",
    "        if len(values)<=2:\n",
    "            continue\n",
    "        for val in values:\n",
    "            name = str(col)+'_'+str(val)\n",
    "            heart[name] = heart[col].apply(lambda x: 1 if x==val else 0)\n",
    "        heart = heart.drop([col],axis=1)\n",
    "    heartX = heart.drop(13).values\n",
    "    heartY = heart[13].values-1\n",
    "    return heartX,heartY\n",
    "\n",
    "def f12(x):\n",
    "    if x==3:\n",
    "        return 0\n",
    "    if x==6:\n",
    "        return 1\n",
    "    return 2\n",
    "\n",
    "def loadStatlog2():\n",
    "    statlog = pd.read_csv('data/Categorical/statlog.data',header=None)\n",
    "    statlog.loc[:,2] = statlog[2]-1\n",
    "    statlog.loc[:,10] = statlog[10]-1\n",
    "    statlog.loc[:,12] = statlog[12].apply(f12)\n",
    "    statlogX = statlog.drop(13,axis=1).values\n",
    "    statlogY = statlog[13].values\n",
    "    return statlogX,statlogY-1\n",
    "\n",
    "valDict = {}\n",
    "def loadGerman2():\n",
    "    german = pd.read_csv('data/Categorical/german.data',header=None)\n",
    "    categoricG = [0,2,3,5,6,7,8,9,11,13,14,15,16,17,18,19]\n",
    "    for col in categoricG:\n",
    "        values = np.unique(sorted(german[col]))\n",
    "        valDict = {}\n",
    "        for idx in xrange(len(values)):\n",
    "            valDict[values[idx]] = idx\n",
    "        german.loc[:,col] = german[col].apply(lambda x: valDict[x])\n",
    "    germanX = german.drop(20).values\n",
    "    germanY = german[20].values-1\n",
    "    return germanX,germanY\n",
    "\n",
    "\n",
    "def loadDermat2():\n",
    "    dermat = pd.read_csv('data/Categorical/dermatology.data',header=None)\n",
    "    dermatX = dermat.drop([34],axis=1).values\n",
    "    dermatY = dermat[34].values-1\n",
    "    return dermatX,dermatY"
   ]
  },
  {
   "cell_type": "markdown",
   "metadata": {},
   "source": [
    "<h2 style=\"color:purple\">Ocil dimension reduction</h2>\n"
   ]
  },
  {
   "cell_type": "code",
   "execution_count": 4,
   "metadata": {
    "collapsed": true
   },
   "outputs": [],
   "source": [
    "def ocil_mixed_class_prob(x_categoric,x_numeric,freq_in_cluster,cluster_cnt,num_sum,feature_weight):\n",
    "    d_c = x_categoric.shape[1]\n",
    "    d_n = x_numeric.shape[1]\n",
    "    k = freq_in_cluster.shape[2]\n",
    "\n",
    "    cat_proba = np.zeros((d_c,k))\n",
    "    for i in xrange(d_c):\n",
    "        for c in xrange(k):\n",
    "            cat_proba[i,c] = freq_in_cluster[i,x_categoric[0,i],c]/cluster_cnt[0,c]\n",
    "    \n",
    "    #object cluster similarity\n",
    "    average_numeric = np.zeros((k, d_n))\n",
    "    for i in xrange(k):\n",
    "        average_numeric[i, :] = num_sum[i, :]/cluster_cnt[0,i]\n",
    "\n",
    "    \n",
    "    num_proba = np.zeros((1, k))\n",
    "    for i in xrange(k):\n",
    "        differen = x_numeric - average_numeric[i, :]\n",
    "        num_proba[0,i] = np.exp(-0.5*np.dot(differen,differen.T))\n",
    "    num_proba = num_proba/np.sum(num_proba)\n",
    "    \n",
    "    attribute_proba = np.zeros((d_c+1,k))\n",
    "    attribute_proba[:d_c,:] = cat_proba\n",
    "    attribute_proba[d_c,:] = num_proba\n",
    "\n",
    "    class_proba = np.dot(attribute_proba.T,feature_weight.T)\n",
    "    return class_proba\n",
    "def ocil_mixed_class_assign(x_categoric,x_numeric,freq_in_cluster,cluster_cnt,num_sum,feature_weight):\n",
    "    class_proba = ocil_mixed_class_prob(x_categoric,x_numeric,freq_in_cluster,cluster_cnt,num_sum,feature_weight)\n",
    "    return class_proba.argmax()"
   ]
  },
  {
   "cell_type": "code",
   "execution_count": 5,
   "metadata": {
    "collapsed": true
   },
   "outputs": [],
   "source": [
    "def construct_graph(x_cat,x_num,y):\n",
    "    numP = 2\n",
    "    OCIL(x_cat,x_num,y,numP,4)\n",
    "    "
   ]
  },
  {
   "cell_type": "code",
   "execution_count": 6,
   "metadata": {
    "collapsed": true
   },
   "outputs": [],
   "source": [
    "\n",
    "def construct_ocil_graph(x_cat, x_num, k, m):\n",
    "    n = x_cat.shape[0]\n",
    "    d_c = x_cat.shape[1]\n",
    "    d_n = x_num.shape[1] \n",
    "    d = d_c + d_n\n",
    "\n",
    "    # normalize numeric part\n",
    "    x_num = (x_num - x_num.mean(axis=0))/x_num.std(axis=0, ddof=1)\n",
    "#     print 'start iteration'\n",
    "    # start iteration ---------------------------------------------\n",
    "    sample_freq = np.zeros((m,d_c))\n",
    "\n",
    "    for i in xrange(n):\n",
    "        for j in xrange(d_c):\n",
    "            sample_freq[x_cat[i,j],j] = sample_freq[x_cat[i,j],j]+1\n",
    "\n",
    "    num_diff_val = np.zeros((1,d_c))\n",
    "    for i in xrange(d_c):\n",
    "        num_diff_val[0,i] = np.count_nonzero(sample_freq[:,i])\n",
    "\n",
    "    # find information value\n",
    "    find_inf_val = np.vectorize(lambda x: 0 if x==0 else - (x)*np.log2(x))\n",
    "    val_info = find_inf_val(sample_freq/n) # for each entry of sample_freq :-)\n",
    "\n",
    "\n",
    "    # each attribute entropy - Categorical\n",
    "    attrib_entropy = np.sum(val_info,axis=0)/num_diff_val\n",
    "\n",
    "    feature_weight_cat = (attrib_entropy/np.sum(attrib_entropy))*(d_c*1.0/(d_c+1));\n",
    "    feature_weight_num = np.array([[1.0/(d_c + 1)]])\n",
    "    feature_weight = np.zeros((1,d_c+1))\n",
    "    feature_weight[0,:d_c] = feature_weight_cat\n",
    "    feature_weight[0,d_c] = feature_weight_num\n",
    "\n",
    "\n",
    "    # random initialize k seed points\n",
    "    ran = np.arange(n)\n",
    "    np.random.shuffle(ran)\n",
    "    mu_cat = x_cat[ran[:k]]\n",
    "    mu_num = x_num[ran[:k]]\n",
    "\n",
    "    num_sum = mu_num.copy() #########\n",
    "    freq_in_cluster = np.zeros((d_c,m,k)) # (num of cat, value of each cat, num of clusters)\n",
    "    for c in xrange(k):\n",
    "        for j in xrange(d_c):\n",
    "            freq_in_cluster[j,mu_cat[c,j],c] = freq_in_cluster[j,mu_cat[c,j],c]+1\n",
    "\n",
    "    cluster_label = np.zeros((1, n));\n",
    "    cluster_cnt = np.ones((1, k));\n",
    "\n",
    "    for i in xrange(n):\n",
    "        class_label = ocil_mixed_class_assign(x_cat[[i],:], x_num[[i],:], freq_in_cluster, cluster_cnt, num_sum, feature_weight)\n",
    "        cluster_label[0,i] = class_label\n",
    "        cluster_cnt[0,class_label] = cluster_cnt[0,class_label]+1\n",
    "        num_sum[class_label, :] = num_sum[class_label, :] + x_num[i, :] \n",
    "\n",
    "        for j in xrange(d_c):\n",
    "            freq_in_cluster[j, x_cat[i,j], class_label] = freq_in_cluster[j, x_cat[i,j], class_label]+1;\n",
    "\n",
    "#     print 'iterative step'\n",
    "\n",
    "    # iterative steps\n",
    "    moves = 1\n",
    "    epoch = 0\n",
    "\n",
    "    while moves != 0: # Some class label has been changed in the last step%%%\n",
    "        moves = 0\n",
    "        for i in xrange(n):\n",
    "\n",
    "            new_label = ocil_mixed_class_assign(x_cat[[i],:], x_num[[i],:], freq_in_cluster, cluster_cnt, num_sum, feature_weight)\n",
    "\n",
    "\n",
    "            if cluster_label[0,i] != new_label:  # need adjustment\n",
    "                moves = moves + 1\n",
    "                old_cluster = cluster_label[0,i]\n",
    "                cluster_label[0,i] = new_label    # updata cluster label\n",
    "                cluster_cnt[0,new_label] = cluster_cnt[0,new_label] + 1\n",
    "                cluster_cnt[0,old_cluster] = cluster_cnt[0,old_cluster] - 1   # update cluster counter\n",
    "\n",
    "                num_sum[new_label, :] = num_sum[new_label, :] + x_num[i, :]\n",
    "                num_sum[old_cluster, :] = num_sum[old_cluster, :] - x_num[i, :]\n",
    "\n",
    "                for j in xrange(d_c):        # update the information of the two clusters\n",
    "                    freq_in_cluster[j, x_cat[i,j], new_label] = freq_in_cluster[j, x_cat[i,j], new_label] + 1       \n",
    "                    freq_in_cluster[j, x_cat[i,j], old_cluster] = freq_in_cluster[j, x_cat[i,j], old_cluster] - 1 \n",
    "\n",
    "        epoch = epoch + 1\n",
    "#     print cluster_label\n",
    "    # construct similarity between sample and clusters\n",
    "    simMat = np.zeros((n,k))\n",
    "    for i in xrange(n):\n",
    "        tmp = ocil_mixed_class_prob(x_cat[[i],:], x_num[[i],:], freq_in_cluster, cluster_cnt, num_sum, feature_weight)\n",
    "        simMat[i,:] = tmp[:,0].T\n",
    "\n",
    "        if cluster_label[0,i] != new_label:  # need adjustment\n",
    "            moves = moves + 1\n",
    "            old_cluster = cluster_label[0,i]\n",
    "            cluster_label[0,i] = new_label    # updata cluster label\n",
    "            cluster_cnt[0,new_label] = cluster_cnt[0,new_label] + 1\n",
    "            cluster_cnt[0,old_cluster] = cluster_cnt[0,old_cluster] - 1   # update cluster counter\n",
    "\n",
    "            num_sum[new_label, :] = num_sum[new_label, :] + x_num[i, :]\n",
    "            num_sum[old_cluster, :] = num_sum[old_cluster, :] - x_num[i, :]\n",
    "\n",
    "            for j in xrange(d_c):        # update the information of the two clusters\n",
    "                freq_in_cluster[j, x_cat[i,j], new_label] = freq_in_cluster[j, x_cat[i,j], new_label] + 1       \n",
    "                freq_in_cluster[j, x_cat[i,j], old_cluster] = freq_in_cluster[j, x_cat[i,j], old_cluster] - 1 \n",
    "    return simMat"
   ]
  },
  {
   "cell_type": "code",
   "execution_count": 7,
   "metadata": {
    "collapsed": true
   },
   "outputs": [],
   "source": [
    "\n",
    "def bipartiteUnsupervised(x_cat,x_num,numP,numM):\n",
    "    numS = x_cat.shape[0]\n",
    "    sampleCluster = construct_ocil_graph(x_cat,x_num,numP,numM)\n",
    "    N = numS + numP\n",
    "    W = sps.lil_matrix((N,N))\n",
    "    for i in xrange(numS):\n",
    "        for j in xrange(numP):\n",
    "            W[i,numS+j] = sampleCluster[i,j]\n",
    "            W[numS+j,i] = W[i,numS+j]\n",
    "    W = sps.csr_matrix(W)\n",
    "    d = np.array(W.sum(axis=0))\n",
    "    D = sps.diags(d,[0])\n",
    "    L = D - W\n",
    "    return W,D,L\n",
    "\n",
    "def bipartiteSupervised(x_cat,x_num,y,numP,numM,train_index,test_index):\n",
    "    numS = y.shape[0]\n",
    "    numL = len(np.unique(sorted(y)))\n",
    "    sampleCluster = construct_ocil_graph(x_cat,x_num,numP,numM)\n",
    "    N = numS+numP+numL\n",
    "    W = sps.lil_matrix((N,N))\n",
    "    for i in xrange(numS):\n",
    "        for j in xrange(numP):\n",
    "            W[i,numS+j] = sampleCluster[i,j]#similarity(X[i],centers[j],sigma)\n",
    "            W[numS+j,i] = W[i,numS+j]\n",
    "#     print \"len train: \",len(train_index)\n",
    "    P = []\n",
    "    for i in xrange(numL):\n",
    "        P.append(sum(y==i))\n",
    "        \n",
    "    for i in train_index:\n",
    "        W[i,numS+numP+y[i]] = 1./(3*P[y[i]])\n",
    "        W[numS+numP+y[i],i] = 1./(3*P[y[i]])\n",
    "\n",
    "\n",
    "    W = sps.csr_matrix(W)\n",
    "    d = np.array(W.sum(axis=0))\n",
    "    D = sps.diags(d,[0])\n",
    "    L = D - W\n",
    "    return W,D,L\n",
    "\n"
   ]
  },
  {
   "cell_type": "code",
   "execution_count": 7,
   "metadata": {
    "collapsed": true
   },
   "outputs": [],
   "source": [
    "from sklearn import neighbors\n",
    "def unsupervised10Fold(Xcat,Xnum,y,numP,numM):\n",
    "#     numP = 40\n",
    "    numS = Xcat.shape[0]\n",
    "    acc = []\n",
    "    kf = KFold(numS,n_folds=10,shuffle=True)\n",
    "    i = 0\n",
    "    for train_index,test_index in kf:\n",
    "        W,D,L = bipartiteUnsupervised(Xcat,Xnum,numP,numM)\n",
    "        vals, vecs = sps.linalg.eigs(L, M=D, k=7)\n",
    "        vals = vals.real\n",
    "        vecs = vecs.real[:numS]\n",
    "        yTrain = y[train_index]\n",
    "        yTest = y[test_index]\n",
    "        newRepTrain = vecs[:,1:7][train_index]\n",
    "        newRepTest = vecs[:,1:7][test_index]\n",
    "        NN = neighbors.KNeighborsClassifier(n_neighbors=2)\n",
    "        NN.fit(newRepTrain,yTrain)\n",
    "        XPred = NN.predict(newRepTest)\n",
    "        acc.append(np.sum(XPred==yTest)*1.0/yTest.shape[0])\n",
    "#         print i,\":\",acc[i]\n",
    "        i += 1\n",
    "    return np.mean(acc),np.std(acc)\n",
    "\n",
    "def supervised10Fold(x_cat,x_num,y,numP,numM):\n",
    "#     numP = 40\n",
    "    numS = y.shape[0]\n",
    "    acc = []\n",
    "    kf = KFold(numS,n_folds=10,shuffle=True)\n",
    "    i = 0\n",
    "    for train_index,test_index in kf:\n",
    "        W,D,L = bipartiteSupervised(x_cat,x_num,y,numP,numM,train_index,test_index)\n",
    "        vals, vecs = sps.linalg.eigs(L, M=D, k=7)\n",
    "        vals = vals.real\n",
    "        vecs = vecs.real[:numS]\n",
    "        yTrain = y[train_index]\n",
    "        yTest = y[test_index]\n",
    "        newRepTrain = vecs[:,1:7][train_index]\n",
    "        newRepTest = vecs[:,1:7][test_index]\n",
    "        NN = neighbors.KNeighborsClassifier(n_neighbors=2)\n",
    "        NN.fit(newRepTrain,yTrain)\n",
    "        XPred = NN.predict(newRepTest)\n",
    "        acc.append(np.sum(XPred==yTest)*1.0/yTest.shape[0])\n",
    "#         print i,\":\",acc[i]\n",
    "        i += 1\n",
    "    return np.mean(acc), np.std(acc)"
   ]
  },
  {
   "cell_type": "code",
   "execution_count": 13,
   "metadata": {
    "collapsed": true
   },
   "outputs": [],
   "source": [
    "from sklearn.decomposition import FastICA\n",
    "def ICA10Fold(X,y):\n",
    "    acc = []\n",
    "    kf = KFold(X.shape[0],n_folds=10,shuffle=True)\n",
    "    i = 0\n",
    "    for train_index,test_index in kf:\n",
    "        yTest = y[test_index]\n",
    "        yTrain = y[train_index]\n",
    "        clf =  FastICA()\n",
    "        clf.fit(X[train_index])\n",
    "        newRepTrain = clf.transform(X[train_index])\n",
    "        newRepTest = clf.transform(X[test_index])\n",
    "        nclf = neighbors.KNeighborsClassifier(n_neighbors=2)\n",
    "        nclf.fit(newRepTrain,yTrain)\n",
    "        XPred = nclf.predict(newRepTest)\n",
    "        acc.append(np.sum(XPred==yTest)*1.0/yTest.shape[0])\n",
    "#         print i,\":\",acc[i]\n",
    "        i += 1\n",
    "    return np.mean(acc), np.std(acc)\n",
    "\n",
    "from sklearn.decomposition import PCA, KernelPCA\n",
    "def KPCA10Fold(X,y):\n",
    "    acc = []\n",
    "    kf = KFold(X.shape[0],n_folds=10,shuffle=True)\n",
    "    i = 0\n",
    "    for train_index,test_index in kf:\n",
    "        yTest = y[test_index]\n",
    "        yTrain = y[train_index]\n",
    "        clf = KernelPCA(kernel=\"rbf\", fit_inverse_transform=True, gamma=10)\n",
    "        clf.fit(X[train_index])\n",
    "        newRepTrain = clf.transform(X[train_index])\n",
    "        newRepTest = clf.transform(X[test_index])\n",
    "        nclf = neighbors.KNeighborsClassifier(n_neighbors=2)\n",
    "        nclf.fit(newRepTrain,yTrain)\n",
    "        XPred = nclf.predict(newRepTest)\n",
    "        acc.append(np.sum(XPred==yTest)*1.0/yTest.shape[0])\n",
    "#         print i,\":\",acc[i]\n",
    "        i += 1\n",
    "    return np.mean(acc),np.std(acc)\n",
    "\n",
    "from sklearn.lda import LDA\n",
    "def LDA10Fold(X,y):\n",
    "    acc = []\n",
    "    kf = KFold(X.shape[0],n_folds=10,shuffle=True)\n",
    "    i = 0\n",
    "    for train_index,test_index in kf:\n",
    "        yTest = y[test_index]\n",
    "        yTrain = y[train_index]\n",
    "        clf = LDA()\n",
    "        clf.fit(X[train_index], yTrain)\n",
    "        newRepTrain = clf.transform(X[train_index])\n",
    "        newRepTest = clf.transform(X[test_index])\n",
    "        nclf = neighbors.KNeighborsClassifier(n_neighbors=2)\n",
    "        nclf.fit(newRepTrain,yTrain)\n",
    "        XPred = nclf.predict(newRepTest)\n",
    "        acc.append(np.sum(XPred==yTest)*1.0/yTest.shape[0])\n",
    "#         print i,\":\",acc[i]\n",
    "        i += 1\n",
    "    return np.mean(acc), np.std(acc)\n",
    "from sklearn.decomposition import PCA\n",
    "def PCA10Fold(X,y):\n",
    "    acc = []\n",
    "    kf = KFold(X.shape[0],n_folds=10,shuffle=True)\n",
    "    i = 0\n",
    "    for train_index,test_index in kf:\n",
    "        yTest = y[test_index]\n",
    "        yTrain = y[train_index]\n",
    "        clf = PCA()\n",
    "        clf.fit(X[train_index])\n",
    "        newRepTrain = clf.transform(X[train_index])\n",
    "        newRepTest = clf.transform(X[test_index])\n",
    "        nclf = neighbors.KNeighborsClassifier(n_neighbors=2)\n",
    "        nclf.fit(newRepTrain,yTrain)\n",
    "        XPred = nclf.predict(newRepTest)\n",
    "        acc.append(np.sum(XPred==yTest)*1.0/yTest.shape[0])\n",
    "#         print i,\":\",acc[i]\n",
    "        i += 1\n",
    "    return np.mean(acc), np.std(acc)\n",
    "\n",
    "from sklearn import manifold\n",
    "def LLE10Fold(X,y):\n",
    "    acc = []\n",
    "    kf = KFold(X.shape[0],n_folds=10,shuffle=True)\n",
    "    i = 0\n",
    "    for train_index,test_index in kf:\n",
    "        yTest = y[test_index]\n",
    "        yTrain = y[train_index]\n",
    "        n_neighbors = 30\n",
    "        clf = manifold.LocallyLinearEmbedding(n_neighbors, n_components=2,method='standard')\n",
    "        clf.fit(X[train_index])\n",
    "        newRepTrain = clf.transform(X[train_index])\n",
    "        newRepTest = clf.transform(X[test_index])\n",
    "        nclf = neighbors.KNeighborsClassifier(n_neighbors=2)\n",
    "        nclf.fit(newRepTrain,yTrain)\n",
    "        XPred = nclf.predict(newRepTest)\n",
    "        acc.append(np.sum(XPred==yTest)*1.0/yTest.shape[0])\n",
    "#         print i,\":\",acc[i]\n",
    "        i += 1\n",
    "    return np.mean(acc), np.std(acc)\n",
    "\n",
    "\n",
    "def isomap10Fold(X,y):\n",
    "    acc = []\n",
    "    kf = KFold(X.shape[0],n_folds=10,shuffle=True)\n",
    "    i = 0\n",
    "    for train_index,test_index in kf:\n",
    "        yTest = y[test_index]\n",
    "        yTrain = y[train_index]\n",
    "        n_neighbors = 30\n",
    "        clf = manifold.Isomap(n_neighbors, n_components=2)\n",
    "        clf.fit(X[train_index])\n",
    "        newRepTrain = clf.transform(X[train_index])\n",
    "        newRepTest = clf.transform(X[test_index])\n",
    "        nclf = neighbors.KNeighborsClassifier(n_neighbors=2)\n",
    "        nclf.fit(newRepTrain,yTrain)\n",
    "        XPred = nclf.predict(newRepTest)\n",
    "        acc.append(np.sum(XPred==yTest)*1.0/yTest.shape[0])\n",
    "#         print i,\":\",acc[i]\n",
    "        i += 1\n",
    "    return np.mean(acc), np.std(acc)\n"
   ]
  },
  {
   "cell_type": "markdown",
   "metadata": {},
   "source": [
    "<h2 style=\"color:purple\">result: heart</h2>"
   ]
  },
  {
   "cell_type": "code",
   "execution_count": 456,
   "metadata": {
    "collapsed": false
   },
   "outputs": [
    {
     "name": "stdout",
     "output_type": "stream",
     "text": [
      "10 0.749784946237 0.0670334171508\n",
      "15 0.749247311828 0.0510040250147\n",
      "20 0.729032258065 0.102551561441\n",
      "25 0.745268817204 0.0841770675585\n",
      "30 0.715698924731 0.0741704810642\n",
      "35 0.732580645161 0.0639564432948\n",
      "40 0.735483870968 0.0722753435562\n"
     ]
    }
   ],
   "source": [
    "k = 2 # number of clusters\n",
    "m = 4 # number of max categorical values\n",
    "x_cat , x_num , y = loadHeart()\n",
    "for P in [10,15,20,25,30,35,40]:\n",
    "    mn,st = unsupervised10Fold(x_cat,x_num,y,P,m)\n",
    "    print P,mn,st"
   ]
  },
  {
   "cell_type": "code",
   "execution_count": 457,
   "metadata": {
    "collapsed": false
   },
   "outputs": [
    {
     "name": "stdout",
     "output_type": "stream",
     "text": [
      "10 0.732258064516 0.104395257334\n",
      "15 0.761720430108 0.0783814178511\n",
      "20 0.759139784946 0.0467166869332\n",
      "25 0.728817204301 0.0629226144184\n",
      "30 0.751505376344 0.0861590969502\n",
      "35 0.755376344086 0.0834068354306\n",
      "40 0.742795698925 0.0823262771498\n"
     ]
    }
   ],
   "source": [
    "k = 2 # number of clusters\n",
    "m = 4 # number of max categorical values\n",
    "x_cat , x_num , y = loadHeart()\n",
    "for P in [10,15,20,25,30,35,40]:\n",
    "    mn,st = supervised10Fold(x_cat,x_num,y,P,m)\n",
    "    print P,mn,st"
   ]
  },
  {
   "cell_type": "code",
   "execution_count": 14,
   "metadata": {
    "collapsed": false
   },
   "outputs": [
    {
     "name": "stdout",
     "output_type": "stream",
     "text": [
      "ICA\n",
      "(0.52634408602150529, 0.086178955367585838)\n",
      "PCA\n",
      "(0.53645161290322574, 0.053106633175376082)\n",
      "LDA\n",
      "(0.50344086021505374, 0.084544852707424789)\n",
      "KPCA\n",
      "(0.53311827956989244, 0.084469603325683845)\n",
      "LLE\n",
      "(0.52021505376344079, 0.077389181694884596)\n",
      "isomap\n",
      "(0.5335483870967741, 0.049394062236328223)\n"
     ]
    }
   ],
   "source": [
    "X,y = loadHeart2()\n",
    "methods = [ICA10Fold,PCA10Fold,LDA10Fold,KPCA10Fold,LLE10Fold,isomap10Fold]\n",
    "for method in methods:\n",
    "    print method.__name__[:-6]\n",
    "    print method(X,y)"
   ]
  },
  {
   "cell_type": "markdown",
   "metadata": {},
   "source": [
    "<h2 style=\"color:purple\">result: statlog</h2>"
   ]
  },
  {
   "cell_type": "code",
   "execution_count": 458,
   "metadata": {
    "collapsed": false
   },
   "outputs": [
    {
     "name": "stdout",
     "output_type": "stream",
     "text": [
      "10 0.722222222222 0.095509607098\n",
      "15 0.725925925926 0.0814814814815\n",
      "20 0.733333333333 0.0568973759101\n",
      "25 0.711111111111 0.0592592592593\n",
      "30 0.737037037037 0.0749027719117\n",
      "35 0.707407407407 0.0749027719117\n",
      "40 0.72962962963 0.0759936464025\n"
     ]
    }
   ],
   "source": [
    "k = 2 # number of clusters\n",
    "m = 4 # number of max categorical values\n",
    "x_cat , x_num , y = loadStatlog()\n",
    "for P in [10,15,20,25,30,35,40]:\n",
    "    mn,st = unsupervised10Fold(x_cat,x_num,y,P,m)\n",
    "    print P,mn,st"
   ]
  },
  {
   "cell_type": "code",
   "execution_count": 459,
   "metadata": {
    "collapsed": false
   },
   "outputs": [
    {
     "name": "stdout",
     "output_type": "stream",
     "text": [
      "10 0.711111111111 0.0518518518519\n",
      "15 0.755555555556 0.0814814814815\n",
      "20 0.714814814815 0.0795218909392\n",
      "25 0.737037037037 0.0749027719117\n",
      "30 0.733333333333 0.0544331053952\n",
      "35 0.711111111111 0.0948610998138\n",
      "40 0.725925925926 0.0528994698411\n"
     ]
    }
   ],
   "source": [
    "k = 2 # number of clusters\n",
    "m = 4 # number of max categorical values\n",
    "x_cat , x_num , y = loadStatlog()\n",
    "for P in [10,15,20,25,30,35,40]:\n",
    "    mn,st = supervised10Fold(x_cat,x_num,y,P,m)\n",
    "    print P,mn,st"
   ]
  },
  {
   "cell_type": "code",
   "execution_count": 15,
   "metadata": {
    "collapsed": false
   },
   "outputs": [
    {
     "name": "stdout",
     "output_type": "stream",
     "text": [
      "ICA\n",
      "(0.73333333333333328, 0.049135182079339278)\n",
      "PCA\n",
      "(0.62962962962962954, 0.054934803608116006)\n",
      "LDA\n",
      "(0.80370370370370359, 0.057496943319481568)\n",
      "KPCA\n",
      "(0.55555555555555558, 0.09658077637337259)\n",
      "LLE\n",
      "(0.61111111111111116, 0.083230389089793452)\n",
      "isomap\n",
      "(0.58518518518518525, 0.093403853429025879)\n"
     ]
    }
   ],
   "source": [
    "X,y = loadStatlog2()\n",
    "methods = [ICA10Fold,PCA10Fold,LDA10Fold,KPCA10Fold,LLE10Fold,isomap10Fold]\n",
    "for method in methods:\n",
    "    print method.__name__[:-6]\n",
    "    print method(X,y)"
   ]
  },
  {
   "cell_type": "markdown",
   "metadata": {},
   "source": [
    "<h2 style=\"color:purple\">result: German</h2>"
   ]
  },
  {
   "cell_type": "code",
   "execution_count": 460,
   "metadata": {
    "collapsed": false
   },
   "outputs": [
    {
     "name": "stdout",
     "output_type": "stream",
     "text": [
      "10 0.707 0.0426731765867\n",
      "15 0.686 0.0560713830755\n",
      "20 0.703 0.0357910603363\n",
      "25 0.706 0.054258639865\n",
      "30 0.697 0.044283179651\n",
      "35 0.704 0.0504380808517\n",
      "40 0.699 0.0432319326424\n"
     ]
    }
   ],
   "source": [
    "k = 2 # number of clusters\n",
    "m = 10 # number of max categorical values\n",
    "x_cat , x_num , y = loadGerman()\n",
    "\n",
    "for P in [10,15,20,25,30,35,40]:\n",
    "    mn,st = unsupervised10Fold(x_cat,x_num,y,P,m)\n",
    "    print P,mn,st"
   ]
  },
  {
   "cell_type": "code",
   "execution_count": 461,
   "metadata": {
    "collapsed": false
   },
   "outputs": [
    {
     "name": "stdout",
     "output_type": "stream",
     "text": [
      "10 0.705 0.0514295634825\n",
      "15 0.715 0.030083217913\n",
      "20 0.696 0.0387814388593\n",
      "25 0.699 0.0372692903072\n",
      "30 0.71 0.03577708764\n",
      "35 0.697 0.0504083326445\n",
      "40 0.683 0.0374299345444\n"
     ]
    }
   ],
   "source": [
    "k = 2 # number of clusters\n",
    "m = 10 # number of max categorical values\n",
    "x_cat , x_num , y = loadGerman()\n",
    "\n",
    "for P in [10,15,20,25,30,35,40]:\n",
    "    mn,st = supervised10Fold(x_cat,x_num,y,P,m)\n",
    "    print P,mn,st"
   ]
  },
  {
   "cell_type": "code",
   "execution_count": 16,
   "metadata": {
    "collapsed": false
   },
   "outputs": [
    {
     "name": "stdout",
     "output_type": "stream",
     "text": [
      "ICA\n",
      "(0.51612903225806439, 0.066028860225686173)\n",
      "PCA\n",
      "(0.54322580645161289, 0.06293914974562187)\n",
      "LDA\n",
      "(0.54354838709677422, 0.10750671853963208)\n",
      "KPCA\n",
      "(0.48376344086021505, 0.085522004073305777)\n",
      "LLE\n",
      "(0.51989247311827946, 0.062715462806716984)\n",
      "isomap\n",
      "(0.56204301075268814, 0.10749682375580148)\n"
     ]
    }
   ],
   "source": [
    "X,y = loadHeart2()\n",
    "methods = [ICA10Fold,PCA10Fold,LDA10Fold,KPCA10Fold,LLE10Fold,isomap10Fold]\n",
    "for method in methods:\n",
    "    print method.__name__[:-6]\n",
    "    print method(X,y)"
   ]
  },
  {
   "cell_type": "markdown",
   "metadata": {},
   "source": [
    "<h2 style=\"color:purple\">result: Dermatology</h2>"
   ]
  },
  {
   "cell_type": "code",
   "execution_count": 12,
   "metadata": {
    "collapsed": false
   },
   "outputs": [
    {
     "name": "stdout",
     "output_type": "stream",
     "text": [
      "10 0.876904761905 0.0590301753548\n",
      "15 0.840714285714 0.0532988952495\n",
      "20 0.832698412698 0.0505422847699\n",
      "25 0.829841269841 0.0626252335649\n",
      "30 0.86619047619 0.0640158946627\n",
      "35 0.87746031746 0.0657181196642\n",
      "40 0.86626984127 0.0488920453526\n"
     ]
    },
    {
     "name": "stderr",
     "output_type": "stream",
     "text": [
      "c:\\Anaconda\\lib\\site-packages\\scipy\\sparse\\linalg\\dsolve\\linsolve.py:228: SparseEfficiencyWarning: splu requires CSC matrix format\n",
      "  warn('splu requires CSC matrix format', SparseEfficiencyWarning)\n"
     ]
    }
   ],
   "source": [
    "k = 2 # number of clusters\n",
    "m = 4 # number of max categorical values\n",
    "x_cat , x_num , y = loadDermat()\n",
    "for P in [10,15,20,25,30,35,40]:\n",
    "    mn,st = unsupervised10Fold(x_cat,x_num,y,P,m)\n",
    "    print P,mn,st"
   ]
  },
  {
   "cell_type": "code",
   "execution_count": 34,
   "metadata": {
    "collapsed": true
   },
   "outputs": [],
   "source": [
    "def bipartiteSupervised(x_cat,x_num,y,numP,numM,train_index,test_index):\n",
    "    numS = y.shape[0]\n",
    "    numL = len(np.unique(sorted(y)))\n",
    "    sampleCluster = construct_ocil_graph(x_cat,x_num,numP,numM)\n",
    "    N = numS+numP+numL\n",
    "    W = sps.lil_matrix((N,N))\n",
    "    for i in xrange(numS):\n",
    "        for j in xrange(numP):\n",
    "            W[i,numS+j] = sampleCluster[i,j]#similarity(X[i],centers[j],sigma)\n",
    "            W[numS+j,i] = W[i,numS+j]\n",
    "#     print \"len train: \",len(train_index)\n",
    "    P = []\n",
    "    for i in xrange(numL):\n",
    "        P.append(sum(y==i))\n",
    "        \n",
    "    for i in train_index:\n",
    "        W[i,numS+numP+y[i]] = 1./(2.5*P[y[i]])\n",
    "        W[numS+numP+y[i],i] = 1./(2.5*P[y[i]])\n",
    "\n",
    "\n",
    "    W = sps.csr_matrix(W)\n",
    "    d = np.array(W.sum(axis=0))\n",
    "    D = sps.diags(d,[0])\n",
    "    L = D - W\n",
    "    return W,D,L"
   ]
  },
  {
   "cell_type": "code",
   "execution_count": 35,
   "metadata": {
    "collapsed": false
   },
   "outputs": [
    {
     "name": "stdout",
     "output_type": "stream",
     "text": [
      "10 0.743095238095 0.0874198693667\n",
      "11 0.748412698413 0.0565121721259\n",
      "12 0.790158730159 0.0867422195244\n",
      "13 0.793333333333 0.078167310916\n",
      "14 0.795634920635 0.0475611420416\n",
      "15 0.810158730159 0.0802975381529\n",
      "16 0.835476190476 0.0921503763526\n",
      "17 0.829920634921 0.0465448279925\n",
      "18 0.832222222222 0.045528447219\n",
      "19 0.837698412698 0.0716594592871\n",
      "20 0.851984126984 0.058318214216\n",
      "21 0.857222222222 0.0902360011484\n",
      "22 0.843412698413 0.0440544825198\n",
      "23 0.854761904762 0.0624608721058\n",
      "24 0.840793650794 0.0929799757374\n",
      "25 0.869126984127 0.0743303437366\n",
      "26 0.877142857143 0.0433493196862\n",
      "27 0.857619047619 0.0453440696904\n",
      "28 0.860238095238 0.0489695402573\n",
      "29 0.860079365079 0.0620470992844\n",
      "30 0.86873015873 0.0777204194073\n",
      "31 0.838253968254 0.0770371278853\n",
      "32 0.865952380952 0.0390205900774\n",
      "33 0.846428571429 0.0355326066813\n",
      "34 0.868492063492 0.0674939691977\n",
      "35 0.865634920635 0.0521000766738\n",
      "36 0.866111111111 0.0671946683658\n",
      "37 0.865952380952 0.0445597286005\n",
      "38 0.874365079365 0.0333428746737\n",
      "39 0.846587301587 0.0620826199566\n",
      "40 0.896428571429 0.0386292759764\n",
      "41 0.846587301587 0.0734065205466\n",
      "42 0.885555555556 0.0600314858178\n",
      "43 0.882777777778 0.0299134764709\n",
      "44 0.846349206349 0.0435398301012\n",
      "45 0.868968253968 0.0538952003224\n",
      "46 0.888571428571 0.0426260672295\n",
      "47 0.873968253968 0.0430957496535\n",
      "48 0.874365079365 0.0396826190475\n",
      "49 0.890952380952 0.0343187671366\n",
      "50 0.888333333333 0.0559296362642\n",
      "51 0.879920634921 0.0497677270587\n",
      "52 0.882777777778 0.0459510102052\n",
      "53 0.871507936508 0.0417922521604\n",
      "54 0.882619047619 0.03492685731\n",
      "55 0.885714285714 0.0648359753818\n",
      "56 0.896507936508 0.0564253900382\n",
      "57 0.876984126984 0.0685449684398\n",
      "58 0.896984126984 0.0370130685861\n",
      "59 0.879761904762 0.0418040064576\n",
      "result: 0.896984126984 0.0370130685861\n"
     ]
    }
   ],
   "source": [
    "k = 2 # number of clusters\n",
    "m = 4 # number of max categorical values\n",
    "x_cat , x_num , y = loadDermat()\n",
    "mxM = 0\n",
    "mxE = 0\n",
    "for P in range(10,60):\n",
    "    mn,st = supervised10Fold(x_cat,x_num,y,P,m)\n",
    "    print P,mn,st\n",
    "    if mn>mxM:\n",
    "        mxM = mn\n",
    "        mxE = st\n",
    "print \"result:\",mxM,mxE"
   ]
  },
  {
   "cell_type": "code",
   "execution_count": 17,
   "metadata": {
    "collapsed": false
   },
   "outputs": [
    {
     "name": "stderr",
     "output_type": "stream",
     "text": [
      "c:\\Anaconda\\lib\\site-packages\\sklearn\\decomposition\\fastica_.py:282: DeprecationWarning: Implicitly casting between incompatible kinds. In a future numpy release, this will raise an error. Use casting=\"unsafe\" if this is intentional.\n",
      "  X -= X_mean[:, np.newaxis]\n",
      "c:\\Anaconda\\lib\\site-packages\\sklearn\\decomposition\\fastica_.py:510: DeprecationWarning: Implicitly casting between incompatible kinds. In a future numpy release, this will raise an error. Use casting=\"unsafe\" if this is intentional.\n",
      "  X -= self.mean_\n",
      "c:\\Anaconda\\lib\\site-packages\\sklearn\\decomposition\\fastica_.py:510: DeprecationWarning: Implicitly casting between incompatible kinds. In a future numpy release, this will raise an error. Use casting=\"unsafe\" if this is intentional.\n",
      "  X -= self.mean_\n",
      "c:\\Anaconda\\lib\\site-packages\\sklearn\\decomposition\\fastica_.py:282: DeprecationWarning: Implicitly casting between incompatible kinds. In a future numpy release, this will raise an error. Use casting=\"unsafe\" if this is intentional.\n",
      "  X -= X_mean[:, np.newaxis]\n",
      "c:\\Anaconda\\lib\\site-packages\\sklearn\\decomposition\\fastica_.py:510: DeprecationWarning: Implicitly casting between incompatible kinds. In a future numpy release, this will raise an error. Use casting=\"unsafe\" if this is intentional.\n",
      "  X -= self.mean_\n",
      "c:\\Anaconda\\lib\\site-packages\\sklearn\\decomposition\\fastica_.py:510: DeprecationWarning: Implicitly casting between incompatible kinds. In a future numpy release, this will raise an error. Use casting=\"unsafe\" if this is intentional.\n",
      "  X -= self.mean_\n",
      "c:\\Anaconda\\lib\\site-packages\\sklearn\\decomposition\\fastica_.py:282: DeprecationWarning: Implicitly casting between incompatible kinds. In a future numpy release, this will raise an error. Use casting=\"unsafe\" if this is intentional.\n",
      "  X -= X_mean[:, np.newaxis]\n",
      "c:\\Anaconda\\lib\\site-packages\\sklearn\\decomposition\\fastica_.py:510: DeprecationWarning: Implicitly casting between incompatible kinds. In a future numpy release, this will raise an error. Use casting=\"unsafe\" if this is intentional.\n",
      "  X -= self.mean_\n",
      "c:\\Anaconda\\lib\\site-packages\\sklearn\\decomposition\\fastica_.py:510: DeprecationWarning: Implicitly casting between incompatible kinds. In a future numpy release, this will raise an error. Use casting=\"unsafe\" if this is intentional.\n",
      "  X -= self.mean_\n",
      "c:\\Anaconda\\lib\\site-packages\\sklearn\\decomposition\\fastica_.py:282: DeprecationWarning: Implicitly casting between incompatible kinds. In a future numpy release, this will raise an error. Use casting=\"unsafe\" if this is intentional.\n",
      "  X -= X_mean[:, np.newaxis]\n",
      "c:\\Anaconda\\lib\\site-packages\\sklearn\\decomposition\\fastica_.py:510: DeprecationWarning: Implicitly casting between incompatible kinds. In a future numpy release, this will raise an error. Use casting=\"unsafe\" if this is intentional.\n",
      "  X -= self.mean_\n",
      "c:\\Anaconda\\lib\\site-packages\\sklearn\\decomposition\\fastica_.py:510: DeprecationWarning: Implicitly casting between incompatible kinds. In a future numpy release, this will raise an error. Use casting=\"unsafe\" if this is intentional.\n",
      "  X -= self.mean_\n",
      "c:\\Anaconda\\lib\\site-packages\\sklearn\\decomposition\\fastica_.py:282: DeprecationWarning: Implicitly casting between incompatible kinds. In a future numpy release, this will raise an error. Use casting=\"unsafe\" if this is intentional.\n",
      "  X -= X_mean[:, np.newaxis]\n",
      "c:\\Anaconda\\lib\\site-packages\\sklearn\\decomposition\\fastica_.py:510: DeprecationWarning: Implicitly casting between incompatible kinds. In a future numpy release, this will raise an error. Use casting=\"unsafe\" if this is intentional.\n",
      "  X -= self.mean_\n",
      "c:\\Anaconda\\lib\\site-packages\\sklearn\\decomposition\\fastica_.py:510: DeprecationWarning: Implicitly casting between incompatible kinds. In a future numpy release, this will raise an error. Use casting=\"unsafe\" if this is intentional.\n",
      "  X -= self.mean_\n",
      "c:\\Anaconda\\lib\\site-packages\\sklearn\\decomposition\\fastica_.py:282: DeprecationWarning: Implicitly casting between incompatible kinds. In a future numpy release, this will raise an error. Use casting=\"unsafe\" if this is intentional.\n",
      "  X -= X_mean[:, np.newaxis]\n",
      "c:\\Anaconda\\lib\\site-packages\\sklearn\\decomposition\\fastica_.py:510: DeprecationWarning: Implicitly casting between incompatible kinds. In a future numpy release, this will raise an error. Use casting=\"unsafe\" if this is intentional.\n",
      "  X -= self.mean_\n",
      "c:\\Anaconda\\lib\\site-packages\\sklearn\\decomposition\\fastica_.py:510: DeprecationWarning: Implicitly casting between incompatible kinds. In a future numpy release, this will raise an error. Use casting=\"unsafe\" if this is intentional.\n",
      "  X -= self.mean_\n",
      "c:\\Anaconda\\lib\\site-packages\\sklearn\\decomposition\\fastica_.py:282: DeprecationWarning: Implicitly casting between incompatible kinds. In a future numpy release, this will raise an error. Use casting=\"unsafe\" if this is intentional.\n",
      "  X -= X_mean[:, np.newaxis]\n",
      "c:\\Anaconda\\lib\\site-packages\\sklearn\\decomposition\\fastica_.py:510: DeprecationWarning: Implicitly casting between incompatible kinds. In a future numpy release, this will raise an error. Use casting=\"unsafe\" if this is intentional.\n",
      "  X -= self.mean_\n",
      "c:\\Anaconda\\lib\\site-packages\\sklearn\\decomposition\\fastica_.py:510: DeprecationWarning: Implicitly casting between incompatible kinds. In a future numpy release, this will raise an error. Use casting=\"unsafe\" if this is intentional.\n",
      "  X -= self.mean_\n",
      "c:\\Anaconda\\lib\\site-packages\\sklearn\\decomposition\\fastica_.py:282: DeprecationWarning: Implicitly casting between incompatible kinds. In a future numpy release, this will raise an error. Use casting=\"unsafe\" if this is intentional.\n",
      "  X -= X_mean[:, np.newaxis]\n",
      "c:\\Anaconda\\lib\\site-packages\\sklearn\\decomposition\\fastica_.py:510: DeprecationWarning: Implicitly casting between incompatible kinds. In a future numpy release, this will raise an error. Use casting=\"unsafe\" if this is intentional.\n",
      "  X -= self.mean_\n",
      "c:\\Anaconda\\lib\\site-packages\\sklearn\\decomposition\\fastica_.py:510: DeprecationWarning: Implicitly casting between incompatible kinds. In a future numpy release, this will raise an error. Use casting=\"unsafe\" if this is intentional.\n",
      "  X -= self.mean_\n",
      "c:\\Anaconda\\lib\\site-packages\\sklearn\\decomposition\\fastica_.py:282: DeprecationWarning: Implicitly casting between incompatible kinds. In a future numpy release, this will raise an error. Use casting=\"unsafe\" if this is intentional.\n",
      "  X -= X_mean[:, np.newaxis]\n",
      "c:\\Anaconda\\lib\\site-packages\\sklearn\\decomposition\\fastica_.py:510: DeprecationWarning: Implicitly casting between incompatible kinds. In a future numpy release, this will raise an error. Use casting=\"unsafe\" if this is intentional.\n",
      "  X -= self.mean_\n",
      "c:\\Anaconda\\lib\\site-packages\\sklearn\\decomposition\\fastica_.py:510: DeprecationWarning: Implicitly casting between incompatible kinds. In a future numpy release, this will raise an error. Use casting=\"unsafe\" if this is intentional.\n",
      "  X -= self.mean_\n",
      "c:\\Anaconda\\lib\\site-packages\\sklearn\\decomposition\\fastica_.py:282: DeprecationWarning: Implicitly casting between incompatible kinds. In a future numpy release, this will raise an error. Use casting=\"unsafe\" if this is intentional.\n",
      "  X -= X_mean[:, np.newaxis]\n",
      "c:\\Anaconda\\lib\\site-packages\\sklearn\\decomposition\\fastica_.py:510: DeprecationWarning: Implicitly casting between incompatible kinds. In a future numpy release, this will raise an error. Use casting=\"unsafe\" if this is intentional.\n",
      "  X -= self.mean_\n"
     ]
    },
    {
     "name": "stdout",
     "output_type": "stream",
     "text": [
      "ICA\n",
      "(0.821031746031746, 0.077993909291824273)\n",
      "PCA\n",
      "(0.8941269841269841, 0.049060459612654331)\n",
      "LDA\n",
      "(0.95817460317460301, 0.033384409092735975)\n",
      "KPCA\n",
      "(0.25142857142857145, 0.087938370274245475)\n",
      "LLE\n",
      "(0.51738095238095227, 0.12730834107089462)\n",
      "isomap\n",
      "(0.68412698412698414, 0.048150473808592359)\n"
     ]
    },
    {
     "name": "stderr",
     "output_type": "stream",
     "text": [
      "c:\\Anaconda\\lib\\site-packages\\sklearn\\decomposition\\fastica_.py:510: DeprecationWarning: Implicitly casting between incompatible kinds. In a future numpy release, this will raise an error. Use casting=\"unsafe\" if this is intentional.\n",
      "  X -= self.mean_\n"
     ]
    }
   ],
   "source": [
    "X,y = loadDermat2()\n",
    "methods = [ICA10Fold,PCA10Fold,LDA10Fold,KPCA10Fold,LLE10Fold,isomap10Fold]\n",
    "for method in methods:\n",
    "    print method.__name__[:-6]\n",
    "    print method(X,y)"
   ]
  },
  {
   "cell_type": "code",
   "execution_count": null,
   "metadata": {
    "collapsed": true
   },
   "outputs": [],
   "source": []
  },
  {
   "cell_type": "code",
   "execution_count": null,
   "metadata": {
    "collapsed": true
   },
   "outputs": [],
   "source": []
  },
  {
   "cell_type": "code",
   "execution_count": null,
   "metadata": {
    "collapsed": true
   },
   "outputs": [],
   "source": []
  },
  {
   "cell_type": "code",
   "execution_count": null,
   "metadata": {
    "collapsed": true
   },
   "outputs": [],
   "source": []
  },
  {
   "cell_type": "code",
   "execution_count": null,
   "metadata": {
    "collapsed": true
   },
   "outputs": [],
   "source": []
  },
  {
   "cell_type": "code",
   "execution_count": null,
   "metadata": {
    "collapsed": true
   },
   "outputs": [],
   "source": []
  },
  {
   "cell_type": "code",
   "execution_count": null,
   "metadata": {
    "collapsed": true
   },
   "outputs": [],
   "source": []
  },
  {
   "cell_type": "code",
   "execution_count": null,
   "metadata": {
    "collapsed": true
   },
   "outputs": [],
   "source": []
  },
  {
   "cell_type": "code",
   "execution_count": null,
   "metadata": {
    "collapsed": true
   },
   "outputs": [],
   "source": []
  },
  {
   "cell_type": "code",
   "execution_count": null,
   "metadata": {
    "collapsed": true
   },
   "outputs": [],
   "source": []
  },
  {
   "cell_type": "code",
   "execution_count": 124,
   "metadata": {
    "collapsed": true
   },
   "outputs": [],
   "source": [
    "# wine  -------------------------------------------------------------------------------------------------\n",
    "def loadWine():\n",
    "    wineData = pd.read_csv('data/wine.data',header=None)\n",
    "    wineY = wineData[0].apply(lambda x: x-1).values\n",
    "    wineX = wineData.drop(0,axis=1)\n",
    "    wineX = wineX.values\n",
    "    return wineX,wineY\n",
    "\n",
    "# wine  -------------------------------------------------------------------------------------------------\n",
    "def loadWineNorm():\n",
    "    wineData = pd.read_csv('data/wine.data',header=None)\n",
    "    wineY = wineData[0].apply(lambda x: x-1).values\n",
    "    wineX = wineData.drop(0,axis=1)\n",
    "    wineX = wineX.values\n",
    "    wineX = (wineX - wineX.mean(axis=0))/(wineX.max(axis=0)-wineX.min(axis=0))\n",
    "    return wineX,wineY\n",
    "\n",
    "\n",
    "# glass  -------------------------------------------------------------------------------------------------\n",
    "def loadGlass():\n",
    "    glassData = pd.read_csv('data/glass.data',header=None)\n",
    "    glassY = glassData[10].apply(lambda x: x-1 if x<4 else x-2).values\n",
    "    glassX = glassData.drop([0,10],axis=1)\n",
    "    glassX = glassX.values\n",
    "    return glassX,glassY\n",
    "    \n",
    "# sonar  -------------------------------------------------------------------------------------------------\n",
    "def loadSonar():\n",
    "    sonarData = pd.read_csv('data/sonar.data',header=None)\n",
    "    sonarY = (sonarData[60].apply(lambda x: 0 if x=='M' else 1)).values\n",
    "    sonarX = sonarData.drop(60,axis=1)\n",
    "    sonarX = sonarX.values\n",
    "    return sonarX,sonarY\n",
    "\n",
    "# iris  -------------------------------------------------------------------------------------------------\n",
    "def irisLableSet(name):\n",
    "    names = ['Iris-setosa', 'Iris-versicolor', 'Iris-virginica']\n",
    "    for i in xrange(3):\n",
    "        if names[i] == name:\n",
    "            return i\n",
    "def loadIris():\n",
    "    irisData = pd.read_csv('data/iris.data',header=None)\n",
    "    irisY = irisData[4].apply(irisLableSet).values\n",
    "    irisX = irisData.drop(4,axis=1)\n",
    "    irisX = irisX.values\n",
    "    return irisX,irisY\n",
    "    \n",
    "# mnist   -------------------------------------------------------------------------------------------------\n",
    "import scipy.io\n",
    "def loadMnist():\n",
    "    mnist = scipy.io.loadmat('data/mnistAll.mat')\n",
    "    trains = []\n",
    "    labels = []\n",
    "    tests = []\n",
    "    for i in range(10):\n",
    "        trains.append(mnist['train'+str(i)])\n",
    "        num = mnist['train'+str(i)].shape[0]\n",
    "        labels.append(i*np.ones(num,dtype=int))\n",
    "    mnistX = np.concatenate(trains)\n",
    "    mnistY = np.concatenate(labels)\n",
    "    return mnistX,mnistY\n",
    "    \n",
    "# breast cancer  -------------------------------------------------------------------------------------------------\n",
    "def loadWdbc():\n",
    "    wdbcData = pd.read_csv('data/wdbc.data',header=None)\n",
    "    wdbcY = (wdbcData[1].apply(lambda x: 0 if x=='M' else 1)).values\n",
    "    wdbcX = wdbcData.drop([0,1],axis=1)\n",
    "    wdbcX = wdbcX.values\n",
    "    return wdbcX,wdbcY\n",
    "\n",
    "# usps   -------------------------------------------------------------------------------------------------\n",
    "def loadUsps():\n",
    "    with open('data/usps/usps_train.jf','r') as f:\n",
    "        i = 0\n",
    "        lines = f.readlines()\n",
    "        uspsX = np.zeros((len(lines),256))\n",
    "        uspsY = np.zeros(len(lines),dtype=int)\n",
    "        for line in lines:\n",
    "            splitedLine = line.split()\n",
    "            features = map(float,splitedLine[1:])\n",
    "            uspsY[i] = int(splitedLine[0])\n",
    "            for j in xrange(256):\n",
    "                uspsX[i,j] = features[j]\n",
    "            i += 1\n",
    "    return uspsX,uspsY\n",
    "\n",
    "# waveform  -------------------------------------------------------------------------------------------------\n",
    "def loadWaveform():\n",
    "    waveformData = pd.read_csv('data/waveForm/waveform.data',header=None)\n",
    "    waveformY = waveformData[21].values\n",
    "    waveformX = waveformData.drop(21,axis=1)\n",
    "    waveformX = waveformX.values\n",
    "    return waveformX,waveformY   \n",
    "\n",
    "\n",
    "def generateTwoGaussian():\n",
    "    mean1 = [-2, -2]\n",
    "    cov1 = [[1, 0], [0, 1]]  # diagonal covariance\n",
    "    mean2 = [2,2]\n",
    "    cov2 = [[1, 0], [0, 1]]  # diagonal covariance\n",
    "\n",
    "    # data\n",
    "    X = np.zeros((200,2))\n",
    "    y = np.zeros(200,dtype=int)\n",
    "    X[:100] = np.random.multivariate_normal(mean1, cov1, 100)\n",
    "    X[100:] = np.random.multivariate_normal(mean2, cov2, 100)\n",
    "    y[100:] = np.ones(100)\n",
    "    return X,y\n",
    "\n",
    "def generateXOR():\n",
    "    mean1 = [-2, -2]\n",
    "    cov1 = [[1, 0], [0, 1]]  # diagonal covariance\n",
    "    mean2 = [2,2]\n",
    "    cov2 = [[1, 0], [0, 1]]  # diagonal covariance\n",
    "\n",
    "    # data\n",
    "    X = np.zeros((400,2))\n",
    "    y = np.zeros(400,dtype=int)\n",
    "    X[:100] = np.random.multivariate_normal(mean1, cov1, 100)\n",
    "    X[100:200] = np.random.multivariate_normal(mean2, cov2, 100)\n",
    "    \n",
    "    \n",
    "    mean3 = [2, -2]\n",
    "    cov3 = [[1, 0], [0, 1]]  # diagonal covariance\n",
    "    mean4 = [-2, 2]\n",
    "    cov4 = [[1, 0], [0, 1]]  # diagonal covariance\n",
    "\n",
    "    X[200:300] = np.random.multivariate_normal(mean3, cov3, 100)\n",
    "    X[300:] = np.random.multivariate_normal(mean4, cov4, 100)\n",
    "    y[200:] = np.ones(200)\n",
    "    \n",
    "    return X,y\n",
    "\n",
    "def generateTwoParabola():\n",
    "    x1 = np.linspace(-10, 10, 40)\n",
    "    y1 = .22*x1**2 + .024*x1 + .04  \n",
    "\n",
    "    x2 = np.linspace(0, 20, 40)\n",
    "    y2 = -.2*(x2-10)**2 - .024*(x2-10) + 35\n",
    "\n",
    "    size = x1.shape[0]\n",
    "    EACH = 10\n",
    "    X = np.zeros((2*size*EACH,2))\n",
    "    y = np.zeros(2*size*EACH,dtype=int)\n",
    "    y[size*EACH:] = np.ones(size*EACH)\n",
    "\n",
    "    cov = [[1, 0], [0, 1]]  # diagonal covariance\n",
    "    for i in range(size):\n",
    "        X[i*EACH:(i+1)*EACH] = np.random.multivariate_normal([x1[i],y1[i]], cov, EACH)\n",
    "        X[(i+size)*EACH:(i+size+1)*EACH] = np.random.multivariate_normal([x2[i],y2[i]], cov, EACH)\n",
    "    return X,y\n",
    "def generateTwoDisks():\n",
    "    angle = np.arange(0, np.pi*2, 0.15)\n",
    "\n",
    "    r1 = 50\n",
    "    r2 = 20\n",
    "    size = angle.shape[0]\n",
    "\n",
    "    x1 = r1 * np.cos(angle)\n",
    "    y1 = r1 * np.sin(angle)\n",
    "\n",
    "    x2 = r2 * np.cos(angle)\n",
    "    y2 = r2 * np.sin(angle)\n",
    "\n",
    "\n",
    "    EACH = 10\n",
    "    X = np.zeros((2*size*EACH,2))\n",
    "    Y = np.zeros(2*size*EACH,dtype=int)\n",
    "    Y[size*EACH:] = np.ones(size*EACH)\n",
    "\n",
    "    cov = [[5, 0], [0, 5]]  # diagonal covariance\n",
    "    for i in range(size):\n",
    "        X[i*EACH:(i+1)*EACH] = np.random.multivariate_normal([x1[i],y1[i]], cov, EACH)\n",
    "        X[(i+size)*EACH:(i+size+1)*EACH] = np.random.multivariate_normal([x2[i],y2[i]], cov, EACH)\n",
    "    return X,Y\n",
    "import scipy.io as io\n",
    "def generateConcentric():\n",
    "    concentric = io.loadmat(\"Concentric_rings.mat\")\n",
    "    X = concentric['X'][:,[0,1]]\n",
    "    Y = concentric['Y'][:,0]\n",
    "    Y = (Y==1)\n",
    "    return X,Y\n",
    "#----------------------------------------------------------------------------------------------------------------\n",
    "\n",
    "def loadHillValey():\n",
    "    hill = pd.read_csv('data/new/Hill_Valley_with_noise_Training.data')\n",
    "    hillT = pd.read_csv('data/new/Hill_Valley_with_noise_Testing.data')\n",
    "    h = pd.concat([hill,hillT])\n",
    "#     h.index = range(h.shape[0])\n",
    "    hillX = h.drop('class',axis=1).values\n",
    "    hillY = h['class'].values\n",
    "    return hillX,hillY\n",
    "def loadIonosphere():\n",
    "    ionosphere = pd.read_csv('data/new/ionosphere.data',header=None)\n",
    "    ionX = ionosphere.drop(34,axis=1).values\n",
    "    ionY = ionosphere[34].apply(lambda x: 0 if x=='g' else 1).values\n",
    "    return ionX,ionY"
   ]
  },
  {
   "cell_type": "code",
   "execution_count": 125,
   "metadata": {
    "collapsed": false
   },
   "outputs": [
    {
     "name": "stdout",
     "output_type": "stream",
     "text": [
      "generateTwoDisks\n",
      "(840L, 2L)\n",
      "[0 1]\n",
      "generateXOR\n",
      "(400L, 2L)\n",
      "[0 1]\n",
      "generateTwoParabola\n",
      "(800L, 2L)\n",
      "[0 1]\n",
      "generateConcentric\n",
      "(313L, 2L)\n",
      "[False  True]\n",
      "loadWineNorm\n",
      "(178L, 13L)\n",
      "[0 1 2]\n",
      "loadGlass\n",
      "(214L, 9L)\n",
      "[0 1 2 3 4 5]\n",
      "loadIris\n",
      "(150L, 4L)\n",
      "[0 1 2]\n",
      "loadWdbc\n",
      "(569L, 30L)\n",
      "[0 1]\n",
      "loadSonar\n",
      "(208L, 60L)\n",
      "[0 1]\n",
      "loadWaveform\n",
      "(5000L, 21L)\n",
      "[0 1 2]\n",
      "loadUsps\n",
      "(7291L, 256L)\n",
      "[0 1 2 3 4 5 6 7 8 9]\n"
     ]
    }
   ],
   "source": [
    "datasets = [generateTwoDisks,generateXOR,generateTwoParabola, generateConcentric,\n",
    "            loadWineNorm,loadGlass,loadIris,loadWdbc,loadSonar,loadWaveform,loadUsps]\n",
    "for data in datasets:\n",
    "    X,y = data()\n",
    "    print data.__name__\n",
    "    print X.shape\n",
    "    print np.unique(sorted(y))"
   ]
  },
  {
   "cell_type": "code",
   "execution_count": 126,
   "metadata": {
    "collapsed": false
   },
   "outputs": [
    {
     "name": "stdout",
     "output_type": "stream",
     "text": [
      "(302L, 14L)\n",
      "[0 1]\n"
     ]
    }
   ],
   "source": [
    "heartX,heartY = loadHeart2()\n",
    "print heartX.shape\n",
    "print np.unique(sorted(heartY))"
   ]
  },
  {
   "cell_type": "code",
   "execution_count": 74,
   "metadata": {
    "collapsed": false
   },
   "outputs": [
    {
     "data": {
      "text/html": [
       "<div style=\"max-height:1000px;max-width:1500px;overflow:auto;\">\n",
       "<table border=\"1\" class=\"dataframe\">\n",
       "  <thead>\n",
       "    <tr style=\"text-align: right;\">\n",
       "      <th></th>\n",
       "      <th>X1</th>\n",
       "      <th>X2</th>\n",
       "      <th>X3</th>\n",
       "      <th>X4</th>\n",
       "      <th>X5</th>\n",
       "      <th>X6</th>\n",
       "      <th>X7</th>\n",
       "      <th>X8</th>\n",
       "      <th>X9</th>\n",
       "      <th>X10</th>\n",
       "      <th>...</th>\n",
       "      <th>X92</th>\n",
       "      <th>X93</th>\n",
       "      <th>X94</th>\n",
       "      <th>X95</th>\n",
       "      <th>X96</th>\n",
       "      <th>X97</th>\n",
       "      <th>X98</th>\n",
       "      <th>X99</th>\n",
       "      <th>X100</th>\n",
       "      <th>class</th>\n",
       "    </tr>\n",
       "  </thead>\n",
       "  <tbody>\n",
       "    <tr>\n",
       "      <th>601</th>\n",
       "      <td> 2064.63</td>\n",
       "      <td> 2174.44</td>\n",
       "      <td> 2249.02</td>\n",
       "      <td> 2249.60</td>\n",
       "      <td> 2307.61</td>\n",
       "      <td> 2328.84</td>\n",
       "      <td> 2071.90</td>\n",
       "      <td> 2107.05</td>\n",
       "      <td> 2242.68</td>\n",
       "      <td> 2183.03</td>\n",
       "      <td>...</td>\n",
       "      <td> 2202.95</td>\n",
       "      <td> 2248.56</td>\n",
       "      <td> 2185.22</td>\n",
       "      <td> 2145.38</td>\n",
       "      <td> 2288.64</td>\n",
       "      <td> 2288.42</td>\n",
       "      <td> 2096.08</td>\n",
       "      <td> 2114.25</td>\n",
       "      <td> 2281.91</td>\n",
       "      <td> 0</td>\n",
       "    </tr>\n",
       "    <tr>\n",
       "      <th>602</th>\n",
       "      <td>    9.42</td>\n",
       "      <td>    9.30</td>\n",
       "      <td>    9.66</td>\n",
       "      <td>    9.63</td>\n",
       "      <td>    9.15</td>\n",
       "      <td>    9.91</td>\n",
       "      <td>    9.45</td>\n",
       "      <td>    9.84</td>\n",
       "      <td>    9.36</td>\n",
       "      <td>    9.15</td>\n",
       "      <td>...</td>\n",
       "      <td>    9.85</td>\n",
       "      <td>    9.76</td>\n",
       "      <td>    9.82</td>\n",
       "      <td>    9.64</td>\n",
       "      <td>    9.40</td>\n",
       "      <td>    9.53</td>\n",
       "      <td>    9.23</td>\n",
       "      <td>    9.82</td>\n",
       "      <td>    9.57</td>\n",
       "      <td> 0</td>\n",
       "    </tr>\n",
       "    <tr>\n",
       "      <th>603</th>\n",
       "      <td>    5.31</td>\n",
       "      <td>    5.03</td>\n",
       "      <td>    5.17</td>\n",
       "      <td>    5.02</td>\n",
       "      <td>    5.20</td>\n",
       "      <td>    5.16</td>\n",
       "      <td>    5.11</td>\n",
       "      <td>    5.27</td>\n",
       "      <td>    5.19</td>\n",
       "      <td>    5.13</td>\n",
       "      <td>...</td>\n",
       "      <td>    5.19</td>\n",
       "      <td>    5.06</td>\n",
       "      <td>    5.28</td>\n",
       "      <td>    5.28</td>\n",
       "      <td>    5.19</td>\n",
       "      <td>    5.27</td>\n",
       "      <td>    5.14</td>\n",
       "      <td>    5.12</td>\n",
       "      <td>    5.04</td>\n",
       "      <td> 0</td>\n",
       "    </tr>\n",
       "    <tr>\n",
       "      <th>604</th>\n",
       "      <td>    1.03</td>\n",
       "      <td>    1.02</td>\n",
       "      <td>    1.09</td>\n",
       "      <td>    1.06</td>\n",
       "      <td>    1.03</td>\n",
       "      <td>    1.03</td>\n",
       "      <td>    0.98</td>\n",
       "      <td>    0.97</td>\n",
       "      <td>    1.13</td>\n",
       "      <td>    0.97</td>\n",
       "      <td>...</td>\n",
       "      <td>    1.11</td>\n",
       "      <td>    1.06</td>\n",
       "      <td>    0.96</td>\n",
       "      <td>    1.06</td>\n",
       "      <td>    1.01</td>\n",
       "      <td>    1.07</td>\n",
       "      <td>    1.10</td>\n",
       "      <td>    1.11</td>\n",
       "      <td>    1.07</td>\n",
       "      <td> 0</td>\n",
       "    </tr>\n",
       "    <tr>\n",
       "      <th>605</th>\n",
       "      <td>   61.77</td>\n",
       "      <td>   58.63</td>\n",
       "      <td>   63.06</td>\n",
       "      <td>   58.44</td>\n",
       "      <td>   57.66</td>\n",
       "      <td>   67.63</td>\n",
       "      <td>   58.16</td>\n",
       "      <td>   61.59</td>\n",
       "      <td>   60.71</td>\n",
       "      <td>   58.07</td>\n",
       "      <td>...</td>\n",
       "      <td>   59.52</td>\n",
       "      <td>   58.88</td>\n",
       "      <td>   63.51</td>\n",
       "      <td>   57.27</td>\n",
       "      <td>   60.08</td>\n",
       "      <td>   62.75</td>\n",
       "      <td>   65.13</td>\n",
       "      <td>   59.74</td>\n",
       "      <td>   63.86</td>\n",
       "      <td> 0</td>\n",
       "    </tr>\n",
       "  </tbody>\n",
       "</table>\n",
       "<p>5 rows × 101 columns</p>\n",
       "</div>"
      ],
      "text/plain": [
       "          X1       X2       X3       X4       X5       X6       X7       X8  \\\n",
       "601  2064.63  2174.44  2249.02  2249.60  2307.61  2328.84  2071.90  2107.05   \n",
       "602     9.42     9.30     9.66     9.63     9.15     9.91     9.45     9.84   \n",
       "603     5.31     5.03     5.17     5.02     5.20     5.16     5.11     5.27   \n",
       "604     1.03     1.02     1.09     1.06     1.03     1.03     0.98     0.97   \n",
       "605    61.77    58.63    63.06    58.44    57.66    67.63    58.16    61.59   \n",
       "\n",
       "          X9      X10  ...        X92      X93      X94      X95      X96  \\\n",
       "601  2242.68  2183.03  ...    2202.95  2248.56  2185.22  2145.38  2288.64   \n",
       "602     9.36     9.15  ...       9.85     9.76     9.82     9.64     9.40   \n",
       "603     5.19     5.13  ...       5.19     5.06     5.28     5.28     5.19   \n",
       "604     1.13     0.97  ...       1.11     1.06     0.96     1.06     1.01   \n",
       "605    60.71    58.07  ...      59.52    58.88    63.51    57.27    60.08   \n",
       "\n",
       "         X97      X98      X99     X100  class  \n",
       "601  2288.42  2096.08  2114.25  2281.91      0  \n",
       "602     9.53     9.23     9.82     9.57      0  \n",
       "603     5.27     5.14     5.12     5.04      0  \n",
       "604     1.07     1.10     1.11     1.07      0  \n",
       "605    62.75    65.13    59.74    63.86      0  \n",
       "\n",
       "[5 rows x 101 columns]"
      ]
     },
     "execution_count": 74,
     "metadata": {},
     "output_type": "execute_result"
    }
   ],
   "source": [
    "hill = pd.read_csv('data/new/Hill_Valley_with_noise_Training.data')#,header=None)\n",
    "hill.tail()"
   ]
  },
  {
   "cell_type": "code",
   "execution_count": 133,
   "metadata": {
    "collapsed": false
   },
   "outputs": [
    {
     "data": {
      "text/html": [
       "<div style=\"max-height:1000px;max-width:1500px;overflow:auto;\">\n",
       "<table border=\"1\" class=\"dataframe\">\n",
       "  <thead>\n",
       "    <tr style=\"text-align: right;\">\n",
       "      <th></th>\n",
       "      <th>0</th>\n",
       "      <th>1</th>\n",
       "      <th>2</th>\n",
       "      <th>3</th>\n",
       "      <th>4</th>\n",
       "      <th>5</th>\n",
       "      <th>6</th>\n",
       "      <th>7</th>\n",
       "      <th>8</th>\n",
       "      <th>9</th>\n",
       "      <th>...</th>\n",
       "      <th>13</th>\n",
       "      <th>14</th>\n",
       "      <th>15</th>\n",
       "      <th>16</th>\n",
       "      <th>17</th>\n",
       "      <th>18</th>\n",
       "      <th>19</th>\n",
       "      <th>20</th>\n",
       "      <th>21</th>\n",
       "      <th>22</th>\n",
       "    </tr>\n",
       "  </thead>\n",
       "  <tbody>\n",
       "    <tr>\n",
       "      <th>0</th>\n",
       "      <td> 1</td>\n",
       "      <td> 0</td>\n",
       "      <td> 0</td>\n",
       "      <td> 0</td>\n",
       "      <td> 1</td>\n",
       "      <td> 0</td>\n",
       "      <td> 0</td>\n",
       "      <td> 0</td>\n",
       "      <td> 1</td>\n",
       "      <td> 1</td>\n",
       "      <td>...</td>\n",
       "      <td> 1</td>\n",
       "      <td> 1</td>\n",
       "      <td> 0</td>\n",
       "      <td> 0</td>\n",
       "      <td> 0</td>\n",
       "      <td> 0</td>\n",
       "      <td> 0</td>\n",
       "      <td> 0</td>\n",
       "      <td> 0</td>\n",
       "      <td> 0</td>\n",
       "    </tr>\n",
       "    <tr>\n",
       "      <th>1</th>\n",
       "      <td> 1</td>\n",
       "      <td> 0</td>\n",
       "      <td> 0</td>\n",
       "      <td> 1</td>\n",
       "      <td> 1</td>\n",
       "      <td> 0</td>\n",
       "      <td> 0</td>\n",
       "      <td> 0</td>\n",
       "      <td> 1</td>\n",
       "      <td> 1</td>\n",
       "      <td>...</td>\n",
       "      <td> 1</td>\n",
       "      <td> 1</td>\n",
       "      <td> 0</td>\n",
       "      <td> 0</td>\n",
       "      <td> 0</td>\n",
       "      <td> 0</td>\n",
       "      <td> 0</td>\n",
       "      <td> 0</td>\n",
       "      <td> 0</td>\n",
       "      <td> 1</td>\n",
       "    </tr>\n",
       "    <tr>\n",
       "      <th>2</th>\n",
       "      <td> 1</td>\n",
       "      <td> 1</td>\n",
       "      <td> 0</td>\n",
       "      <td> 1</td>\n",
       "      <td> 0</td>\n",
       "      <td> 1</td>\n",
       "      <td> 0</td>\n",
       "      <td> 0</td>\n",
       "      <td> 1</td>\n",
       "      <td> 0</td>\n",
       "      <td>...</td>\n",
       "      <td> 1</td>\n",
       "      <td> 0</td>\n",
       "      <td> 0</td>\n",
       "      <td> 0</td>\n",
       "      <td> 0</td>\n",
       "      <td> 0</td>\n",
       "      <td> 0</td>\n",
       "      <td> 0</td>\n",
       "      <td> 0</td>\n",
       "      <td> 0</td>\n",
       "    </tr>\n",
       "    <tr>\n",
       "      <th>3</th>\n",
       "      <td> 1</td>\n",
       "      <td> 0</td>\n",
       "      <td> 0</td>\n",
       "      <td> 0</td>\n",
       "      <td> 0</td>\n",
       "      <td> 0</td>\n",
       "      <td> 0</td>\n",
       "      <td> 0</td>\n",
       "      <td> 0</td>\n",
       "      <td> 0</td>\n",
       "      <td>...</td>\n",
       "      <td> 0</td>\n",
       "      <td> 0</td>\n",
       "      <td> 0</td>\n",
       "      <td> 0</td>\n",
       "      <td> 0</td>\n",
       "      <td> 0</td>\n",
       "      <td> 0</td>\n",
       "      <td> 1</td>\n",
       "      <td> 1</td>\n",
       "      <td> 1</td>\n",
       "    </tr>\n",
       "    <tr>\n",
       "      <th>4</th>\n",
       "      <td> 1</td>\n",
       "      <td> 0</td>\n",
       "      <td> 0</td>\n",
       "      <td> 0</td>\n",
       "      <td> 0</td>\n",
       "      <td> 0</td>\n",
       "      <td> 0</td>\n",
       "      <td> 0</td>\n",
       "      <td> 1</td>\n",
       "      <td> 0</td>\n",
       "      <td>...</td>\n",
       "      <td> 1</td>\n",
       "      <td> 0</td>\n",
       "      <td> 1</td>\n",
       "      <td> 1</td>\n",
       "      <td> 0</td>\n",
       "      <td> 0</td>\n",
       "      <td> 0</td>\n",
       "      <td> 0</td>\n",
       "      <td> 0</td>\n",
       "      <td> 0</td>\n",
       "    </tr>\n",
       "  </tbody>\n",
       "</table>\n",
       "<p>5 rows × 23 columns</p>\n",
       "</div>"
      ],
      "text/plain": [
       "   0   1   2   3   4   5   6   7   8   9  ...  13  14  15  16  17  18  19  20  \\\n",
       "0   1   0   0   0   1   0   0   0   1   1 ...   1   1   0   0   0   0   0   0   \n",
       "1   1   0   0   1   1   0   0   0   1   1 ...   1   1   0   0   0   0   0   0   \n",
       "2   1   1   0   1   0   1   0   0   1   0 ...   1   0   0   0   0   0   0   0   \n",
       "3   1   0   0   0   0   0   0   0   0   0 ...   0   0   0   0   0   0   0   1   \n",
       "4   1   0   0   0   0   0   0   0   1   0 ...   1   0   1   1   0   0   0   0   \n",
       "\n",
       "   21  22  \n",
       "0   0   0  \n",
       "1   0   1  \n",
       "2   0   0  \n",
       "3   1   1  \n",
       "4   0   0  \n",
       "\n",
       "[5 rows x 23 columns]"
      ]
     },
     "execution_count": 133,
     "metadata": {},
     "output_type": "execute_result"
    }
   ],
   "source": [
    "spect = pd.read_csv('data/new/SPECT.train',header=None)\n",
    "spect.head()"
   ]
  },
  {
   "cell_type": "code",
   "execution_count": 134,
   "metadata": {
    "collapsed": false
   },
   "outputs": [
    {
     "name": "stdout",
     "output_type": "stream",
     "text": [
      "0 2\n",
      "1 2\n",
      "2 2\n",
      "3 2\n",
      "4 2\n",
      "5 2\n",
      "6 2\n",
      "7 2\n",
      "8 2\n",
      "9 2\n",
      "10 2\n",
      "11 2\n",
      "12 2\n",
      "13 2\n",
      "14 2\n",
      "15 2\n",
      "16 2\n",
      "17 2\n",
      "18 2\n",
      "19 2\n",
      "20 2\n",
      "21 2\n",
      "22 2\n"
     ]
    }
   ],
   "source": [
    "for col in spect.columns:\n",
    "    print col,len(np.unique(sorted(spect[col])))"
   ]
  },
  {
   "cell_type": "code",
   "execution_count": 146,
   "metadata": {
    "collapsed": false,
    "scrolled": true
   },
   "outputs": [
    {
     "name": "stdout",
     "output_type": "stream",
     "text": [
      "0 3\n",
      "1 134\n",
      "2 111\n",
      "3 51\n",
      "4 2429\n",
      "5 1515\n",
      "6 880\n",
      "7 926\n",
      "8 28\n"
     ]
    }
   ],
   "source": [
    "D = wdbcData = pd.read_csv('data/Categorical/abalone.data',header=None)\n",
    "for col in D.columns:\n",
    "    print col,len(np.unique(sorted(D[col])))"
   ]
  },
  {
   "cell_type": "code",
   "execution_count": 147,
   "metadata": {
    "collapsed": false
   },
   "outputs": [
    {
     "data": {
      "text/html": [
       "<div style=\"max-height:1000px;max-width:1500px;overflow:auto;\">\n",
       "<table border=\"1\" class=\"dataframe\">\n",
       "  <thead>\n",
       "    <tr style=\"text-align: right;\">\n",
       "      <th></th>\n",
       "      <th>0</th>\n",
       "      <th>1</th>\n",
       "      <th>2</th>\n",
       "      <th>3</th>\n",
       "      <th>4</th>\n",
       "      <th>5</th>\n",
       "      <th>6</th>\n",
       "      <th>7</th>\n",
       "      <th>8</th>\n",
       "    </tr>\n",
       "  </thead>\n",
       "  <tbody>\n",
       "    <tr>\n",
       "      <th>0</th>\n",
       "      <td> M</td>\n",
       "      <td> 0.455</td>\n",
       "      <td> 0.365</td>\n",
       "      <td> 0.095</td>\n",
       "      <td> 0.5140</td>\n",
       "      <td> 0.2245</td>\n",
       "      <td> 0.1010</td>\n",
       "      <td> 0.150</td>\n",
       "      <td> 15</td>\n",
       "    </tr>\n",
       "    <tr>\n",
       "      <th>1</th>\n",
       "      <td> M</td>\n",
       "      <td> 0.350</td>\n",
       "      <td> 0.265</td>\n",
       "      <td> 0.090</td>\n",
       "      <td> 0.2255</td>\n",
       "      <td> 0.0995</td>\n",
       "      <td> 0.0485</td>\n",
       "      <td> 0.070</td>\n",
       "      <td>  7</td>\n",
       "    </tr>\n",
       "    <tr>\n",
       "      <th>2</th>\n",
       "      <td> F</td>\n",
       "      <td> 0.530</td>\n",
       "      <td> 0.420</td>\n",
       "      <td> 0.135</td>\n",
       "      <td> 0.6770</td>\n",
       "      <td> 0.2565</td>\n",
       "      <td> 0.1415</td>\n",
       "      <td> 0.210</td>\n",
       "      <td>  9</td>\n",
       "    </tr>\n",
       "    <tr>\n",
       "      <th>3</th>\n",
       "      <td> M</td>\n",
       "      <td> 0.440</td>\n",
       "      <td> 0.365</td>\n",
       "      <td> 0.125</td>\n",
       "      <td> 0.5160</td>\n",
       "      <td> 0.2155</td>\n",
       "      <td> 0.1140</td>\n",
       "      <td> 0.155</td>\n",
       "      <td> 10</td>\n",
       "    </tr>\n",
       "    <tr>\n",
       "      <th>4</th>\n",
       "      <td> I</td>\n",
       "      <td> 0.330</td>\n",
       "      <td> 0.255</td>\n",
       "      <td> 0.080</td>\n",
       "      <td> 0.2050</td>\n",
       "      <td> 0.0895</td>\n",
       "      <td> 0.0395</td>\n",
       "      <td> 0.055</td>\n",
       "      <td>  7</td>\n",
       "    </tr>\n",
       "  </tbody>\n",
       "</table>\n",
       "</div>"
      ],
      "text/plain": [
       "   0      1      2      3       4       5       6      7   8\n",
       "0  M  0.455  0.365  0.095  0.5140  0.2245  0.1010  0.150  15\n",
       "1  M  0.350  0.265  0.090  0.2255  0.0995  0.0485  0.070   7\n",
       "2  F  0.530  0.420  0.135  0.6770  0.2565  0.1415  0.210   9\n",
       "3  M  0.440  0.365  0.125  0.5160  0.2155  0.1140  0.155  10\n",
       "4  I  0.330  0.255  0.080  0.2050  0.0895  0.0395  0.055   7"
      ]
     },
     "execution_count": 147,
     "metadata": {},
     "output_type": "execute_result"
    }
   ],
   "source": [
    "D.head()"
   ]
  },
  {
   "cell_type": "code",
   "execution_count": 156,
   "metadata": {
    "collapsed": false
   },
   "outputs": [],
   "source": [
    "tmp = D[(D[8]>3) & (D[8]<18)]"
   ]
  },
  {
   "cell_type": "code",
   "execution_count": 207,
   "metadata": {
    "collapsed": false
   },
   "outputs": [],
   "source": [
    "def abF(x):\n",
    "    if x=='F':\n",
    "        return 0\n",
    "    if x=='I':\n",
    "        return 1\n",
    "    return 2\n",
    "def loadAbalone():\n",
    "    abalone = pd.read_csv('data/Categorical/abalone.data',header=None)\n",
    "    abaloneNum = abalone.drop([0,8],axis=1).values\n",
    "    abalone.loc[:, 0] = abalone[0].apply(abF)\n",
    "    abaloneCat = abalone[[0]].values\n",
    "    abaloneY = abalone[8].values\n",
    "    return abaloneCat,abaloneNum,abaloneY-4"
   ]
  },
  {
   "cell_type": "code",
   "execution_count": 208,
   "metadata": {
    "collapsed": false
   },
   "outputs": [],
   "source": [
    "xc,xn,y = loadAbalone()"
   ]
  },
  {
   "cell_type": "code",
   "execution_count": 209,
   "metadata": {
    "collapsed": false
   },
   "outputs": [
    {
     "data": {
      "text/plain": [
       "(4177L, 7L)"
      ]
     },
     "execution_count": 209,
     "metadata": {},
     "output_type": "execute_result"
    }
   ],
   "source": [
    "xn.shape"
   ]
  },
  {
   "cell_type": "code",
   "execution_count": 210,
   "metadata": {
    "collapsed": false
   },
   "outputs": [
    {
     "data": {
      "text/plain": [
       "array([0, 1, 2], dtype=int64)"
      ]
     },
     "execution_count": 210,
     "metadata": {},
     "output_type": "execute_result"
    }
   ],
   "source": [
    "np.unique(xc)"
   ]
  },
  {
   "cell_type": "code",
   "execution_count": 213,
   "metadata": {
    "collapsed": false
   },
   "outputs": [],
   "source": [
    "# for i in xrange(10):\n",
    "#     mn,st = unsupervised10Fold(xc,xn,y,30,3)\n",
    "#     print mn,st\n",
    "# 0.209705345771 0.0231908034737\n",
    "# 0.220973460466 0.0215412547646\n",
    "# 0.226713366149 0.0164533945549\n",
    "# 0.217387812238 0.0226175162089\n",
    "# 0.219538053768 0.018206412879\n",
    "# 0.208280839443 0.0179660953986\n",
    "# 0.21379585327 0.0101162809606"
   ]
  },
  {
   "cell_type": "code",
   "execution_count": 215,
   "metadata": {
    "collapsed": false
   },
   "outputs": [],
   "source": []
  },
  {
   "cell_type": "code",
   "execution_count": 216,
   "metadata": {
    "collapsed": false
   },
   "outputs": [
    {
     "data": {
      "text/plain": [
       "array([[ 67.,   1.,   2., ...,   3.,   2.,   2.],\n",
       "       [ 63.,   1.,   1., ...,   0.,   1.,   1.],\n",
       "       [ 67.,   1.,   2., ...,   2.,   3.,   2.],\n",
       "       ..., \n",
       "       [ 49.,   1.,   3., ...,   3.,   2.,   2.],\n",
       "       [ 74.,   2.,   4., ...,   1.,   2.,   1.],\n",
       "       [ 54.,   2.,   3., ...,   1.,   2.,   1.]])"
      ]
     },
     "execution_count": 216,
     "metadata": {},
     "output_type": "execute_result"
    }
   ],
   "source": [
    "x"
   ]
  },
  {
   "cell_type": "code",
   "execution_count": 217,
   "metadata": {
    "collapsed": false
   },
   "outputs": [
    {
     "data": {
      "text/plain": [
       "(302L, 14L)"
      ]
     },
     "execution_count": 217,
     "metadata": {},
     "output_type": "execute_result"
    }
   ],
   "source": [
    "x.shape"
   ]
  },
  {
   "cell_type": "code",
   "execution_count": 240,
   "metadata": {
    "collapsed": false
   },
   "outputs": [],
   "source": []
  },
  {
   "cell_type": "code",
   "execution_count": null,
   "metadata": {
    "collapsed": true
   },
   "outputs": [],
   "source": []
  },
  {
   "cell_type": "code",
   "execution_count": 234,
   "metadata": {
    "collapsed": false
   },
   "outputs": [
    {
     "name": "stdout",
     "output_type": "stream",
     "text": [
      "1 [ 0.  1.]\n",
      "2 [ 0.  1.  2.  3.]\n",
      "5 [ 0.  1.]\n",
      "6 [ 0.  1.  2.]\n",
      "8 [ 0.  1.]\n",
      "10 [ 0.  1.  2.]\n",
      "12 [0 1 2]\n"
     ]
    }
   ],
   "source": [
    "for col in heartCat.columns:\n",
    "    print col,np.unique(sorted(heartCat[col]))"
   ]
  },
  {
   "cell_type": "code",
   "execution_count": 250,
   "metadata": {
    "collapsed": false
   },
   "outputs": [
    {
     "data": {
      "text/html": [
       "<div style=\"max-height:1000px;max-width:1500px;overflow:auto;\">\n",
       "<table border=\"1\" class=\"dataframe\">\n",
       "  <thead>\n",
       "    <tr style=\"text-align: right;\">\n",
       "      <th></th>\n",
       "      <th>0</th>\n",
       "      <th>1</th>\n",
       "      <th>2</th>\n",
       "      <th>3</th>\n",
       "      <th>4</th>\n",
       "      <th>5</th>\n",
       "      <th>6</th>\n",
       "      <th>7</th>\n",
       "      <th>8</th>\n",
       "      <th>9</th>\n",
       "      <th>10</th>\n",
       "      <th>11</th>\n",
       "      <th>12</th>\n",
       "      <th>13</th>\n",
       "      <th>14</th>\n",
       "      <th>15</th>\n",
       "    </tr>\n",
       "  </thead>\n",
       "  <tbody>\n",
       "    <tr>\n",
       "      <th>0</th>\n",
       "      <td> b</td>\n",
       "      <td> 30.83</td>\n",
       "      <td> 0.000</td>\n",
       "      <td> u</td>\n",
       "      <td> g</td>\n",
       "      <td> w</td>\n",
       "      <td> v</td>\n",
       "      <td> 1.25</td>\n",
       "      <td> t</td>\n",
       "      <td> t</td>\n",
       "      <td> 1</td>\n",
       "      <td> f</td>\n",
       "      <td> g</td>\n",
       "      <td> 202</td>\n",
       "      <td>   0</td>\n",
       "      <td> +</td>\n",
       "    </tr>\n",
       "    <tr>\n",
       "      <th>1</th>\n",
       "      <td> a</td>\n",
       "      <td> 58.67</td>\n",
       "      <td> 4.460</td>\n",
       "      <td> u</td>\n",
       "      <td> g</td>\n",
       "      <td> q</td>\n",
       "      <td> h</td>\n",
       "      <td> 3.04</td>\n",
       "      <td> t</td>\n",
       "      <td> t</td>\n",
       "      <td> 6</td>\n",
       "      <td> f</td>\n",
       "      <td> g</td>\n",
       "      <td>  43</td>\n",
       "      <td> 560</td>\n",
       "      <td> +</td>\n",
       "    </tr>\n",
       "    <tr>\n",
       "      <th>2</th>\n",
       "      <td> a</td>\n",
       "      <td> 24.50</td>\n",
       "      <td> 0.500</td>\n",
       "      <td> u</td>\n",
       "      <td> g</td>\n",
       "      <td> q</td>\n",
       "      <td> h</td>\n",
       "      <td> 1.50</td>\n",
       "      <td> t</td>\n",
       "      <td> f</td>\n",
       "      <td> 0</td>\n",
       "      <td> f</td>\n",
       "      <td> g</td>\n",
       "      <td> 280</td>\n",
       "      <td> 824</td>\n",
       "      <td> +</td>\n",
       "    </tr>\n",
       "    <tr>\n",
       "      <th>3</th>\n",
       "      <td> b</td>\n",
       "      <td> 27.83</td>\n",
       "      <td> 1.540</td>\n",
       "      <td> u</td>\n",
       "      <td> g</td>\n",
       "      <td> w</td>\n",
       "      <td> v</td>\n",
       "      <td> 3.75</td>\n",
       "      <td> t</td>\n",
       "      <td> t</td>\n",
       "      <td> 5</td>\n",
       "      <td> t</td>\n",
       "      <td> g</td>\n",
       "      <td> 100</td>\n",
       "      <td>   3</td>\n",
       "      <td> +</td>\n",
       "    </tr>\n",
       "    <tr>\n",
       "      <th>4</th>\n",
       "      <td> b</td>\n",
       "      <td> 20.17</td>\n",
       "      <td> 5.625</td>\n",
       "      <td> u</td>\n",
       "      <td> g</td>\n",
       "      <td> w</td>\n",
       "      <td> v</td>\n",
       "      <td> 1.71</td>\n",
       "      <td> t</td>\n",
       "      <td> f</td>\n",
       "      <td> 0</td>\n",
       "      <td> f</td>\n",
       "      <td> s</td>\n",
       "      <td> 120</td>\n",
       "      <td>   0</td>\n",
       "      <td> +</td>\n",
       "    </tr>\n",
       "  </tbody>\n",
       "</table>\n",
       "</div>"
      ],
      "text/plain": [
       "  0      1      2  3  4  5  6     7  8  9   10 11 12   13   14 15\n",
       "0  b  30.83  0.000  u  g  w  v  1.25  t  t   1  f  g  202    0  +\n",
       "1  a  58.67  4.460  u  g  q  h  3.04  t  t   6  f  g   43  560  +\n",
       "2  a  24.50  0.500  u  g  q  h  1.50  t  f   0  f  g  280  824  +\n",
       "3  b  27.83  1.540  u  g  w  v  3.75  t  t   5  t  g  100    3  +\n",
       "4  b  20.17  5.625  u  g  w  v  1.71  t  f   0  f  s  120    0  +"
      ]
     },
     "execution_count": 250,
     "metadata": {},
     "output_type": "execute_result"
    }
   ],
   "source": [
    "\n",
    "approval = pd.read_csv('data/Categorical/Credit approval.data',header=None)\n",
    "categric = [0,3,4,5,6,7,8,9,10,11,12]\n",
    "numeric = [1,2,7,10,13,14]\n",
    "approval.head()"
   ]
  },
  {
   "cell_type": "code",
   "execution_count": 286,
   "metadata": {
    "collapsed": false
   },
   "outputs": [],
   "source": []
  },
  {
   "cell_type": "code",
   "execution_count": 287,
   "metadata": {
    "collapsed": true
   },
   "outputs": [],
   "source": [
    "xc,xn,y = loadGerman()"
   ]
  },
  {
   "cell_type": "code",
   "execution_count": 289,
   "metadata": {
    "collapsed": false
   },
   "outputs": [
    {
     "data": {
      "text/plain": [
       "(1000, 300)"
      ]
     },
     "execution_count": 289,
     "metadata": {},
     "output_type": "execute_result"
    }
   ],
   "source": [
    "len(y),y.sum()"
   ]
  },
  {
   "cell_type": "code",
   "execution_count": 275,
   "metadata": {
    "collapsed": false
   },
   "outputs": [
    {
     "data": {
      "text/html": [
       "<div style=\"max-height:1000px;max-width:1500px;overflow:auto;\">\n",
       "<table border=\"1\" class=\"dataframe\">\n",
       "  <thead>\n",
       "    <tr style=\"text-align: right;\">\n",
       "      <th></th>\n",
       "      <th>0</th>\n",
       "      <th>1</th>\n",
       "      <th>2</th>\n",
       "      <th>3</th>\n",
       "      <th>4</th>\n",
       "      <th>5</th>\n",
       "      <th>6</th>\n",
       "      <th>7</th>\n",
       "      <th>8</th>\n",
       "      <th>9</th>\n",
       "      <th>...</th>\n",
       "      <th>11</th>\n",
       "      <th>12</th>\n",
       "      <th>13</th>\n",
       "      <th>14</th>\n",
       "      <th>15</th>\n",
       "      <th>16</th>\n",
       "      <th>17</th>\n",
       "      <th>18</th>\n",
       "      <th>19</th>\n",
       "      <th>20</th>\n",
       "    </tr>\n",
       "  </thead>\n",
       "  <tbody>\n",
       "    <tr>\n",
       "      <th>0</th>\n",
       "      <td> 0</td>\n",
       "      <td>  6</td>\n",
       "      <td> 4</td>\n",
       "      <td> 4</td>\n",
       "      <td> 1169</td>\n",
       "      <td> 4</td>\n",
       "      <td> 4</td>\n",
       "      <td> 3</td>\n",
       "      <td> 2</td>\n",
       "      <td> 0</td>\n",
       "      <td>...</td>\n",
       "      <td> 0</td>\n",
       "      <td> 67</td>\n",
       "      <td> 2</td>\n",
       "      <td> 1</td>\n",
       "      <td> 1</td>\n",
       "      <td> 2</td>\n",
       "      <td> 0</td>\n",
       "      <td> 1</td>\n",
       "      <td> 0</td>\n",
       "      <td> 1</td>\n",
       "    </tr>\n",
       "    <tr>\n",
       "      <th>1</th>\n",
       "      <td> 1</td>\n",
       "      <td> 48</td>\n",
       "      <td> 2</td>\n",
       "      <td> 4</td>\n",
       "      <td> 5951</td>\n",
       "      <td> 0</td>\n",
       "      <td> 2</td>\n",
       "      <td> 1</td>\n",
       "      <td> 1</td>\n",
       "      <td> 0</td>\n",
       "      <td>...</td>\n",
       "      <td> 0</td>\n",
       "      <td> 22</td>\n",
       "      <td> 2</td>\n",
       "      <td> 1</td>\n",
       "      <td> 0</td>\n",
       "      <td> 2</td>\n",
       "      <td> 0</td>\n",
       "      <td> 0</td>\n",
       "      <td> 0</td>\n",
       "      <td> 2</td>\n",
       "    </tr>\n",
       "    <tr>\n",
       "      <th>2</th>\n",
       "      <td> 3</td>\n",
       "      <td> 12</td>\n",
       "      <td> 4</td>\n",
       "      <td> 7</td>\n",
       "      <td> 2096</td>\n",
       "      <td> 0</td>\n",
       "      <td> 3</td>\n",
       "      <td> 1</td>\n",
       "      <td> 2</td>\n",
       "      <td> 0</td>\n",
       "      <td>...</td>\n",
       "      <td> 0</td>\n",
       "      <td> 49</td>\n",
       "      <td> 2</td>\n",
       "      <td> 1</td>\n",
       "      <td> 0</td>\n",
       "      <td> 1</td>\n",
       "      <td> 1</td>\n",
       "      <td> 0</td>\n",
       "      <td> 0</td>\n",
       "      <td> 1</td>\n",
       "    </tr>\n",
       "    <tr>\n",
       "      <th>3</th>\n",
       "      <td> 0</td>\n",
       "      <td> 42</td>\n",
       "      <td> 2</td>\n",
       "      <td> 3</td>\n",
       "      <td> 7882</td>\n",
       "      <td> 0</td>\n",
       "      <td> 3</td>\n",
       "      <td> 1</td>\n",
       "      <td> 2</td>\n",
       "      <td> 2</td>\n",
       "      <td>...</td>\n",
       "      <td> 1</td>\n",
       "      <td> 45</td>\n",
       "      <td> 2</td>\n",
       "      <td> 2</td>\n",
       "      <td> 0</td>\n",
       "      <td> 2</td>\n",
       "      <td> 1</td>\n",
       "      <td> 0</td>\n",
       "      <td> 0</td>\n",
       "      <td> 1</td>\n",
       "    </tr>\n",
       "    <tr>\n",
       "      <th>4</th>\n",
       "      <td> 0</td>\n",
       "      <td> 24</td>\n",
       "      <td> 3</td>\n",
       "      <td> 0</td>\n",
       "      <td> 4870</td>\n",
       "      <td> 0</td>\n",
       "      <td> 2</td>\n",
       "      <td> 2</td>\n",
       "      <td> 2</td>\n",
       "      <td> 0</td>\n",
       "      <td>...</td>\n",
       "      <td> 3</td>\n",
       "      <td> 53</td>\n",
       "      <td> 2</td>\n",
       "      <td> 2</td>\n",
       "      <td> 1</td>\n",
       "      <td> 2</td>\n",
       "      <td> 1</td>\n",
       "      <td> 0</td>\n",
       "      <td> 0</td>\n",
       "      <td> 2</td>\n",
       "    </tr>\n",
       "  </tbody>\n",
       "</table>\n",
       "<p>5 rows × 21 columns</p>\n",
       "</div>"
      ],
      "text/plain": [
       "   0   1   2   3     4   5   6   7   8   9  ...  11  12  13  14  15  16  17  \\\n",
       "0   0   6   4   4  1169   4   4   3   2   0 ...   0  67   2   1   1   2   0   \n",
       "1   1  48   2   4  5951   0   2   1   1   0 ...   0  22   2   1   0   2   0   \n",
       "2   3  12   4   7  2096   0   3   1   2   0 ...   0  49   2   1   0   1   1   \n",
       "3   0  42   2   3  7882   0   3   1   2   2 ...   1  45   2   2   0   2   1   \n",
       "4   0  24   3   0  4870   0   2   2   2   0 ...   3  53   2   2   1   2   1   \n",
       "\n",
       "   18  19  20  \n",
       "0   1   0   1  \n",
       "1   0   0   2  \n",
       "2   0   0   1  \n",
       "3   0   0   1  \n",
       "4   0   0   2  \n",
       "\n",
       "[5 rows x 21 columns]"
      ]
     },
     "execution_count": 275,
     "metadata": {},
     "output_type": "execute_result"
    }
   ],
   "source": [
    "german = loadGerman()\n",
    "german.head()"
   ]
  },
  {
   "cell_type": "code",
   "execution_count": 269,
   "metadata": {
    "collapsed": false
   },
   "outputs": [
    {
     "data": {
      "text/html": [
       "<div style=\"max-height:1000px;max-width:1500px;overflow:auto;\">\n",
       "<table border=\"1\" class=\"dataframe\">\n",
       "  <thead>\n",
       "    <tr style=\"text-align: right;\">\n",
       "      <th></th>\n",
       "      <th>0</th>\n",
       "      <th>1</th>\n",
       "      <th>2</th>\n",
       "      <th>3</th>\n",
       "      <th>4</th>\n",
       "      <th>5</th>\n",
       "      <th>6</th>\n",
       "      <th>7</th>\n",
       "      <th>8</th>\n",
       "      <th>9</th>\n",
       "      <th>...</th>\n",
       "      <th>11</th>\n",
       "      <th>12</th>\n",
       "      <th>13</th>\n",
       "      <th>14</th>\n",
       "      <th>15</th>\n",
       "      <th>16</th>\n",
       "      <th>17</th>\n",
       "      <th>18</th>\n",
       "      <th>19</th>\n",
       "      <th>20</th>\n",
       "    </tr>\n",
       "  </thead>\n",
       "  <tbody>\n",
       "    <tr>\n",
       "      <th>0</th>\n",
       "      <td> 0</td>\n",
       "      <td>  6</td>\n",
       "      <td> 4</td>\n",
       "      <td> 4</td>\n",
       "      <td> 1169</td>\n",
       "      <td> 4</td>\n",
       "      <td> 4</td>\n",
       "      <td> 3</td>\n",
       "      <td> 2</td>\n",
       "      <td> 0</td>\n",
       "      <td>...</td>\n",
       "      <td> 0</td>\n",
       "      <td> 67</td>\n",
       "      <td> 2</td>\n",
       "      <td> 1</td>\n",
       "      <td> 1</td>\n",
       "      <td> 2</td>\n",
       "      <td> 0</td>\n",
       "      <td> 1</td>\n",
       "      <td> 0</td>\n",
       "      <td> 1</td>\n",
       "    </tr>\n",
       "    <tr>\n",
       "      <th>1</th>\n",
       "      <td> 1</td>\n",
       "      <td> 48</td>\n",
       "      <td> 2</td>\n",
       "      <td> 4</td>\n",
       "      <td> 5951</td>\n",
       "      <td> 0</td>\n",
       "      <td> 2</td>\n",
       "      <td> 1</td>\n",
       "      <td> 1</td>\n",
       "      <td> 0</td>\n",
       "      <td>...</td>\n",
       "      <td> 0</td>\n",
       "      <td> 22</td>\n",
       "      <td> 2</td>\n",
       "      <td> 1</td>\n",
       "      <td> 0</td>\n",
       "      <td> 2</td>\n",
       "      <td> 0</td>\n",
       "      <td> 0</td>\n",
       "      <td> 0</td>\n",
       "      <td> 2</td>\n",
       "    </tr>\n",
       "    <tr>\n",
       "      <th>2</th>\n",
       "      <td> 3</td>\n",
       "      <td> 12</td>\n",
       "      <td> 4</td>\n",
       "      <td> 7</td>\n",
       "      <td> 2096</td>\n",
       "      <td> 0</td>\n",
       "      <td> 3</td>\n",
       "      <td> 1</td>\n",
       "      <td> 2</td>\n",
       "      <td> 0</td>\n",
       "      <td>...</td>\n",
       "      <td> 0</td>\n",
       "      <td> 49</td>\n",
       "      <td> 2</td>\n",
       "      <td> 1</td>\n",
       "      <td> 0</td>\n",
       "      <td> 1</td>\n",
       "      <td> 1</td>\n",
       "      <td> 0</td>\n",
       "      <td> 0</td>\n",
       "      <td> 1</td>\n",
       "    </tr>\n",
       "    <tr>\n",
       "      <th>3</th>\n",
       "      <td> 0</td>\n",
       "      <td> 42</td>\n",
       "      <td> 2</td>\n",
       "      <td> 3</td>\n",
       "      <td> 7882</td>\n",
       "      <td> 0</td>\n",
       "      <td> 3</td>\n",
       "      <td> 1</td>\n",
       "      <td> 2</td>\n",
       "      <td> 2</td>\n",
       "      <td>...</td>\n",
       "      <td> 1</td>\n",
       "      <td> 45</td>\n",
       "      <td> 2</td>\n",
       "      <td> 2</td>\n",
       "      <td> 0</td>\n",
       "      <td> 2</td>\n",
       "      <td> 1</td>\n",
       "      <td> 0</td>\n",
       "      <td> 0</td>\n",
       "      <td> 1</td>\n",
       "    </tr>\n",
       "    <tr>\n",
       "      <th>4</th>\n",
       "      <td> 0</td>\n",
       "      <td> 24</td>\n",
       "      <td> 3</td>\n",
       "      <td> 0</td>\n",
       "      <td> 4870</td>\n",
       "      <td> 0</td>\n",
       "      <td> 2</td>\n",
       "      <td> 2</td>\n",
       "      <td> 2</td>\n",
       "      <td> 0</td>\n",
       "      <td>...</td>\n",
       "      <td> 3</td>\n",
       "      <td> 53</td>\n",
       "      <td> 2</td>\n",
       "      <td> 2</td>\n",
       "      <td> 1</td>\n",
       "      <td> 2</td>\n",
       "      <td> 1</td>\n",
       "      <td> 0</td>\n",
       "      <td> 0</td>\n",
       "      <td> 2</td>\n",
       "    </tr>\n",
       "  </tbody>\n",
       "</table>\n",
       "<p>5 rows × 21 columns</p>\n",
       "</div>"
      ],
      "text/plain": [
       "   0   1   2   3     4   5   6   7   8   9  ...  11  12  13  14  15  16  17  \\\n",
       "0   0   6   4   4  1169   4   4   3   2   0 ...   0  67   2   1   1   2   0   \n",
       "1   1  48   2   4  5951   0   2   1   1   0 ...   0  22   2   1   0   2   0   \n",
       "2   3  12   4   7  2096   0   3   1   2   0 ...   0  49   2   1   0   1   1   \n",
       "3   0  42   2   3  7882   0   3   1   2   2 ...   1  45   2   2   0   2   1   \n",
       "4   0  24   3   0  4870   0   2   2   2   0 ...   3  53   2   2   1   2   1   \n",
       "\n",
       "   18  19  20  \n",
       "0   1   0   1  \n",
       "1   0   0   2  \n",
       "2   0   0   1  \n",
       "3   0   0   1  \n",
       "4   0   0   2  \n",
       "\n",
       "[5 rows x 21 columns]"
      ]
     },
     "execution_count": 269,
     "metadata": {},
     "output_type": "execute_result"
    }
   ],
   "source": [
    "german.head()"
   ]
  },
  {
   "cell_type": "code",
   "execution_count": 266,
   "metadata": {
    "collapsed": false
   },
   "outputs": [
    {
     "name": "stdout",
     "output_type": "stream",
     "text": [
      "1 :\n",
      "[ 4  5  6  7  8  9 10 11 12 13 14 15 16 18 20 21 22 24 26 27 28 30 33 36 39\n",
      " 40 42 45 47 48 54 60 72]\n",
      "4 :\n",
      "[  250   276   338   339   343   362   368   385   392   409   426   428\n",
      "   433   448   454   458   484   518   522   571   585   590   601   609\n",
      "   618   625   626   629   639   640   652   654   660   662   666   672\n",
      "   674   682   683   684   685   691   697   700   701   707   708   709\n",
      "   717   719   727   730   731   741   745   750   753   754   759   760\n",
      "   763   766   776   781   783   790   795   797   802   804   806   836\n",
      "   841   846   860   866   874   882   884   886   888   894   900   902\n",
      "   907   909   915   918   926   929   930   931   932   936   937   939\n",
      "   947   950   951   958   959   960   975   976   983   996   999  1007\n",
      "  1024  1028  1037  1038  1042  1047  1048  1049  1050  1053  1055  1056\n",
      "  1068  1076  1082  1092  1098  1101  1103  1107  1108  1113  1123  1126\n",
      "  1131  1136  1138  1149  1154  1155  1158  1163  1164  1168  1169  1175\n",
      "  1185  1188  1190  1193  1198  1199  1200  1201  1203  1204  1206  1207\n",
      "  1209  1213  1216  1217  1221  1223  1224  1225  1228  1231  1236  1237\n",
      "  1238  1239  1240  1244  1245  1246  1249  1255  1258  1262  1264  1271\n",
      "  1274  1275  1278  1282  1283  1285  1287  1288  1289  1291  1295  1297\n",
      "  1299  1300  1301  1308  1309  1311  1313  1316  1318  1322  1323  1330\n",
      "  1331  1333  1337  1338  1343  1344  1345  1346  1347  1352  1355  1358\n",
      "  1360  1361  1364  1366  1371  1372  1374  1376  1377  1381  1382  1386\n",
      "  1388  1391  1393  1402  1403  1409  1410  1412  1413  1414  1418  1422\n",
      "  1424  1433  1437  1442  1444  1445  1449  1453  1455  1459  1469  1471\n",
      "  1473  1474  1478  1480  1484  1493  1494  1495  1498  1501  1503  1505\n",
      "  1512  1514  1516  1520  1521  1525  1526  1530  1532  1533  1534  1537\n",
      "  1538  1542  1543  1544  1546  1549  1552  1553  1554  1555  1559  1567\n",
      "  1568  1569  1572  1574  1577  1582  1585  1591  1592  1595  1597  1602\n",
      "  1603  1620  1647  1655  1657  1659  1670  1680  1715  1721  1736  1740\n",
      "  1743  1747  1750  1755  1766  1768  1778  1795  1797  1800  1804  1808\n",
      "  1817  1819  1820  1823  1829  1835  1837  1842  1845  1851  1858  1860\n",
      "  1864  1867  1872  1880  1881  1882  1884  1887  1893  1898  1901  1905\n",
      "  1908  1913  1919  1922  1924  1925  1927  1928  1934  1935  1936  1938\n",
      "  1940  1941  1943  1950  1953  1957  1961  1963  1965  1967  1977  1979\n",
      "  1980  1984  1987  1995  2002  2012  2022  2028  2030  2032  2039  2051\n",
      "  2058  2063  2064  2069  2073  2080  2096  2100  2101  2108  2116  2118\n",
      "  2121  2122  2124  2132  2133  2134  2136  2141  2142  2145  2146  2149\n",
      "  2150  2169  2171  2181  2186  2197  2210  2212  2214  2221  2223  2225\n",
      "  2235  2238  2241  2246  2247  2249  2251  2255  2273  2278  2279  2284\n",
      "  2288  2292  2299  2301  2302  2303  2315  2319  2320  2323  2325  2326\n",
      "  2327  2329  2331  2333  2337  2346  2348  2353  2359  2360  2366  2375\n",
      "  2384  2389  2390  2394  2397  2404  2406  2415  2424  2427  2439  2442\n",
      "  2445  2462  2463  2473  2476  2483  2503  2507  2511  2515  2520  2522\n",
      "  2528  2538  2569  2570  2576  2577  2578  2579  2580  2600  2603  2606\n",
      "  2611  2613  2622  2625  2629  2631  2647  2659  2662  2670  2671  2675\n",
      "  2679  2684  2687  2697  2708  2712  2718  2728  2743  2745  2746  2748\n",
      "  2751  2753  2759  2760  2762  2764  2767  2775  2779  2782  2788  2799\n",
      "  2812  2820  2825  2828  2831  2835  2848  2859  2862  2864  2872  2892\n",
      "  2896  2899  2901  2910  2923  2924  2930  2957  2964  2969  2978  2991\n",
      "  2993  2996  3001  3016  3017  3021  3029  3031  3049  3051  3059  3060\n",
      "  3062  3069  3074  3077  3079  3092  3104  3105  3108  3114  3123  3124\n",
      "  3148  3149  3160  3161  3181  3186  3190  3195  3213  3229  3234  3235\n",
      "  3244  3249  3275  3331  3342  3343  3345  3349  3357  3368  3378  3380\n",
      "  3384  3386  3394  3398  3399  3414  3416  3422  3430  3441  3446  3447\n",
      "  3448  3485  3488  3496  3499  3509  3512  3518  3527  3535  3552  3556\n",
      "  3565  3566  3568  3573  3577  3578  3590  3594  3595  3599  3609  3612\n",
      "  3617  3620  3621  3622  3632  3643  3650  3651  3652  3656  3660  3676\n",
      "  3711  3749  3757  3758  3763  3777  3780  3804  3812  3832  3835  3844\n",
      "  3850  3857  3863  3868  3872  3878  3905  3913  3914  3915  3931  3939\n",
      "  3949  3959  3965  3966  3972  3973  3976  3979  3990  4006  4020  4042\n",
      "  4057  4110  4113  4139  4151  4153  4165  4169  4210  4221  4241  4249\n",
      "  4272  4280  4281  4297  4308  4351  4370  4380  4439  4454  4455  4463\n",
      "  4473  4526  4530  4576  4583  4591  4594  4605  4611  4623  4657  4675\n",
      "  4679  4686  4712  4716  4736  4746  4771  4788  4795  4796  4811  4817\n",
      "  4843  4844  4870  4933  5003  5045  5084  5096  5103  5117  5129  5150\n",
      "  5152  5179  5190  5234  5248  5293  5302  5324  5371  5381  5433  5493\n",
      "  5507  5511  5595  5711  5742  5743  5771  5800  5801  5804  5842  5848\n",
      "  5866  5943  5951  5954  5965  5998  6070  6078  6110  6143  6148  6187\n",
      "  6199  6204  6224  6229  6260  6288  6289  6304  6313  6314  6331  6350\n",
      "  6361  6403  6416  6419  6458  6468  6527  6560  6568  6579  6614  6615\n",
      "  6681  6742  6758  6761  6836  6842  6850  6872  6887  6948  6967  6999\n",
      "  7057  7119  7127  7166  7174  7228  7238  7253  7297  7308  7374  7393\n",
      "  7408  7409  7418  7432  7472  7476  7485  7511  7582  7596  7629  7678\n",
      "  7685  7721  7758  7763  7814  7824  7855  7865  7882  7966  7980  8065\n",
      "  8072  8086  8133  8229  8318  8335  8358  8386  8471  8487  8588  8613\n",
      "  8648  8858  8947  8978  9034  9055  9157  9271  9277  9283  9398  9436\n",
      "  9566  9572  9629  9857  9960 10127 10144 10222 10297 10366 10477 10623\n",
      " 10722 10875 10961 10974 11054 11328 11560 11590 11760 11816 11938 11998\n",
      " 12169 12204 12389 12579 12612 12680 12749 12976 13756 14027 14179 14318\n",
      " 14421 14555 14782 14896 15653 15672 15857 15945 18424]\n",
      "12 :\n",
      "[19 20 21 22 23 24 25 26 27 28 29 30 31 32 33 34 35 36 37 38 39 40 41 42 43\n",
      " 44 45 46 47 48 49 50 51 52 53 54 55 56 57 58 59 60 61 62 63 64 65 66 67 68\n",
      " 70 74 75]\n"
     ]
    }
   ],
   "source": [
    "for col in numericG:\n",
    "#     print (approval[col]==np.nan).sum()\n",
    "    print col,':'\n",
    "    print np.unique(sorted(german[col]))"
   ]
  },
  {
   "cell_type": "code",
   "execution_count": 290,
   "metadata": {
    "collapsed": false
   },
   "outputs": [
    {
     "data": {
      "text/html": [
       "<div style=\"max-height:1000px;max-width:1500px;overflow:auto;\">\n",
       "<table border=\"1\" class=\"dataframe\">\n",
       "  <thead>\n",
       "    <tr style=\"text-align: right;\">\n",
       "      <th></th>\n",
       "      <th>0</th>\n",
       "      <th>1</th>\n",
       "      <th>2</th>\n",
       "      <th>3</th>\n",
       "      <th>4</th>\n",
       "      <th>5</th>\n",
       "      <th>6</th>\n",
       "      <th>7</th>\n",
       "      <th>8</th>\n",
       "      <th>9</th>\n",
       "      <th>...</th>\n",
       "      <th>26</th>\n",
       "      <th>27</th>\n",
       "      <th>28</th>\n",
       "      <th>29</th>\n",
       "      <th>30</th>\n",
       "      <th>31</th>\n",
       "      <th>32</th>\n",
       "      <th>33</th>\n",
       "      <th>34</th>\n",
       "      <th>35</th>\n",
       "    </tr>\n",
       "  </thead>\n",
       "  <tbody>\n",
       "    <tr>\n",
       "      <th>0</th>\n",
       "      <td> diaporthe-stem-canker</td>\n",
       "      <td> 6</td>\n",
       "      <td> 0</td>\n",
       "      <td> 2</td>\n",
       "      <td> 1</td>\n",
       "      <td> 0</td>\n",
       "      <td> 1</td>\n",
       "      <td> 1</td>\n",
       "      <td> 1</td>\n",
       "      <td> 0</td>\n",
       "      <td>...</td>\n",
       "      <td> 0</td>\n",
       "      <td> 0</td>\n",
       "      <td> 0</td>\n",
       "      <td> 4</td>\n",
       "      <td> 0</td>\n",
       "      <td> 0</td>\n",
       "      <td> 0</td>\n",
       "      <td> 0</td>\n",
       "      <td> 0</td>\n",
       "      <td> 0</td>\n",
       "    </tr>\n",
       "    <tr>\n",
       "      <th>1</th>\n",
       "      <td> diaporthe-stem-canker</td>\n",
       "      <td> 4</td>\n",
       "      <td> 0</td>\n",
       "      <td> 2</td>\n",
       "      <td> 1</td>\n",
       "      <td> 0</td>\n",
       "      <td> 2</td>\n",
       "      <td> 0</td>\n",
       "      <td> 2</td>\n",
       "      <td> 1</td>\n",
       "      <td>...</td>\n",
       "      <td> 0</td>\n",
       "      <td> 0</td>\n",
       "      <td> 0</td>\n",
       "      <td> 4</td>\n",
       "      <td> 0</td>\n",
       "      <td> 0</td>\n",
       "      <td> 0</td>\n",
       "      <td> 0</td>\n",
       "      <td> 0</td>\n",
       "      <td> 0</td>\n",
       "    </tr>\n",
       "    <tr>\n",
       "      <th>2</th>\n",
       "      <td> diaporthe-stem-canker</td>\n",
       "      <td> 3</td>\n",
       "      <td> 0</td>\n",
       "      <td> 2</td>\n",
       "      <td> 1</td>\n",
       "      <td> 0</td>\n",
       "      <td> 1</td>\n",
       "      <td> 0</td>\n",
       "      <td> 2</td>\n",
       "      <td> 1</td>\n",
       "      <td>...</td>\n",
       "      <td> 0</td>\n",
       "      <td> 0</td>\n",
       "      <td> 0</td>\n",
       "      <td> 4</td>\n",
       "      <td> 0</td>\n",
       "      <td> 0</td>\n",
       "      <td> 0</td>\n",
       "      <td> 0</td>\n",
       "      <td> 0</td>\n",
       "      <td> 0</td>\n",
       "    </tr>\n",
       "    <tr>\n",
       "      <th>3</th>\n",
       "      <td> diaporthe-stem-canker</td>\n",
       "      <td> 3</td>\n",
       "      <td> 0</td>\n",
       "      <td> 2</td>\n",
       "      <td> 1</td>\n",
       "      <td> 0</td>\n",
       "      <td> 1</td>\n",
       "      <td> 0</td>\n",
       "      <td> 2</td>\n",
       "      <td> 0</td>\n",
       "      <td>...</td>\n",
       "      <td> 0</td>\n",
       "      <td> 0</td>\n",
       "      <td> 0</td>\n",
       "      <td> 4</td>\n",
       "      <td> 0</td>\n",
       "      <td> 0</td>\n",
       "      <td> 0</td>\n",
       "      <td> 0</td>\n",
       "      <td> 0</td>\n",
       "      <td> 0</td>\n",
       "    </tr>\n",
       "    <tr>\n",
       "      <th>4</th>\n",
       "      <td> diaporthe-stem-canker</td>\n",
       "      <td> 6</td>\n",
       "      <td> 0</td>\n",
       "      <td> 2</td>\n",
       "      <td> 1</td>\n",
       "      <td> 0</td>\n",
       "      <td> 2</td>\n",
       "      <td> 0</td>\n",
       "      <td> 1</td>\n",
       "      <td> 0</td>\n",
       "      <td>...</td>\n",
       "      <td> 0</td>\n",
       "      <td> 0</td>\n",
       "      <td> 0</td>\n",
       "      <td> 4</td>\n",
       "      <td> 0</td>\n",
       "      <td> 0</td>\n",
       "      <td> 0</td>\n",
       "      <td> 0</td>\n",
       "      <td> 0</td>\n",
       "      <td> 0</td>\n",
       "    </tr>\n",
       "  </tbody>\n",
       "</table>\n",
       "<p>5 rows × 36 columns</p>\n",
       "</div>"
      ],
      "text/plain": [
       "                      0   1   2   3   4   5   6   7   8   9  ...  26  27  28  \\\n",
       "0  diaporthe-stem-canker   6   0   2   1   0   1   1   1   0 ...   0   0   0   \n",
       "1  diaporthe-stem-canker   4   0   2   1   0   2   0   2   1 ...   0   0   0   \n",
       "2  diaporthe-stem-canker   3   0   2   1   0   1   0   2   1 ...   0   0   0   \n",
       "3  diaporthe-stem-canker   3   0   2   1   0   1   0   2   0 ...   0   0   0   \n",
       "4  diaporthe-stem-canker   6   0   2   1   0   2   0   1   0 ...   0   0   0   \n",
       "\n",
       "   29  30  31  32  33  34  35  \n",
       "0   4   0   0   0   0   0   0  \n",
       "1   4   0   0   0   0   0   0  \n",
       "2   4   0   0   0   0   0   0  \n",
       "3   4   0   0   0   0   0   0  \n",
       "4   4   0   0   0   0   0   0  \n",
       "\n",
       "[5 rows x 36 columns]"
      ]
     },
     "execution_count": 290,
     "metadata": {},
     "output_type": "execute_result"
    }
   ],
   "source": [
    "soybean = pd.read_csv('data/Categorical/soyBean.data',header=None)\n",
    "soybean.head()"
   ]
  },
  {
   "cell_type": "code",
   "execution_count": 291,
   "metadata": {
    "collapsed": false
   },
   "outputs": [
    {
     "name": "stdout",
     "output_type": "stream",
     "text": [
      "0 :\n",
      "['alternarialeaf-spot' 'anthracnose' 'bacterial-blight' 'bacterial-pustule'\n",
      " 'brown-spot' 'brown-stem-rot' 'charcoal-rot' 'diaporthe-stem-canker'\n",
      " 'downy-mildew' 'frog-eye-leaf-spot' 'phyllosticta-leaf-spot'\n",
      " 'powdery-mildew' 'purple-seed-stain' 'rhizoctonia-root-rot']\n",
      "1 :\n",
      "[0 1 2 3 4 5 6]\n",
      "2 :\n",
      "[0 1]\n",
      "3 :\n",
      "[0 1 2]\n",
      "4 :\n",
      "[0 1 2]\n",
      "5 :\n",
      "[0 1]\n",
      "6 :\n",
      "[0 1 2 3]\n",
      "7 :\n",
      "[0 1 2 3]\n",
      "8 :\n",
      "[0 1 2]\n",
      "9 :\n",
      "[0 1 2]\n",
      "10 :\n",
      "[0 1 2]\n",
      "11 :\n",
      "[0 1]\n",
      "12 :\n",
      "[0 1]\n",
      "13 :\n",
      "[0 1 2]\n",
      "14 :\n",
      "[0 1 2]\n",
      "15 :\n",
      "[0 1 2]\n",
      "16 :\n",
      "[0 1]\n",
      "17 :\n",
      "[0 1]\n",
      "18 :\n",
      "[0 1 2]\n",
      "19 :\n",
      "[0 1]\n",
      "20 :\n",
      "[0 1]\n",
      "21 :\n",
      "[0 1 2 3]\n",
      "22 :\n",
      "[0 1 2 3]\n",
      "23 :\n",
      "[0 1]\n",
      "24 :\n",
      "[0 1]\n",
      "25 :\n",
      "[0 1]\n",
      "26 :\n",
      "[0 1 2]\n",
      "27 :\n",
      "[0 1]\n",
      "28 :\n",
      "[0 1 3]\n",
      "29 :\n",
      "[0 1 2 4]\n",
      "30 :\n",
      "[0 1]\n",
      "31 :\n",
      "[0 1]\n",
      "32 :\n",
      "[0 1]\n",
      "33 :\n",
      "[0 1]\n",
      "34 :\n",
      "[0 1]\n",
      "35 :\n",
      "[0 1 2]\n"
     ]
    }
   ],
   "source": [
    "for col in soybean.columns:\n",
    "#     print (approval[col]==np.nan).sum()\n",
    "    print col,':'\n",
    "    print np.unique(sorted(soybean[col]))"
   ]
  },
  {
   "cell_type": "code",
   "execution_count": 298,
   "metadata": {
    "collapsed": true
   },
   "outputs": [],
   "source": []
  },
  {
   "cell_type": "code",
   "execution_count": 299,
   "metadata": {
    "collapsed": false
   },
   "outputs": [
    {
     "data": {
      "text/plain": [
       "array([[7, 6, 0, ..., 0, 0, 0],\n",
       "       [7, 4, 0, ..., 0, 0, 0],\n",
       "       [7, 3, 0, ..., 0, 0, 0],\n",
       "       ..., \n",
       "       [9, 5, 0, ..., 0, 0, 0],\n",
       "       [9, 5, 0, ..., 0, 0, 0],\n",
       "       [9, 5, 1, ..., 0, 0, 0]], dtype=int64)"
      ]
     },
     "execution_count": 299,
     "metadata": {},
     "output_type": "execute_result"
    }
   ],
   "source": [
    "x,y = loadSoybean()\n",
    "x"
   ]
  },
  {
   "cell_type": "code",
   "execution_count": 300,
   "metadata": {
    "collapsed": false
   },
   "outputs": [
    {
     "data": {
      "text/plain": [
       "array([ 7,  7,  7,  7,  7,  7,  7,  7,  7,  7,  6,  6,  6,  6,  6,  6,  6,\n",
       "        6,  6,  6, 13, 13, 13, 13, 13, 13, 13, 13, 13, 13,  5,  5,  5,  5,\n",
       "        5,  5,  5,  5,  5,  5,  5,  5,  5,  5,  5,  5,  5,  5,  5,  5, 11,\n",
       "       11, 11, 11, 11, 11, 11, 11, 11, 11,  8,  8,  8,  8,  8,  8,  8,  8,\n",
       "        8,  8,  4,  4,  4,  4,  4,  4,  4,  4,  4,  4,  4,  4,  4,  4,  4,\n",
       "        4,  4,  4,  4,  4,  4,  4,  4,  4,  4,  4,  4,  4,  4,  4,  4,  4,\n",
       "        4,  4,  4,  4,  4,  4,  4,  4,  2,  2,  2,  2,  2,  2,  2,  2,  2,\n",
       "        2,  3,  3,  3,  3,  3,  3,  3,  3,  3,  3, 12, 12, 12, 12, 12, 12,\n",
       "       12, 12, 12, 12,  1,  1,  1,  1,  1,  1,  1,  1,  1,  1,  1,  1,  1,\n",
       "        1,  1,  1,  1,  1,  1,  1, 10, 10, 10, 10, 10, 10, 10, 10, 10, 10,\n",
       "        0,  0,  0,  0,  0,  0,  0,  0,  0,  0,  0,  0,  0,  0,  0,  0,  0,\n",
       "        0,  0,  0,  0,  0,  0,  0,  0,  0,  0,  0,  0,  0,  0,  0,  0,  0,\n",
       "        0,  0,  0,  0,  0,  0,  9,  9,  9,  9,  9,  9,  9,  9,  9,  9,  9,\n",
       "        9,  9,  9,  9,  9,  9,  9,  9,  9,  9,  9,  9,  9,  9,  9,  9,  9,\n",
       "        9,  9,  9,  9,  9,  9,  9,  9,  9,  9,  9,  9], dtype=int64)"
      ]
     },
     "execution_count": 300,
     "metadata": {},
     "output_type": "execute_result"
    }
   ],
   "source": []
  },
  {
   "cell_type": "code",
   "execution_count": null,
   "metadata": {
    "collapsed": true
   },
   "outputs": [],
   "source": [
    "\n",
    "heart = pd.read_csv('data/new/Heart_disease.data',header=None)\n",
    "numeric = [0,3,4,7,9,11]\n",
    "nominal = [1,2,5,6,8,10,12]\n",
    "heartNum = heart[numeric].values\n",
    "heartCat = heart[nominal].values-1\n",
    "heartY = heart[13].values\n",
    "return heartCat,heartNum,heartY-1"
   ]
  },
  {
   "cell_type": "code",
   "execution_count": 371,
   "metadata": {
    "collapsed": true
   },
   "outputs": [],
   "source": [
    "def loadHeart2():\n",
    "    heart = pd.read_csv('data/new/Heart_disease.data',header=None)\n",
    "    numeric = [0,3,4,7,9,11]\n",
    "    nominal = [1,2,5,6,8,10,12]\n",
    "    for col in nominal:\n",
    "        values = np.unique(sorted(heart[col]))\n",
    "        if len(values)<=2:\n",
    "            continue\n",
    "        for val in values:\n",
    "            name = str(col)+'_'+str(val)\n",
    "            heart[name] = heart[col].apply(lambda x: 1 if x==val else 0)\n",
    "        heart = heart.drop([col],axis=1)\n",
    "    heartX = heart.drop(13).values\n",
    "    heartY = heart[13].values-1\n",
    "    return heartX,heartY"
   ]
  },
  {
   "cell_type": "code",
   "execution_count": 372,
   "metadata": {
    "collapsed": true
   },
   "outputs": [],
   "source": [
    "x,y = loadHeart2()"
   ]
  },
  {
   "cell_type": "code",
   "execution_count": 373,
   "metadata": {
    "collapsed": false
   },
   "outputs": [
    {
     "data": {
      "text/plain": [
       "array([[  67.,    1.,  160., ...,    0.,    1.,    0.],\n",
       "       [  63.,    1.,  145., ...,    1.,    0.,    0.],\n",
       "       [  67.,    1.,  120., ...,    0.,    0.,    1.],\n",
       "       ..., \n",
       "       [  49.,    1.,  118., ...,    0.,    1.,    0.],\n",
       "       [  74.,    2.,  120., ...,    0.,    1.,    0.],\n",
       "       [  54.,    2.,  160., ...,    0.,    1.,    0.]])"
      ]
     },
     "execution_count": 373,
     "metadata": {},
     "output_type": "execute_result"
    }
   ],
   "source": [
    "x"
   ]
  },
  {
   "cell_type": "code",
   "execution_count": 374,
   "metadata": {
    "collapsed": false
   },
   "outputs": [
    {
     "data": {
      "text/plain": [
       "array([1, 0, 1, 0, 0, 0, 1, 0, 1, 1, 0, 0, 1, 0, 0, 0, 0, 1, 1, 1, 0, 0, 0,\n",
       "       0, 1, 0, 1, 1, 0, 0, 0, 1, 1, 1, 0, 1, 0, 0, 0, 1, 1, 0, 1, 0, 0, 0,\n",
       "       0, 1, 0, 1, 1, 1, 1, 0, 0, 1, 0, 1, 0, 1, 1, 1, 0, 1, 1, 0, 1, 1, 1,\n",
       "       1, 0, 1, 0, 0, 1, 0, 0, 0, 1, 0, 0, 0, 0, 0, 0, 0, 1, 0, 0, 0, 1, 1,\n",
       "       1, 0, 0, 0, 1, 1, 1, 1, 0, 1, 1, 0, 0, 0, 1, 1, 1, 1, 0, 1, 0, 0, 0,\n",
       "       0, 1, 1, 1, 0, 0, 1, 0, 1, 0, 1, 1, 0, 0, 0, 0, 0, 0, 1, 1, 1, 1, 1,\n",
       "       1, 0, 1, 0, 1, 0, 0, 1, 0, 1, 1, 0, 1, 0, 0, 1, 1, 0, 0, 0, 0, 0, 1,\n",
       "       1, 1, 0, 1, 1, 1, 0, 1, 0, 0, 0, 1, 0, 0, 0, 0, 0, 1, 1, 1, 0, 1, 0,\n",
       "       1, 0, 1, 1, 0, 0, 0, 0, 0, 0, 0, 0, 1, 1, 1, 0, 0, 0, 1, 1, 0, 1, 1,\n",
       "       1, 1, 0, 0, 0, 0, 0, 1, 0, 1, 1, 1, 1, 0, 0, 1, 0, 0, 0, 0, 0, 0, 0,\n",
       "       1, 1, 1, 0, 1, 0, 1, 0, 1, 0, 0, 0, 1, 0, 1, 0, 1, 0, 1, 1, 0, 0, 1,\n",
       "       1, 1, 0, 1, 1, 1, 1, 1, 1, 0, 1, 0, 0, 1, 0, 0, 1, 0, 0, 0, 0, 0, 1,\n",
       "       0, 1, 1, 1, 0, 1, 1, 0, 0, 0, 0, 0, 1, 0, 0, 1, 1, 0, 0, 1, 0, 0, 0,\n",
       "       0, 1, 0, 0], dtype=int64)"
      ]
     },
     "execution_count": 374,
     "metadata": {},
     "output_type": "execute_result"
    }
   ],
   "source": [
    "y"
   ]
  },
  {
   "cell_type": "code",
   "execution_count": 417,
   "metadata": {
    "collapsed": true
   },
   "outputs": [],
   "source": []
  },
  {
   "cell_type": "code",
   "execution_count": 416,
   "metadata": {
    "collapsed": false
   },
   "outputs": [
    {
     "data": {
      "text/plain": [
       "array([1, 0, 2, 0, 2, 1, 4, 2, 3, 3, 0, 1, 1, 0, 2, 3, 1, 0, 2, 4, 5, 1, 4,\n",
       "       2, 4, 0, 5, 4, 1, 2, 0, 1, 0, 1, 2, 0, 1, 3, 0, 1, 4, 2, 3, 5, 1, 2,\n",
       "       2, 3, 0, 0, 4, 0, 1, 2, 3, 1, 5, 0, 4, 0, 1, 2, 0, 3, 4, 0, 1, 5, 2,\n",
       "       4, 3, 1, 1, 0, 2, 4, 0, 1, 1, 1, 4, 0, 0, 2, 0, 3, 1, 1, 4, 0, 2, 3,\n",
       "       1, 4, 0, 5, 1, 4, 0, 1, 1, 0, 3, 0, 2, 0, 0, 2, 4, 2, 2, 4, 1, 2, 3,\n",
       "       0, 1, 4, 5, 0, 0, 1, 5, 2, 4, 3, 0, 0, 2, 4, 4, 0, 3, 1, 2, 0, 1, 0,\n",
       "       0, 2, 2, 2, 1, 4, 3, 1, 1, 0, 0, 0, 4, 2, 1, 2, 1, 1, 3, 1, 2, 5, 1,\n",
       "       0, 0, 2, 3, 2, 2, 0, 0, 0, 2, 0, 0, 1, 2, 2, 0, 0, 0, 0, 5, 1, 1, 1,\n",
       "       1, 0, 2, 2, 2, 0, 0, 1, 2, 1, 1, 1, 4, 4, 4, 4, 4, 0, 0, 0, 0, 0, 0,\n",
       "       0, 2, 2, 2, 2, 2, 2, 3, 3, 3, 3, 4, 4, 4, 4, 4, 4, 4, 1, 1, 1, 1, 0,\n",
       "       0, 0, 0, 0, 0, 5, 5, 0, 0, 0, 0, 0, 0, 0, 0, 2, 2, 2, 2, 2, 2, 2, 3,\n",
       "       3, 3, 3, 3, 3, 5, 5, 5, 3, 3, 3, 0, 0, 0, 0, 0, 1, 1, 3, 3, 3, 0, 0,\n",
       "       1, 1, 1, 2, 2, 2, 2, 0, 0, 0, 0, 4, 4, 4, 4, 4, 2, 2, 2, 3, 0, 0, 3,\n",
       "       3, 3, 0, 0, 0, 2, 2, 2, 2, 2, 0, 0, 0, 0, 3, 3, 0, 0, 3, 2, 2, 3, 0,\n",
       "       0, 3, 3, 4, 4, 0, 0, 4, 4, 2, 0, 4, 4, 5, 5, 3, 3, 5, 5, 5, 0, 0, 0,\n",
       "       4, 4, 0, 0, 0, 0, 1, 1, 3, 3, 2, 2, 0], dtype=int64)"
      ]
     },
     "execution_count": 416,
     "metadata": {},
     "output_type": "execute_result"
    }
   ],
   "source": [
    "dermatY"
   ]
  },
  {
   "cell_type": "code",
   "execution_count": 409,
   "metadata": {
    "collapsed": false,
    "scrolled": false
   },
   "outputs": [
    {
     "name": "stdout",
     "output_type": "stream",
     "text": [
      "0 [0 1 2 3]\n",
      "1 [0 1 2 3]\n",
      "2 [0 1 2 3]\n",
      "3 [0 1 2 3]\n",
      "4 [0 1 2 3]\n",
      "5 [0 1 2 3]\n",
      "6 [0 1 2 3]\n",
      "7 [0 1 2 3]\n",
      "8 [0 1 2 3]\n",
      "9 [0 1 2 3]\n",
      "10 [0 1]\n",
      "11 [0 1 2 3]\n",
      "12 [0 1 2]\n",
      "13 [0 1 2 3]\n",
      "14 [0 1 2 3]\n",
      "15 [0 1 2 3]\n",
      "16 [0 1 2 3]\n",
      "17 [0 1 2 3]\n",
      "18 [0 1 2 3]\n",
      "19 [0 1 2 3]\n",
      "20 [0 1 2 3]\n",
      "21 [0 1 2 3]\n",
      "22 [0 1 2 3]\n",
      "23 [0 1 2 3]\n",
      "24 [0 1 2 3]\n",
      "25 [0 1 2 3]\n",
      "26 [0 1 2 3]\n",
      "27 [0 1 2 3]\n",
      "28 [0 1 2 3]\n",
      "29 [0 1 2 3]\n",
      "30 [0 1 2 3]\n",
      "31 [0 1 2 3]\n",
      "32 [0 1 2 3]\n",
      "33 [ 0  7  8  9 10 12 13 15 16 17 18 19 20 21 22 23 24 25 26 27 28 29 30 31 32\n",
      " 33 34 35 36 37 38 39 40 41 42 43 44 45 46 47 48 49 50 51 52 53 55 56 57 58\n",
      " 60 61 62 63 64 65 67 68 70 75]\n",
      "34 [1 2 3 4 5 6]\n"
     ]
    }
   ],
   "source": [
    "for col in dermat.columns:\n",
    "    print col, np.unique(dermat[col])"
   ]
  },
  {
   "cell_type": "code",
   "execution_count": null,
   "metadata": {
    "collapsed": true
   },
   "outputs": [],
   "source": [
    "def loadHeart2():\n",
    "    heart = pd.read_csv('data/new/Heart_disease.data',header=None)\n",
    "    numeric = [0,3,4,7,9,11]\n",
    "    nominal = [1,2,5,6,8,10,12]\n",
    "    for col in nominal:\n",
    "        values = np.unique(sorted(heart[col]))\n",
    "        if len(values)<=2:\n",
    "            continue\n",
    "        for val in values:\n",
    "            name = str(col)+'_'+str(val)\n",
    "            heart[name] = heart[col].apply(lambda x: 1 if x==val else 0)\n",
    "        heart = heart.drop([col],axis=1)\n",
    "    heartX = heart.drop(13).values\n",
    "    heartY = heart[13].values-1\n",
    "    return heartX,heartY"
   ]
  },
  {
   "cell_type": "code",
   "execution_count": 16,
   "metadata": {
    "collapsed": true
   },
   "outputs": [],
   "source": [
    "def loadDermat2():\n",
    "    dermat = pd.read_csv('data/Categorical/dermatology.data',header=None)\n",
    "    for col in xrange(33):\n",
    "        values = np.unique(sorted(dermat[col]))\n",
    "        if len(values)<=2:\n",
    "            continue\n",
    "        for val in values:\n",
    "            name = str(col)+'_'+str(val)\n",
    "            dermat[name] = dermat[col].apply(lambda x: 1 if x==val else 0)\n",
    "        dermat = dermat.drop([col],axis=1)\n",
    "    \n",
    "    dermatY = dermat[34].values-1\n",
    "    dermat = dermat.drop([34],axis=1).values\n",
    "    return dermat,dermatY"
   ]
  },
  {
   "cell_type": "code",
   "execution_count": 12,
   "metadata": {
    "collapsed": true
   },
   "outputs": [],
   "source": [
    "xc,xn,y = loadDermat2()"
   ]
  },
  {
   "cell_type": "code",
   "execution_count": 13,
   "metadata": {
    "collapsed": false
   },
   "outputs": [
    {
     "data": {
      "text/plain": [
       "array([[0, 0, 0, ..., 0, 0, 0],\n",
       "       [1, 0, 0, ..., 0, 0, 0],\n",
       "       [0, 0, 0, ..., 0, 0, 1],\n",
       "       ..., \n",
       "       [0, 0, 0, ..., 0, 0, 1],\n",
       "       [0, 0, 0, ..., 0, 0, 1],\n",
       "       [0, 0, 0, ..., 0, 0, 0]], dtype=int64)"
      ]
     },
     "execution_count": 13,
     "metadata": {},
     "output_type": "execute_result"
    }
   ],
   "source": [
    "xc"
   ]
  },
  {
   "cell_type": "code",
   "execution_count": 14,
   "metadata": {
    "collapsed": false
   },
   "outputs": [
    {
     "data": {
      "text/plain": [
       "(358L, 128L)"
      ]
     },
     "execution_count": 14,
     "metadata": {},
     "output_type": "execute_result"
    }
   ],
   "source": [
    "xc.shape"
   ]
  },
  {
   "cell_type": "code",
   "execution_count": 431,
   "metadata": {
    "collapsed": false
   },
   "outputs": [
    {
     "data": {
      "text/html": [
       "<div style=\"max-height:1000px;max-width:1500px;overflow:auto;\">\n",
       "<table border=\"1\" class=\"dataframe\">\n",
       "  <thead>\n",
       "    <tr style=\"text-align: right;\">\n",
       "      <th></th>\n",
       "      <th>0</th>\n",
       "      <th>1</th>\n",
       "      <th>2</th>\n",
       "      <th>3</th>\n",
       "      <th>4</th>\n",
       "      <th>5</th>\n",
       "      <th>6</th>\n",
       "      <th>7</th>\n",
       "      <th>8</th>\n",
       "      <th>9</th>\n",
       "      <th>...</th>\n",
       "      <th>23</th>\n",
       "      <th>24</th>\n",
       "      <th>25</th>\n",
       "      <th>26</th>\n",
       "      <th>27</th>\n",
       "      <th>28</th>\n",
       "      <th>29</th>\n",
       "      <th>30</th>\n",
       "      <th>31</th>\n",
       "      <th>32</th>\n",
       "    </tr>\n",
       "  </thead>\n",
       "  <tbody>\n",
       "    <tr>\n",
       "      <th>0</th>\n",
       "      <td> 2</td>\n",
       "      <td> 2</td>\n",
       "      <td> 0</td>\n",
       "      <td> 3</td>\n",
       "      <td> 0</td>\n",
       "      <td> 0</td>\n",
       "      <td> 0</td>\n",
       "      <td> 0</td>\n",
       "      <td> 1</td>\n",
       "      <td> 0</td>\n",
       "      <td>...</td>\n",
       "      <td> 0</td>\n",
       "      <td> 0</td>\n",
       "      <td> 0</td>\n",
       "      <td> 0</td>\n",
       "      <td> 3</td>\n",
       "      <td> 0</td>\n",
       "      <td> 0</td>\n",
       "      <td> 0</td>\n",
       "      <td> 1</td>\n",
       "      <td> 0</td>\n",
       "    </tr>\n",
       "    <tr>\n",
       "      <th>1</th>\n",
       "      <td> 3</td>\n",
       "      <td> 3</td>\n",
       "      <td> 3</td>\n",
       "      <td> 2</td>\n",
       "      <td> 1</td>\n",
       "      <td> 0</td>\n",
       "      <td> 0</td>\n",
       "      <td> 0</td>\n",
       "      <td> 1</td>\n",
       "      <td> 1</td>\n",
       "      <td>...</td>\n",
       "      <td> 1</td>\n",
       "      <td> 0</td>\n",
       "      <td> 0</td>\n",
       "      <td> 0</td>\n",
       "      <td> 0</td>\n",
       "      <td> 0</td>\n",
       "      <td> 0</td>\n",
       "      <td> 0</td>\n",
       "      <td> 1</td>\n",
       "      <td> 0</td>\n",
       "    </tr>\n",
       "    <tr>\n",
       "      <th>2</th>\n",
       "      <td> 2</td>\n",
       "      <td> 1</td>\n",
       "      <td> 2</td>\n",
       "      <td> 3</td>\n",
       "      <td> 1</td>\n",
       "      <td> 3</td>\n",
       "      <td> 0</td>\n",
       "      <td> 3</td>\n",
       "      <td> 0</td>\n",
       "      <td> 0</td>\n",
       "      <td>...</td>\n",
       "      <td> 0</td>\n",
       "      <td> 2</td>\n",
       "      <td> 0</td>\n",
       "      <td> 2</td>\n",
       "      <td> 3</td>\n",
       "      <td> 2</td>\n",
       "      <td> 0</td>\n",
       "      <td> 0</td>\n",
       "      <td> 2</td>\n",
       "      <td> 3</td>\n",
       "    </tr>\n",
       "    <tr>\n",
       "      <th>3</th>\n",
       "      <td> 2</td>\n",
       "      <td> 2</td>\n",
       "      <td> 2</td>\n",
       "      <td> 0</td>\n",
       "      <td> 0</td>\n",
       "      <td> 0</td>\n",
       "      <td> 0</td>\n",
       "      <td> 0</td>\n",
       "      <td> 3</td>\n",
       "      <td> 2</td>\n",
       "      <td>...</td>\n",
       "      <td> 0</td>\n",
       "      <td> 0</td>\n",
       "      <td> 3</td>\n",
       "      <td> 0</td>\n",
       "      <td> 0</td>\n",
       "      <td> 0</td>\n",
       "      <td> 0</td>\n",
       "      <td> 0</td>\n",
       "      <td> 3</td>\n",
       "      <td> 0</td>\n",
       "    </tr>\n",
       "    <tr>\n",
       "      <th>4</th>\n",
       "      <td> 2</td>\n",
       "      <td> 3</td>\n",
       "      <td> 2</td>\n",
       "      <td> 2</td>\n",
       "      <td> 2</td>\n",
       "      <td> 2</td>\n",
       "      <td> 0</td>\n",
       "      <td> 2</td>\n",
       "      <td> 0</td>\n",
       "      <td> 0</td>\n",
       "      <td>...</td>\n",
       "      <td> 0</td>\n",
       "      <td> 2</td>\n",
       "      <td> 2</td>\n",
       "      <td> 3</td>\n",
       "      <td> 2</td>\n",
       "      <td> 3</td>\n",
       "      <td> 0</td>\n",
       "      <td> 0</td>\n",
       "      <td> 2</td>\n",
       "      <td> 3</td>\n",
       "    </tr>\n",
       "  </tbody>\n",
       "</table>\n",
       "<p>5 rows × 33 columns</p>\n",
       "</div>"
      ],
      "text/plain": [
       "   0   1   2   3   4   5   6   7   8   9  ...  23  24  25  26  27  28  29  30  \\\n",
       "0   2   2   0   3   0   0   0   0   1   0 ...   0   0   0   0   3   0   0   0   \n",
       "1   3   3   3   2   1   0   0   0   1   1 ...   1   0   0   0   0   0   0   0   \n",
       "2   2   1   2   3   1   3   0   3   0   0 ...   0   2   0   2   3   2   0   0   \n",
       "3   2   2   2   0   0   0   0   0   3   2 ...   0   0   3   0   0   0   0   0   \n",
       "4   2   3   2   2   2   2   0   2   0   0 ...   0   2   2   3   2   3   0   0   \n",
       "\n",
       "   31  32  \n",
       "0   1   0  \n",
       "1   1   0  \n",
       "2   2   3  \n",
       "3   3   0  \n",
       "4   2   3  \n",
       "\n",
       "[5 rows x 33 columns]"
      ]
     },
     "execution_count": 431,
     "metadata": {},
     "output_type": "execute_result"
    }
   ],
   "source": [
    "dermat = pd.read_csv('data/Categorical/dermatology.data',header=None)\n",
    "dermatCat = dermat.drop([33,34],axis=1)\n",
    "dermatCat.head()"
   ]
  },
  {
   "cell_type": "code",
   "execution_count": 16,
   "metadata": {
    "collapsed": true
   },
   "outputs": [],
   "source": [
    "dermat = pd.read_csv('data/Categorical/dermatology.data',header=None)\n",
    "dermatX = dermat.drop([34],axis=1).values\n",
    "dermatY = dermat[34].values-1\n",
    "return dermatX,dermatY"
   ]
  },
  {
   "cell_type": "code",
   "execution_count": 31,
   "metadata": {
    "collapsed": false
   },
   "outputs": [],
   "source": [
    "cat,num,y = loadDermat()"
   ]
  },
  {
   "cell_type": "code",
   "execution_count": 32,
   "metadata": {
    "collapsed": false
   },
   "outputs": [
    {
     "data": {
      "text/plain": [
       "((358L, 33L), (358L, 1L))"
      ]
     },
     "execution_count": 32,
     "metadata": {},
     "output_type": "execute_result"
    }
   ],
   "source": [
    "cat.shape, num.shape"
   ]
  },
  {
   "cell_type": "code",
   "execution_count": 33,
   "metadata": {
    "collapsed": false
   },
   "outputs": [
    {
     "data": {
      "text/plain": [
       "array([0, 1, 2, 3, 4, 5], dtype=int64)"
      ]
     },
     "execution_count": 33,
     "metadata": {},
     "output_type": "execute_result"
    }
   ],
   "source": [
    "np.unique(y)"
   ]
  },
  {
   "cell_type": "code",
   "execution_count": null,
   "metadata": {
    "collapsed": true
   },
   "outputs": [],
   "source": []
  }
 ],
 "metadata": {
  "kernelspec": {
   "display_name": "Python 2",
   "language": "python",
   "name": "python2"
  },
  "language_info": {
   "codemirror_mode": {
    "name": "ipython",
    "version": 2
   },
   "file_extension": ".py",
   "mimetype": "text/x-python",
   "name": "python",
   "nbconvert_exporter": "python",
   "pygments_lexer": "ipython2",
   "version": "2.7.9"
  }
 },
 "nbformat": 4,
 "nbformat_minor": 0
}
