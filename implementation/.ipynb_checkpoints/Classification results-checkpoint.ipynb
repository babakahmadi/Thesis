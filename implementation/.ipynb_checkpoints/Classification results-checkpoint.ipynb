{
 "cells": [
  {
   "cell_type": "code",
   "execution_count": 1,
   "metadata": {
    "collapsed": true
   },
   "outputs": [],
   "source": [
    "from lib import myDataset\n",
    "from lib import proposed\n",
    "from lib import myPlot\n",
    "from lib import otherMethods\n",
    "import numpy as np\n",
    "import time\n",
    "from lib import runtime\n",
    "\n",
    "from matplotlib import pyplot as plt\n",
    "%matplotlib inline"
   ]
  },
  {
   "cell_type": "code",
   "execution_count": 30,
   "metadata": {
    "collapsed": true
   },
   "outputs": [],
   "source": [
    "def barPlot(algs,runtimes,dataName):\n",
    "    y_pos = np.arange(len(algs))\n",
    "    plt.bar(y_pos, run,width=.5, color='g', align='center', alpha=0.5)\n",
    "    plt.xticks(y_pos, algs)\n",
    "    plt.ylabel('run time')\n",
    "    plt.title(dataName)\n",
    "    plt.show()"
   ]
  },
  {
   "cell_type": "code",
   "execution_count": 31,
   "metadata": {
    "collapsed": false
   },
   "outputs": [
    {
     "data": {
      "image/png": "[encoded data removed]",
      "text/plain": [
       "<matplotlib.figure.Figure at 0x183e7748>"
      ]
     },
     "metadata": {},
     "output_type": "display_data"
    }
   ],
   "source": [
    "alg = ['a','b','c','d']\n",
    "run = [120,13,15,11]\n",
    "barPlot(alg,run,'Dataset')"
   ]
  },
  {
   "cell_type": "code",
   "execution_count": null,
   "metadata": {
    "collapsed": true
   },
   "outputs": [],
   "source": []
  }
 ],
 "metadata": {
  "kernelspec": {
   "display_name": "Python 2",
   "language": "python",
   "name": "python2"
  },
  "language_info": {
   "codemirror_mode": {
    "name": "ipython",
    "version": 2
   },
   "file_extension": ".py",
   "mimetype": "text/x-python",
   "name": "python",
   "nbconvert_exporter": "python",
   "pygments_lexer": "ipython2",
   "version": "2.7.9"
  }
 },
 "nbformat": 4,
 "nbformat_minor": 0
}
