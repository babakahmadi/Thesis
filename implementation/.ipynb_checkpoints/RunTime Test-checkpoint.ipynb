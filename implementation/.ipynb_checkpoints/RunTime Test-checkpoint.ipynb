{
 "cells": [
  {
   "cell_type": "markdown",
   "metadata": {
    "collapsed": true
   },
   "source": [
    "<h2 style=\"color:red\">Test Runtime for each algorithm</h2>"
   ]
  },
  {
   "cell_type": "code",
   "execution_count": 4,
   "metadata": {
    "collapsed": false
   },
   "outputs": [],
   "source": [
    "from lib import myDataset\n",
    "from lib import proposed\n",
    "from lib import myPlot\n",
    "from lib import otherMethods\n",
    "import numpy as np\n",
    "import time\n",
    "from lib import runtime\n",
    "\n",
    "from matplotlib import pyplot as plt\n",
    "%matplotlib inline"
   ]
  },
  {
   "cell_type": "code",
   "execution_count": 5,
   "metadata": {
    "collapsed": true
   },
   "outputs": [],
   "source": [
    "methods = [runtime.myLDA,runtime.myIsomap, runtime.myLLE, \n",
    "           runtime.myKPCA, runtime.myICA ]\n",
    "mine = [runtime.unsupervised, runtime.supervised]"
   ]
  },
  {
   "cell_type": "code",
   "execution_count": 6,
   "metadata": {
    "collapsed": false
   },
   "outputs": [],
   "source": [
    "x1,x2,y,name = myDataset.generateConcentric()\n",
    "X = np.zeros((x1.shape[0],2))\n",
    "X[:,0] = x1\n",
    "X[:,1] = x2"
   ]
  },
  {
   "cell_type": "code",
   "execution_count": 189,
   "metadata": {
    "collapsed": false
   },
   "outputs": [],
   "source": [
    "ansLDA = []\n",
    "for N in range(100,10001,100):\n",
    "    X,y,name = myDataset.generateTwoGaussianNum(N)\n",
    "    tmp = runtime.myLDA(X,y)\n",
    "    ansLDA.append(tmp)"
   ]
  },
  {
   "cell_type": "code",
   "execution_count": 128,
   "metadata": {
    "collapsed": false
   },
   "outputs": [
    {
     "data": {
      "text/plain": [
       "[0.021803178769914666,\n",
       " 0.0005770611724074115,\n",
       " 0.0007041934104563552,\n",
       " 0.0005555413936235709,\n",
       " 0.0006757210867363028,\n",
       " 0.0006078510123188607,\n",
       " 0.0007647798674952355,\n",
       " 0.0006674442483927123,\n",
       " 0.000849534692861198,\n",
       " 0.0006462555420512217,\n",
       " 0.0008515211338817608,\n",
       " 0.000733990028493281,\n",
       " 0.0007425979410982109,\n",
       " 0.0007382939847957459,\n",
       " 0.0008011979562070337,\n",
       " 0.0007647798674952355,\n",
       " 0.0007853064262235421,\n",
       " 0.0008084815744950902,\n",
       " 0.0009286612685173168,\n",
       " 0.0009776601518751704,\n",
       " 0.0009342895173176657,\n",
       " 0.0010544692113398924,\n",
       " 0.0010081189157062909,\n",
       " 0.001008781063319475,\n",
       " 0.0010687053727451712,\n",
       " 0.0010223550780210644,\n",
       " 0.001049503108333738,\n",
       " 0.001071353961378918,\n",
       " 0.0011061166824219981,\n",
       " 0.001276619553209457,\n",
       " 0.0012405325387589983,\n",
       " 0.0011551155657798517,\n",
       " 0.0011829257427962148,\n",
       " 0.0012057698168064235,\n",
       " 0.0013749483941865037,\n",
       " 0.0012673494948103325,\n",
       " 0.0013305845404829597,\n",
       " 0.001331246687186649,\n",
       " 0.001340185672233929,\n",
       " 0.001314030862886284,\n",
       " 0.0013994478358654305,\n",
       " 0.0013918331442255294,\n",
       " 0.0013842184525856283,\n",
       " 0.0014169947326081456,\n",
       " 0.0014401698808796937,\n",
       " 0.0014967834549679537,\n",
       " 0.0015944501483318163,\n",
       " 0.0015153235726756975,\n",
       " 0.001550417367980117,\n",
       " 0.0016298750169880805]"
      ]
     },
     "execution_count": 128,
     "metadata": {},
     "output_type": "execute_result"
    }
   ],
   "source": [
    "ansLDA"
   ]
  },
  {
   "cell_type": "code",
   "execution_count": null,
   "metadata": {
    "collapsed": false
   },
   "outputs": [
    {
     "name": "stdout",
     "output_type": "stream",
     "text": [
      "100\n",
      "200\n",
      "300\n",
      "400\n",
      "500\n",
      "600\n",
      "700\n",
      "800\n",
      "900\n",
      "1000\n",
      "1100\n",
      "1200\n",
      "1300\n",
      "1400\n",
      "1500\n",
      "1600\n",
      "1700\n",
      "1800\n",
      "1900\n",
      "2000\n",
      "2100\n",
      "2200\n",
      "2300\n",
      "2400\n",
      "2500\n",
      "2600\n",
      "2700\n",
      "2800\n",
      "2900\n",
      "3000\n",
      "3100\n",
      "3200\n",
      "3300\n",
      "3400\n",
      "3500\n",
      "3600\n",
      "3700\n",
      "3800\n",
      "3900\n",
      "4000\n",
      "4100\n",
      "4200\n",
      "4300\n",
      "4400\n",
      "4500\n",
      "4600\n",
      "4700\n",
      "4800\n",
      "4900\n",
      "5000\n",
      "5100\n",
      "5200\n",
      "5300\n",
      "5400\n",
      "5500\n",
      "5600\n",
      "5700\n",
      "5800\n",
      "5900\n",
      "6000"
     ]
    }
   ],
   "source": [
    "ansIsomap = []\n",
    "for N in range(100,10001,100):\n",
    "    print N\n",
    "    X,y,name = myDataset.generateTwoGaussianNum(N)\n",
    "    tmp = runtime.myIsomap(X,y)\n",
    "    ansIsomap.append(tmp)"
   ]
  },
  {
   "cell_type": "code",
   "execution_count": null,
   "metadata": {
    "collapsed": false
   },
   "outputs": [],
   "source": [
    "ansLLE = []\n",
    "for N in range(100,10001,100):\n",
    "    print N\n",
    "    X,y,name = myDataset.generateTwoGaussianNum(N)\n",
    "    ansLLE.append(runtime.myLLE(X,y))"
   ]
  },
  {
   "cell_type": "code",
   "execution_count": null,
   "metadata": {
    "collapsed": false
   },
   "outputs": [],
   "source": [
    "ansKPCA = []\n",
    "for N in range(100,10001,100):\n",
    "    print N\n",
    "    X,y,name = myDataset.generateTwoGaussianNum(N)\n",
    "    ansKPCA.append(runtime.myKPCA(X,y))"
   ]
  },
  {
   "cell_type": "code",
   "execution_count": null,
   "metadata": {
    "collapsed": false
   },
   "outputs": [],
   "source": [
    "ansICA = []\n",
    "for N in range(100,10001,100):\n",
    "    print N\n",
    "    X,y,name = myDataset.generateTwoGaussianNum(N)\n",
    "    ansICA.append(runtime.myICA(X,y))"
   ]
  },
  {
   "cell_type": "code",
   "execution_count": null,
   "metadata": {
    "collapsed": false
   },
   "outputs": [],
   "source": [
    "ansS = []\n",
    "for N in range(100,10001,100):\n",
    "    print N\n",
    "    X,y,name = myDataset.generateTwoGaussianNum(N)\n",
    "    ansS.append(runtime.supervised(X,y,5,100))"
   ]
  },
  {
   "cell_type": "code",
   "execution_count": null,
   "metadata": {
    "collapsed": false
   },
   "outputs": [],
   "source": [
    "ansU2 = []\n",
    "for N in range(100,10001,100):\n",
    "    print N\n",
    "    X,y,name = myDataset.generateTwoGaussianNum(N)\n",
    "    ansU2.append(runtime.unsupervised(X,y,7,100))"
   ]
  },
  {
   "cell_type": "code",
   "execution_count": null,
   "metadata": {
    "collapsed": true
   },
   "outputs": [],
   "source": [
    "ansSupervised = []\n",
    "for a in ansS:\n",
    "    ansSupervised.append(a[1])\n",
    "ansUnsupervised = []\n",
    "for a in ansU2:\n",
    "    ansUnsupervised.append(a[1])"
   ]
  },
  {
   "cell_type": "code",
   "execution_count": null,
   "metadata": {
    "collapsed": false
   },
   "outputs": [],
   "source": [
    "LWidth = 2.0\n",
    "# plt.plot(range(100,5001,100),ansLDA,'ro-')\n",
    "plt.plot(range(100,10001,100),ansLLE,'b-', label=\"LLE\" ,linewidth=LWidth)\n",
    "plt.plot(range(100,10001,100),ansIsomap,'c-',label=\"Isomap\", linewidth=LWidth)\n",
    "plt.plot(range(100,10001,100),ansKPCA,'y-', label=\"KPCA\",linewidth=LWidth)\n",
    "# plt.plot(range(100,5001,100),ansLDA,'go-')\n",
    "plt.plot(range(100,10001,100),ansUnsupervised,'k-',label=\"supervised\",linewidth=LWidth)\n",
    "plt.plot(range(100,10001,100),ansSupervised,'r-', label = \"unsupervised\",linewidth=LWidth)\n",
    "\n",
    "plt.legend(loc=\"upper left\")\n",
    "plt.savefig('runtime.png', format='png', dpi=1000)\n",
    "plt.show()"
   ]
  },
  {
   "cell_type": "code",
   "execution_count": 126,
   "metadata": {
    "collapsed": false
   },
   "outputs": [
    {
     "data": {
      "text/plain": [
       "[<matplotlib.lines.Line2D at 0x21e36668>]"
      ]
     },
     "execution_count": 126,
     "metadata": {},
     "output_type": "execute_result"
    },
    {
     "data": {
      "image/png": "[encoded data removed]",
      "text/plain": [
       "<matplotlib.figure.Figure at 0x1ee4af60>"
      ]
     },
     "metadata": {},
     "output_type": "display_data"
    }
   ],
   "source": [
    "plt.plot(range(100,5000,100),ansLDA,'ro-')\n",
    "plt.plot(range(100,5000,100),ansLLE,'bo-')\n",
    "plt.plot(range(100,4400,100),ansUnsupervised,'ko-')\n",
    "plt.plot(range(100,5000,100),ansSupervised,'co-')"
   ]
  },
  {
   "cell_type": "code",
   "execution_count": null,
   "metadata": {
    "collapsed": true
   },
   "outputs": [],
   "source": []
  },
  {
   "cell_type": "code",
   "execution_count": null,
   "metadata": {
    "collapsed": false
   },
   "outputs": [],
   "source": [
    "# for N in [10000,20000,50000,100000,200000,500000,1000000]:\n",
    "#     print N\n",
    "#     X,y,name = myDataset.generateTwoGaussianNum(N)\n",
    "#     X.shape\n",
    "#     for func in methods: \n",
    "#         print func.__name__\n",
    "        \n",
    "#         func(X,y)\n",
    "#     for func in mine: \n",
    "#         try:\n",
    "#             print func.__name__\n",
    "#             print func(X,y,2,100)\n",
    "#         except:\n",
    "#             pass"
   ]
  },
  {
   "cell_type": "code",
   "execution_count": 4,
   "metadata": {
    "collapsed": false
   },
   "outputs": [
    {
     "data": {
      "text/plain": [
       "(1000L, 2L)"
      ]
     },
     "execution_count": 4,
     "metadata": {},
     "output_type": "execute_result"
    }
   ],
   "source": [
    "X,y,name = myDataset.generateTwoGaussianNum(1000000)\n",
    "X.shape"
   ]
  },
  {
   "cell_type": "code",
   "execution_count": null,
   "metadata": {
    "collapsed": false
   },
   "outputs": [],
   "source": [
    "sp = []\n",
    "up = []\n",
    "s = []\n",
    "u = []\n",
    "for P in xrange(5,60):\n",
    "    t = runtime.supervised(X,y,P,10)\n",
    "    sp.append(t[0])\n",
    "    s.append(t[1])\n",
    "    t = runtime.unsupervised(X,y,P,10)\n",
    "    up.append(t[0])\n",
    "    u.append(t[1])"
   ]
  },
  {
   "cell_type": "code",
   "execution_count": null,
   "metadata": {
    "collapsed": false
   },
   "outputs": [],
   "source": [
    "plt.plot(range(5,60), sp , 'ro-')\n",
    "plt.plot(range(5,60), s , 'bo-')\n",
    "plt.show()\n",
    "plt.plot(range(5,60), up , 'ro-')\n",
    "plt.plot(range(5,60), u , 'bo-')"
   ]
  },
  {
   "cell_type": "code",
   "execution_count": null,
   "metadata": {
    "collapsed": false
   },
   "outputs": [],
   "source": [
    "min(u),min(s)"
   ]
  },
  {
   "cell_type": "code",
   "execution_count": null,
   "metadata": {
    "collapsed": false
   },
   "outputs": [],
   "source": [
    "min(up),min(sp)"
   ]
  },
  {
   "cell_type": "code",
   "execution_count": null,
   "metadata": {
    "collapsed": true
   },
   "outputs": [],
   "source": []
  }
 ],
 "metadata": {
  "kernelspec": {
   "display_name": "Python 2",
   "language": "python",
   "name": "python2"
  },
  "language_info": {
   "codemirror_mode": {
    "name": "ipython",
    "version": 2
   },
   "file_extension": ".py",
   "mimetype": "text/x-python",
   "name": "python",
   "nbconvert_exporter": "python",
   "pygments_lexer": "ipython2",
   "version": "2.7.9"
  }
 },
 "nbformat": 4,
 "nbformat_minor": 0
}
