{
 "cells": [
  {
   "cell_type": "markdown",
   "metadata": {},
   "source": [
    "__Bipartite Graph Construction Based on Prototype:__\n",
    " * gaussian for each feature ( $ \\sigma $ )\n",
    " * construct Bipartite Graph based on feature sample \n",
    " * Laplacian and it's eigenvectors\n",
    " * new representation\n",
    " * test "
   ]
  },
  {
   "cell_type": "code",
   "execution_count": 2,
   "metadata": {
    "collapsed": true
   },
   "outputs": [],
   "source": [
    "import numpy as np\n",
    "import pandas as pd\n",
    "import matplotlib.pyplot as plt\n",
    "import networkx as nx\n",
    "import pylab as pl\n",
    "%matplotlib inline"
   ]
  },
  {
   "cell_type": "code",
   "execution_count": 3,
   "metadata": {
    "collapsed": true
   },
   "outputs": [],
   "source": [
    "def generateTwoDisks():\n",
    "    angle = np.arange(0, np.pi*2, 0.15)\n",
    "\n",
    "    r1 = 50\n",
    "    r2 = 20\n",
    "    size = angle.shape[0]\n",
    "\n",
    "    x1 = r1 * np.cos(angle)\n",
    "    y1 = r1 * np.sin(angle)\n",
    "\n",
    "    x2 = r2 * np.cos(angle)\n",
    "    y2 = r2 * np.sin(angle)\n",
    "\n",
    "\n",
    "    EACH = 10\n",
    "    X = np.zeros(2*size*EACH)\n",
    "    Y = np.zeros(2*size*EACH)\n",
    "    label = np.zeros(2*size*EACH)\n",
    "    label[size*EACH:] = np.ones(size*EACH)\n",
    "\n",
    "    cov = [[5, 0], [0, 5]]  # diagonal covariance\n",
    "    for i in range(size):\n",
    "        X[i*EACH:(i+1)*EACH],Y[i*EACH:(i+1)*EACH] = np.random.multivariate_normal([x1[i],y1[i]], cov, EACH).T\n",
    "        X[(i+size)*EACH:(i+size+1)*EACH],Y[(i+size)*EACH:(i+size+1)*EACH] = np.random.multivariate_normal([x2[i],y2[i]], cov, EACH).T\n",
    "    return X,Y,label,\"Disks\"\n",
    "\n",
    "def generateTwoGaussian():\n",
    "    mean1 = [-2, -2]\n",
    "    cov1 = [[1, 0], [0, 1]]  # diagonal covariance\n",
    "    mean2 = [2,2]\n",
    "    cov2 = [[1, 0], [0, 1]]  # diagonal covariance\n",
    "\n",
    "    # data\n",
    "    x = np.zeros(200)\n",
    "    y = np.zeros(200)\n",
    "    label = np.zeros(200)\n",
    "    x[:100], y[:100] = np.random.multivariate_normal(mean1, cov1, 100).T\n",
    "    x[100:], y[100:] = np.random.multivariate_normal(mean2, cov2, 100).T\n",
    "    label[100:] = np.ones(100)\n",
    "    return x,y,label,\"Gaussian\"\n",
    "\n",
    "def generateTwoParabola():\n",
    "    x1 = np.linspace(-10, 10, 40)\n",
    "    y1 = .22*x1**2 + .024*x1 + .04  \n",
    "\n",
    "    x2 = np.linspace(0, 20, 40)\n",
    "    y2 = -.2*(x2-10)**2 - .024*(x2-10) + 35\n",
    "\n",
    "    size = x1.shape[0]\n",
    "    EACH = 10\n",
    "    X = np.zeros(2*size*EACH)\n",
    "    Y = np.zeros(2*size*EACH)\n",
    "    label = np.zeros(2*size*EACH)\n",
    "    label[size*EACH:] = np.ones(size*EACH)\n",
    "\n",
    "    cov = [[1, 0], [0, 1]]  # diagonal covariance\n",
    "    for i in range(size):\n",
    "        X[i*EACH:(i+1)*EACH],Y[i*EACH:(i+1)*EACH] = np.random.multivariate_normal([x1[i],y1[i]], cov, EACH).T\n",
    "        X[(i+size)*EACH:(i+size+1)*EACH],Y[(i+size)*EACH:(i+size+1)*EACH] = np.random.multivariate_normal([x2[i],y2[i]], cov, EACH).T\n",
    "    return X,Y,label,\"Parabolas\"\n",
    "\n",
    "\n",
    "def plotData(x,y,label,dataName):\n",
    "    plt.plot(x[label==0], y[label==0], 'bo')\n",
    "    plt.plot(x[label==1], y[label==1], 'ro')\n",
    "    plt.axis('equal')\n",
    "    plt.savefig(dataName+'.jpg')\n",
    "    plt.show()"
   ]
  },
  {
   "cell_type": "markdown",
   "metadata": {},
   "source": [
    "<h2 style=\"color:red\"> __feature gaussian inference__ </h2>"
   ]
  },
  {
   "cell_type": "code",
   "execution_count": null,
   "metadata": {
    "collapsed": true
   },
   "outputs": [],
   "source": []
  }
 ],
 "metadata": {
  "kernelspec": {
   "display_name": "Python 2",
   "language": "python",
   "name": "python2"
  },
  "language_info": {
   "codemirror_mode": {
    "name": "ipython",
    "version": 2
   },
   "file_extension": ".py",
   "mimetype": "text/x-python",
   "name": "python",
   "nbconvert_exporter": "python",
   "pygments_lexer": "ipython2",
   "version": "2.7.9"
  }
 },
 "nbformat": 4,
 "nbformat_minor": 0
}
